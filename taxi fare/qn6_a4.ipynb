{
 "cells": [
  {
   "cell_type": "code",
   "execution_count": 27,
   "id": "b8db6f05",
   "metadata": {},
   "outputs": [
    {
     "data": {
      "text/html": [
       "<div>\n",
       "<style scoped>\n",
       "    .dataframe tbody tr th:only-of-type {\n",
       "        vertical-align: middle;\n",
       "    }\n",
       "\n",
       "    .dataframe tbody tr th {\n",
       "        vertical-align: top;\n",
       "    }\n",
       "\n",
       "    .dataframe thead th {\n",
       "        text-align: right;\n",
       "    }\n",
       "</style>\n",
       "<table border=\"1\" class=\"dataframe\">\n",
       "  <thead>\n",
       "    <tr style=\"text-align: right;\">\n",
       "      <th></th>\n",
       "      <th>fare_amount</th>\n",
       "      <th>pickup_longitude</th>\n",
       "      <th>pickup_latitude</th>\n",
       "      <th>dropoff_longitude</th>\n",
       "      <th>dropoff_latitude</th>\n",
       "      <th>passenger_count</th>\n",
       "    </tr>\n",
       "  </thead>\n",
       "  <tbody>\n",
       "    <tr>\n",
       "      <th>count</th>\n",
       "      <td>200000.000000</td>\n",
       "      <td>200000.000000</td>\n",
       "      <td>200000.000000</td>\n",
       "      <td>199999.000000</td>\n",
       "      <td>199999.000000</td>\n",
       "      <td>200000.000000</td>\n",
       "    </tr>\n",
       "    <tr>\n",
       "      <th>mean</th>\n",
       "      <td>11.342877</td>\n",
       "      <td>-72.506121</td>\n",
       "      <td>39.922326</td>\n",
       "      <td>-72.518673</td>\n",
       "      <td>39.925579</td>\n",
       "      <td>1.682445</td>\n",
       "    </tr>\n",
       "    <tr>\n",
       "      <th>std</th>\n",
       "      <td>9.837855</td>\n",
       "      <td>11.608097</td>\n",
       "      <td>10.048947</td>\n",
       "      <td>10.724226</td>\n",
       "      <td>6.751120</td>\n",
       "      <td>1.306730</td>\n",
       "    </tr>\n",
       "    <tr>\n",
       "      <th>min</th>\n",
       "      <td>-44.900000</td>\n",
       "      <td>-736.550000</td>\n",
       "      <td>-3116.285383</td>\n",
       "      <td>-1251.195890</td>\n",
       "      <td>-1189.615440</td>\n",
       "      <td>0.000000</td>\n",
       "    </tr>\n",
       "    <tr>\n",
       "      <th>25%</th>\n",
       "      <td>6.000000</td>\n",
       "      <td>-73.992050</td>\n",
       "      <td>40.735007</td>\n",
       "      <td>-73.991295</td>\n",
       "      <td>40.734092</td>\n",
       "      <td>1.000000</td>\n",
       "    </tr>\n",
       "    <tr>\n",
       "      <th>50%</th>\n",
       "      <td>8.500000</td>\n",
       "      <td>-73.981743</td>\n",
       "      <td>40.752761</td>\n",
       "      <td>-73.980072</td>\n",
       "      <td>40.753225</td>\n",
       "      <td>1.000000</td>\n",
       "    </tr>\n",
       "    <tr>\n",
       "      <th>75%</th>\n",
       "      <td>12.500000</td>\n",
       "      <td>-73.967068</td>\n",
       "      <td>40.767127</td>\n",
       "      <td>-73.963508</td>\n",
       "      <td>40.768070</td>\n",
       "      <td>2.000000</td>\n",
       "    </tr>\n",
       "    <tr>\n",
       "      <th>max</th>\n",
       "      <td>500.000000</td>\n",
       "      <td>2140.601160</td>\n",
       "      <td>1703.092772</td>\n",
       "      <td>40.851027</td>\n",
       "      <td>404.616667</td>\n",
       "      <td>6.000000</td>\n",
       "    </tr>\n",
       "  </tbody>\n",
       "</table>\n",
       "</div>"
      ],
      "text/plain": [
       "         fare_amount  pickup_longitude  pickup_latitude  dropoff_longitude  \\\n",
       "count  200000.000000     200000.000000    200000.000000      199999.000000   \n",
       "mean       11.342877        -72.506121        39.922326         -72.518673   \n",
       "std         9.837855         11.608097        10.048947          10.724226   \n",
       "min       -44.900000       -736.550000     -3116.285383       -1251.195890   \n",
       "25%         6.000000        -73.992050        40.735007         -73.991295   \n",
       "50%         8.500000        -73.981743        40.752761         -73.980072   \n",
       "75%        12.500000        -73.967068        40.767127         -73.963508   \n",
       "max       500.000000       2140.601160      1703.092772          40.851027   \n",
       "\n",
       "       dropoff_latitude  passenger_count  \n",
       "count     199999.000000    200000.000000  \n",
       "mean          39.925579         1.682445  \n",
       "std            6.751120         1.306730  \n",
       "min        -1189.615440         0.000000  \n",
       "25%           40.734092         1.000000  \n",
       "50%           40.753225         1.000000  \n",
       "75%           40.768070         2.000000  \n",
       "max          404.616667         6.000000  "
      ]
     },
     "execution_count": 27,
     "metadata": {},
     "output_type": "execute_result"
    }
   ],
   "source": [
    "# importing required libraries.\n",
    "import pandas as pd\n",
    "import numpy as np\n",
    "import csv\n",
    "# uploading train and test data.\n",
    "df = pd.read_csv(\"F:/ai2000/assign/a4/new-york-city-taxi-fare-prediction/train.csv\",delimiter=',', nrows = 200000)\n",
    "df1 = pd.read_csv(\"F:/ai2000/assign/a4/new-york-city-taxi-fare-prediction/test.csv\",delimiter=',')\n",
    "## Analyzing data for cleansing.\n",
    "df.describe()"
   ]
  },
  {
   "cell_type": "code",
   "execution_count": 28,
   "id": "d8cd51ed",
   "metadata": {},
   "outputs": [],
   "source": [
    "submission = pd.DataFrame()\n",
    "submission['key'] = df1['key']"
   ]
  },
  {
   "cell_type": "code",
   "execution_count": 29,
   "id": "2aa40aa7",
   "metadata": {},
   "outputs": [
    {
     "data": {
      "text/html": [
       "<div>\n",
       "<style scoped>\n",
       "    .dataframe tbody tr th:only-of-type {\n",
       "        vertical-align: middle;\n",
       "    }\n",
       "\n",
       "    .dataframe tbody tr th {\n",
       "        vertical-align: top;\n",
       "    }\n",
       "\n",
       "    .dataframe thead th {\n",
       "        text-align: right;\n",
       "    }\n",
       "</style>\n",
       "<table border=\"1\" class=\"dataframe\">\n",
       "  <thead>\n",
       "    <tr style=\"text-align: right;\">\n",
       "      <th></th>\n",
       "      <th>pickup_longitude</th>\n",
       "      <th>pickup_latitude</th>\n",
       "      <th>dropoff_longitude</th>\n",
       "      <th>dropoff_latitude</th>\n",
       "      <th>passenger_count</th>\n",
       "    </tr>\n",
       "  </thead>\n",
       "  <tbody>\n",
       "    <tr>\n",
       "      <th>count</th>\n",
       "      <td>9914.000000</td>\n",
       "      <td>9914.000000</td>\n",
       "      <td>9914.000000</td>\n",
       "      <td>9914.000000</td>\n",
       "      <td>9914.000000</td>\n",
       "    </tr>\n",
       "    <tr>\n",
       "      <th>mean</th>\n",
       "      <td>-73.974722</td>\n",
       "      <td>40.751041</td>\n",
       "      <td>-73.973657</td>\n",
       "      <td>40.751743</td>\n",
       "      <td>1.671273</td>\n",
       "    </tr>\n",
       "    <tr>\n",
       "      <th>std</th>\n",
       "      <td>0.042774</td>\n",
       "      <td>0.033541</td>\n",
       "      <td>0.039072</td>\n",
       "      <td>0.035435</td>\n",
       "      <td>1.278747</td>\n",
       "    </tr>\n",
       "    <tr>\n",
       "      <th>min</th>\n",
       "      <td>-74.252193</td>\n",
       "      <td>40.573143</td>\n",
       "      <td>-74.263242</td>\n",
       "      <td>40.568973</td>\n",
       "      <td>1.000000</td>\n",
       "    </tr>\n",
       "    <tr>\n",
       "      <th>25%</th>\n",
       "      <td>-73.992501</td>\n",
       "      <td>40.736125</td>\n",
       "      <td>-73.991247</td>\n",
       "      <td>40.735254</td>\n",
       "      <td>1.000000</td>\n",
       "    </tr>\n",
       "    <tr>\n",
       "      <th>50%</th>\n",
       "      <td>-73.982326</td>\n",
       "      <td>40.753051</td>\n",
       "      <td>-73.980015</td>\n",
       "      <td>40.754065</td>\n",
       "      <td>1.000000</td>\n",
       "    </tr>\n",
       "    <tr>\n",
       "      <th>75%</th>\n",
       "      <td>-73.968013</td>\n",
       "      <td>40.767113</td>\n",
       "      <td>-73.964059</td>\n",
       "      <td>40.768757</td>\n",
       "      <td>2.000000</td>\n",
       "    </tr>\n",
       "    <tr>\n",
       "      <th>max</th>\n",
       "      <td>-72.986532</td>\n",
       "      <td>41.709555</td>\n",
       "      <td>-72.990963</td>\n",
       "      <td>41.696683</td>\n",
       "      <td>6.000000</td>\n",
       "    </tr>\n",
       "  </tbody>\n",
       "</table>\n",
       "</div>"
      ],
      "text/plain": [
       "       pickup_longitude  pickup_latitude  dropoff_longitude  dropoff_latitude  \\\n",
       "count       9914.000000      9914.000000        9914.000000       9914.000000   \n",
       "mean         -73.974722        40.751041         -73.973657         40.751743   \n",
       "std            0.042774         0.033541           0.039072          0.035435   \n",
       "min          -74.252193        40.573143         -74.263242         40.568973   \n",
       "25%          -73.992501        40.736125         -73.991247         40.735254   \n",
       "50%          -73.982326        40.753051         -73.980015         40.754065   \n",
       "75%          -73.968013        40.767113         -73.964059         40.768757   \n",
       "max          -72.986532        41.709555         -72.990963         41.696683   \n",
       "\n",
       "       passenger_count  \n",
       "count      9914.000000  \n",
       "mean          1.671273  \n",
       "std           1.278747  \n",
       "min           1.000000  \n",
       "25%           1.000000  \n",
       "50%           1.000000  \n",
       "75%           2.000000  \n",
       "max           6.000000  "
      ]
     },
     "execution_count": 29,
     "metadata": {},
     "output_type": "execute_result"
    }
   ],
   "source": [
    "df1.describe()"
   ]
  },
  {
   "cell_type": "code",
   "execution_count": 30,
   "id": "9dec706c",
   "metadata": {},
   "outputs": [
    {
     "name": "stdout",
     "output_type": "stream",
     "text": [
      "key                  0\n",
      "fare_amount          0\n",
      "pickup_datetime      0\n",
      "pickup_longitude     0\n",
      "pickup_latitude      0\n",
      "dropoff_longitude    1\n",
      "dropoff_latitude     1\n",
      "passenger_count      0\n",
      "dtype: int64\n"
     ]
    }
   ],
   "source": [
    "# As we can see that some fare_amounts are negative. So we should remove it.\n",
    "df = df[df.fare_amount>=0]\n",
    "# Checking for missing values in the data.\n",
    "print(df.isnull().sum())"
   ]
  },
  {
   "cell_type": "code",
   "execution_count": 31,
   "id": "2a31369d",
   "metadata": {},
   "outputs": [
    {
     "name": "stdout",
     "output_type": "stream",
     "text": [
      "key                  0\n",
      "fare_amount          0\n",
      "pickup_datetime      0\n",
      "pickup_longitude     0\n",
      "pickup_latitude      0\n",
      "dropoff_longitude    0\n",
      "dropoff_latitude     0\n",
      "passenger_count      0\n",
      "dtype: int64\n"
     ]
    }
   ],
   "source": [
    "# As we can see that there are some missing values present in the data. So removing those rows.\n",
    "df = df.dropna()\n",
    "print(df.isnull().sum())"
   ]
  },
  {
   "cell_type": "code",
   "execution_count": 32,
   "id": "2467ca16",
   "metadata": {},
   "outputs": [
    {
     "data": {
      "text/plain": [
       "count    199986.000000\n",
       "mean         11.344032\n",
       "std           9.836736\n",
       "min           0.000000\n",
       "25%           6.000000\n",
       "50%           8.500000\n",
       "75%          12.500000\n",
       "max         500.000000\n",
       "Name: fare_amount, dtype: float64"
      ]
     },
     "execution_count": 32,
     "metadata": {},
     "output_type": "execute_result"
    }
   ],
   "source": [
    "# Checking fare_amount column.\n",
    "df['fare_amount'].describe()"
   ]
  },
  {
   "cell_type": "code",
   "execution_count": 33,
   "id": "4bc08b13",
   "metadata": {},
   "outputs": [
    {
     "data": {
      "text/plain": [
       "count    199986.000000\n",
       "mean          1.682423\n",
       "std           1.306692\n",
       "min           0.000000\n",
       "25%           1.000000\n",
       "50%           1.000000\n",
       "75%           2.000000\n",
       "max           6.000000\n",
       "Name: passenger_count, dtype: float64"
      ]
     },
     "execution_count": 33,
     "metadata": {},
     "output_type": "execute_result"
    }
   ],
   "source": [
    "# Checking passenger_count column.\n",
    "df['passenger_count'].describe()"
   ]
  },
  {
   "cell_type": "code",
   "execution_count": 34,
   "id": "5a79e567",
   "metadata": {},
   "outputs": [
    {
     "data": {
      "text/plain": [
       "count    199986.000000\n",
       "mean          1.682423\n",
       "std           1.306692\n",
       "min           0.000000\n",
       "25%           1.000000\n",
       "50%           1.000000\n",
       "75%           2.000000\n",
       "max           6.000000\n",
       "Name: passenger_count, dtype: float64"
      ]
     },
     "execution_count": 34,
     "metadata": {},
     "output_type": "execute_result"
    }
   ],
   "source": [
    "# Dropping a row if passenger_count>6 as a taxi cannot carry more than 6 passengers at a time.\n",
    "df = df.drop(df[df['passenger_count']>6].index, axis = 0)\n",
    "df['passenger_count'].describe()"
   ]
  },
  {
   "cell_type": "code",
   "execution_count": 35,
   "id": "116e69d5",
   "metadata": {},
   "outputs": [
    {
     "name": "stdout",
     "output_type": "stream",
     "text": [
      "pickup_latitude:\n",
      " count    199986.000000\n",
      "mean         39.922268\n",
      "std          10.049296\n",
      "min       -3116.285383\n",
      "25%          40.735006\n",
      "50%          40.752761\n",
      "75%          40.767126\n",
      "max        1703.092772\n",
      "Name: pickup_latitude, dtype: float64 \n",
      "\n",
      "pickup_longitude:\n",
      " count    199986.000000\n",
      "mean        -72.506021\n",
      "std          11.608497\n",
      "min        -736.550000\n",
      "25%         -73.992050\n",
      "50%         -73.981743\n",
      "75%         -73.967070\n",
      "max        2140.601160\n",
      "Name: pickup_longitude, dtype: float64 \n",
      "\n",
      "dropoff_latitude:\n",
      " count    199986.000000\n",
      "mean         39.925729\n",
      "std           6.750746\n",
      "min       -1189.615440\n",
      "25%          40.734092\n",
      "50%          40.753225\n",
      "75%          40.768070\n",
      "max         404.616667\n",
      "Name: dropoff_latitude, dtype: float64 \n",
      "\n",
      "dropoff_longitude:\n",
      " count    199986.000000\n",
      "mean        -72.518951\n",
      "std          10.723343\n",
      "min       -1251.195890\n",
      "25%         -73.991296\n",
      "50%         -73.980072\n",
      "75%         -73.963509\n",
      "max          40.851027\n",
      "Name: dropoff_longitude, dtype: float64\n"
     ]
    }
   ],
   "source": [
    "# Now let us observe pickup and drop off coordinates.\n",
    "## In general latitudes should lie between -90 to +90 degree\n",
    "## In general longitudes should lie between -180 to +180 degree\n",
    "### So, we need to drop the outliers\n",
    "print(\"pickup_latitude:\\n\",df['pickup_latitude'].describe(),\"\\n\")\n",
    "print(\"pickup_longitude:\\n\",df['pickup_longitude'].describe(),\"\\n\")\n",
    "print(\"dropoff_latitude:\\n\",df['dropoff_latitude'].describe(),\"\\n\")\n",
    "print(\"dropoff_longitude:\\n\",df['dropoff_longitude'].describe())"
   ]
  },
  {
   "cell_type": "code",
   "execution_count": 36,
   "id": "8b8a4112",
   "metadata": {},
   "outputs": [
    {
     "name": "stdout",
     "output_type": "stream",
     "text": [
      "pickup_latitude:\n",
      " count    199980.000000\n",
      "mean         39.927916\n",
      "std           6.057515\n",
      "min         -74.007670\n",
      "25%          40.735008\n",
      "50%          40.752762\n",
      "75%          40.767125\n",
      "max          69.400000\n",
      "Name: pickup_latitude, dtype: float64 \n",
      "\n",
      "pickup_longitude:\n",
      " count    199980.000000\n",
      "mean        -72.514107\n",
      "std          10.394136\n",
      "min         -78.083332\n",
      "25%         -73.992050\n",
      "50%         -73.981743\n",
      "75%         -73.967071\n",
      "max          40.811147\n",
      "Name: pickup_longitude, dtype: float64 \n",
      "\n",
      "dropoff_latitude:\n",
      " count    199980.000000\n",
      "mean         39.928220\n",
      "std           6.056889\n",
      "min         -74.035197\n",
      "25%          40.734092\n",
      "50%          40.753225\n",
      "75%          40.768070\n",
      "max          43.415190\n",
      "Name: dropoff_latitude, dtype: float64 \n",
      "\n",
      "dropoff_longitude:\n",
      " count    199980.000000\n",
      "mean        -72.513021\n",
      "std          10.394533\n",
      "min         -84.654241\n",
      "25%         -73.991295\n",
      "50%         -73.980072\n",
      "75%         -73.963509\n",
      "max          40.851027\n",
      "Name: dropoff_longitude, dtype: float64\n"
     ]
    }
   ],
   "source": [
    "# We are observing that there are some outliers present in the data.\n",
    "## Dropping those rows from the data.\n",
    "df = df.drop(((df[df['pickup_latitude']<-90])).index, axis=0)\n",
    "df = df.drop(((df[df['pickup_latitude']>90])).index, axis=0)\n",
    "df = df.drop(((df[df['pickup_longitude']<-180])).index, axis=0)\n",
    "df = df.drop(((df[df['pickup_longitude']>180])).index, axis=0)\n",
    "df = df.drop(((df[df['dropoff_latitude']<-90])).index, axis=0)\n",
    "df = df.drop(((df[df['dropoff_latitude']>90])).index, axis=0)\n",
    "df = df.drop(((df[df['dropoff_longitude']<-180])).index, axis=0)\n",
    "df = df.drop(((df[df['dropoff_longitude']>180])).index, axis=0)\n",
    "print(\"pickup_latitude:\\n\",df['pickup_latitude'].describe(),\"\\n\")\n",
    "print(\"pickup_longitude:\\n\",df['pickup_longitude'].describe(),\"\\n\")\n",
    "print(\"dropoff_latitude:\\n\",df['dropoff_latitude'].describe(),\"\\n\")\n",
    "print(\"dropoff_longitude:\\n\",df['dropoff_longitude'].describe())"
   ]
  },
  {
   "cell_type": "code",
   "execution_count": 12,
   "id": "0b8a6698",
   "metadata": {},
   "outputs": [],
   "source": [
    "#print(\"pickup_latitude:\\n\",df1['pickup_latitude'].describe(),\"\\n\")\n",
    "#print(\"pickup_longitude:\\n\",df1['pickup_longitude'].describe(),\"\\n\")\n",
    "#print(\"dropoff_latitude:\\n\",df1['dropoff_latitude'].describe(),\"\\n\")\n",
    "#print(\"dropoff_longitude:\\n\",df1['dropoff_longitude'].describe())"
   ]
  },
  {
   "cell_type": "code",
   "execution_count": 13,
   "id": "4fe9c76d",
   "metadata": {},
   "outputs": [],
   "source": [
    "# Observing data types and changing the object data types into accessible datetime type."
   ]
  },
  {
   "cell_type": "code",
   "execution_count": 37,
   "id": "0f859f04",
   "metadata": {},
   "outputs": [
    {
     "name": "stdout",
     "output_type": "stream",
     "text": [
      "Training data:\n",
      " key                   object\n",
      "fare_amount          float64\n",
      "pickup_datetime       object\n",
      "pickup_longitude     float64\n",
      "pickup_latitude      float64\n",
      "dropoff_longitude    float64\n",
      "dropoff_latitude     float64\n",
      "passenger_count        int64\n",
      "dtype: object \n",
      "\n",
      "Test data:\n",
      " key                   object\n",
      "pickup_datetime       object\n",
      "pickup_longitude     float64\n",
      "pickup_latitude      float64\n",
      "dropoff_longitude    float64\n",
      "dropoff_latitude     float64\n",
      "passenger_count        int64\n",
      "dtype: object \n",
      "\n"
     ]
    }
   ],
   "source": [
    "# Observing data types of both training and testing data.\n",
    "print(\"Training data:\\n\",df.dtypes,\"\\n\")\n",
    "print(\"Test data:\\n\",df1.dtypes,\"\\n\")\n",
    "df['key'] = pd.to_datetime(df['key'])\n",
    "df['pickup_datetime']  = pd.to_datetime(df['pickup_datetime'])\n",
    "df1['key'] = pd.to_datetime(df1['key'])\n",
    "df1['pickup_datetime']  = pd.to_datetime(df1['pickup_datetime'])"
   ]
  },
  {
   "cell_type": "code",
   "execution_count": 38,
   "id": "03623455",
   "metadata": {},
   "outputs": [
    {
     "name": "stdout",
     "output_type": "stream",
     "text": [
      "Training data after changing:\n",
      " key                       datetime64[ns]\n",
      "fare_amount                      float64\n",
      "pickup_datetime      datetime64[ns, UTC]\n",
      "pickup_longitude                 float64\n",
      "pickup_latitude                  float64\n",
      "dropoff_longitude                float64\n",
      "dropoff_latitude                 float64\n",
      "passenger_count                    int64\n",
      "dtype: object \n",
      "\n",
      "Test data after changing:\n",
      " key                       datetime64[ns]\n",
      "pickup_datetime      datetime64[ns, UTC]\n",
      "pickup_longitude                 float64\n",
      "pickup_latitude                  float64\n",
      "dropoff_longitude                float64\n",
      "dropoff_latitude                 float64\n",
      "passenger_count                    int64\n",
      "dtype: object \n",
      "\n"
     ]
    }
   ],
   "source": [
    "print(\"Training data after changing:\\n\",df.dtypes,\"\\n\")\n",
    "print(\"Test data after changing:\\n\",df1.dtypes,\"\\n\")"
   ]
  },
  {
   "cell_type": "code",
   "execution_count": 39,
   "id": "88287012",
   "metadata": {},
   "outputs": [
    {
     "data": {
      "text/html": [
       "<div>\n",
       "<style scoped>\n",
       "    .dataframe tbody tr th:only-of-type {\n",
       "        vertical-align: middle;\n",
       "    }\n",
       "\n",
       "    .dataframe tbody tr th {\n",
       "        vertical-align: top;\n",
       "    }\n",
       "\n",
       "    .dataframe thead th {\n",
       "        text-align: right;\n",
       "    }\n",
       "</style>\n",
       "<table border=\"1\" class=\"dataframe\">\n",
       "  <thead>\n",
       "    <tr style=\"text-align: right;\">\n",
       "      <th></th>\n",
       "      <th>key</th>\n",
       "      <th>fare_amount</th>\n",
       "      <th>pickup_datetime</th>\n",
       "      <th>pickup_longitude</th>\n",
       "      <th>pickup_latitude</th>\n",
       "      <th>dropoff_longitude</th>\n",
       "      <th>dropoff_latitude</th>\n",
       "      <th>passenger_count</th>\n",
       "    </tr>\n",
       "  </thead>\n",
       "  <tbody>\n",
       "    <tr>\n",
       "      <th>0</th>\n",
       "      <td>2009-06-15 17:26:21.000000100</td>\n",
       "      <td>4.5</td>\n",
       "      <td>2009-06-15 17:26:21+00:00</td>\n",
       "      <td>-73.844311</td>\n",
       "      <td>40.721319</td>\n",
       "      <td>-73.841610</td>\n",
       "      <td>40.712278</td>\n",
       "      <td>1</td>\n",
       "    </tr>\n",
       "    <tr>\n",
       "      <th>1</th>\n",
       "      <td>2010-01-05 16:52:16.000000200</td>\n",
       "      <td>16.9</td>\n",
       "      <td>2010-01-05 16:52:16+00:00</td>\n",
       "      <td>-74.016048</td>\n",
       "      <td>40.711303</td>\n",
       "      <td>-73.979268</td>\n",
       "      <td>40.782004</td>\n",
       "      <td>1</td>\n",
       "    </tr>\n",
       "    <tr>\n",
       "      <th>2</th>\n",
       "      <td>2011-08-18 00:35:00.000000490</td>\n",
       "      <td>5.7</td>\n",
       "      <td>2011-08-18 00:35:00+00:00</td>\n",
       "      <td>-73.982738</td>\n",
       "      <td>40.761270</td>\n",
       "      <td>-73.991242</td>\n",
       "      <td>40.750562</td>\n",
       "      <td>2</td>\n",
       "    </tr>\n",
       "    <tr>\n",
       "      <th>3</th>\n",
       "      <td>2012-04-21 04:30:42.000000100</td>\n",
       "      <td>7.7</td>\n",
       "      <td>2012-04-21 04:30:42+00:00</td>\n",
       "      <td>-73.987130</td>\n",
       "      <td>40.733143</td>\n",
       "      <td>-73.991567</td>\n",
       "      <td>40.758092</td>\n",
       "      <td>1</td>\n",
       "    </tr>\n",
       "    <tr>\n",
       "      <th>4</th>\n",
       "      <td>2010-03-09 07:51:00.000000135</td>\n",
       "      <td>5.3</td>\n",
       "      <td>2010-03-09 07:51:00+00:00</td>\n",
       "      <td>-73.968095</td>\n",
       "      <td>40.768008</td>\n",
       "      <td>-73.956655</td>\n",
       "      <td>40.783762</td>\n",
       "      <td>1</td>\n",
       "    </tr>\n",
       "  </tbody>\n",
       "</table>\n",
       "</div>"
      ],
      "text/plain": [
       "                            key  fare_amount           pickup_datetime  \\\n",
       "0 2009-06-15 17:26:21.000000100          4.5 2009-06-15 17:26:21+00:00   \n",
       "1 2010-01-05 16:52:16.000000200         16.9 2010-01-05 16:52:16+00:00   \n",
       "2 2011-08-18 00:35:00.000000490          5.7 2011-08-18 00:35:00+00:00   \n",
       "3 2012-04-21 04:30:42.000000100          7.7 2012-04-21 04:30:42+00:00   \n",
       "4 2010-03-09 07:51:00.000000135          5.3 2010-03-09 07:51:00+00:00   \n",
       "\n",
       "   pickup_longitude  pickup_latitude  dropoff_longitude  dropoff_latitude  \\\n",
       "0        -73.844311        40.721319         -73.841610         40.712278   \n",
       "1        -74.016048        40.711303         -73.979268         40.782004   \n",
       "2        -73.982738        40.761270         -73.991242         40.750562   \n",
       "3        -73.987130        40.733143         -73.991567         40.758092   \n",
       "4        -73.968095        40.768008         -73.956655         40.783762   \n",
       "\n",
       "   passenger_count  \n",
       "0                1  \n",
       "1                1  \n",
       "2                2  \n",
       "3                1  \n",
       "4                1  "
      ]
     },
     "execution_count": 39,
     "metadata": {},
     "output_type": "execute_result"
    }
   ],
   "source": [
    "df.head()"
   ]
  },
  {
   "cell_type": "code",
   "execution_count": 40,
   "id": "d66e0346",
   "metadata": {},
   "outputs": [],
   "source": [
    "data = [df]\n",
    "for i in data:\n",
    "    i['Year'] = i['pickup_datetime'].dt.year\n",
    "    i['Month'] = i['pickup_datetime'].dt.month\n",
    "    i['Date'] = i['pickup_datetime'].dt.day\n",
    "    i['Day of Week'] = i['pickup_datetime'].dt.dayofweek\n",
    "    i['Hour'] = i['pickup_datetime'].dt.hour\n",
    "\n",
    "data1 = [df1]\n",
    "for i in data1:\n",
    "    i['Year'] = i['pickup_datetime'].dt.year\n",
    "    i['Month'] = i['pickup_datetime'].dt.month\n",
    "    i['Date'] = i['pickup_datetime'].dt.day\n",
    "    i['Day of Week'] = i['pickup_datetime'].dt.dayofweek\n",
    "    i['Hour'] = i['pickup_datetime'].dt.hour"
   ]
  },
  {
   "cell_type": "code",
   "execution_count": 41,
   "id": "014313ff",
   "metadata": {},
   "outputs": [],
   "source": [
    "#pickup latitude and longitude = 0\n",
    "df = df.drop(df.loc[((df['pickup_latitude']==0) & (df['pickup_longitude']==0))&((df['dropoff_latitude']!=0) & (df['dropoff_longitude']!=0)) & (df['fare_amount']==0)].index,axis=1)"
   ]
  },
  {
   "cell_type": "code",
   "execution_count": 42,
   "id": "069a24b9",
   "metadata": {},
   "outputs": [],
   "source": [
    "#dropoff latitude and longitude = 0\n",
    "df = df.drop(df.loc[((df['pickup_latitude']!=0) & (df['pickup_longitude']!=0))&((df['dropoff_latitude']==0) & (df['dropoff_longitude']==0)) & (df['fare_amount']==0)].index,axis=1)"
   ]
  },
  {
   "cell_type": "code",
   "execution_count": 43,
   "id": "be2629de",
   "metadata": {},
   "outputs": [],
   "source": [
    "df = df.drop(['key','pickup_datetime'], axis = 1)\n",
    "df1 = df1.drop(['key','pickup_datetime'], axis = 1)\n",
    "X_train = df.iloc[:,df.columns!='fare_amount']\n",
    "y_train = df['fare_amount'].values\n",
    "X_test = df1"
   ]
  },
  {
   "cell_type": "code",
   "execution_count": 44,
   "id": "47640685",
   "metadata": {},
   "outputs": [],
   "source": [
    "from sklearn.ensemble import RandomForestRegressor\n",
    "model = RandomForestRegressor()\n",
    "model.fit(X_train, y_train)\n",
    "y_pred = model.predict(X_test)"
   ]
  },
  {
   "cell_type": "code",
   "execution_count": 45,
   "id": "c7a5a4cf",
   "metadata": {},
   "outputs": [],
   "source": [
    "submission['fare_amount'] = y_pred\n",
    "submission.to_csv('sub0.csv', index=False)"
   ]
  },
  {
   "cell_type": "code",
   "execution_count": 46,
   "id": "06df682f",
   "metadata": {},
   "outputs": [
    {
     "name": "stdout",
     "output_type": "stream",
     "text": [
      "[ 9.05362718  9.61645658  7.39193543 ... 53.87428818 20.7764783\n",
      "  8.70201577]\n"
     ]
    }
   ],
   "source": [
    "# build the lightgbm model\n",
    "import lightgbm as lgb\n",
    "model = lgb.LGBMRegressor(num_leaves=31,learning_rate=0.05,max_depth= -1,subsample= 0.8,subsample_freq=1,)\n",
    "model.fit(X_train, y_train)\n",
    "# predicting on test data\n",
    "y_pred = model.predict(X_test)\n",
    "print(y_pred)\n",
    "submission['fare_amount'] = y_pred\n",
    "submission.to_csv('sub1.csv', index=False)"
   ]
  },
  {
   "cell_type": "code",
   "execution_count": 47,
   "id": "2de199e3",
   "metadata": {},
   "outputs": [
    {
     "name": "stdout",
     "output_type": "stream",
     "text": [
      "[ 9.103869   9.040025   5.7787156 ... 50.917194  20.164333   7.0950446]\n"
     ]
    }
   ],
   "source": [
    "# XGBRegressor\n",
    "from xgboost import XGBRegressor\n",
    "\n",
    "# fit model on training data\n",
    "model = XGBRegressor(n_estimators=200, learning_rate=0.23, max_depth=5, random_state=0)\n",
    "model.fit(X_train, y_train)\n",
    "# predicting on test data\n",
    "y_pred = model.predict(X_test)\n",
    "print(y_pred)\n",
    "submission['fare_amount'] = y_pred\n",
    "submission.to_csv('sub2.csv', index=False)"
   ]
  }
 ],
 "metadata": {
  "kernelspec": {
   "display_name": "Python 3 (ipykernel)",
   "language": "python",
   "name": "python3"
  },
  "language_info": {
   "codemirror_mode": {
    "name": "ipython",
    "version": 3
   },
   "file_extension": ".py",
   "mimetype": "text/x-python",
   "name": "python",
   "nbconvert_exporter": "python",
   "pygments_lexer": "ipython3",
   "version": "3.9.4"
  }
 },
 "nbformat": 4,
 "nbformat_minor": 5
}
