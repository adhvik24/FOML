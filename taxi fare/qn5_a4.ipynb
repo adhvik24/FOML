{
 "cells": [
  {
   "cell_type": "markdown",
   "id": "b0bfc194",
   "metadata": {},
   "source": [
    "# Question 5"
   ]
  },
  {
   "cell_type": "markdown",
   "id": "c44a3013",
   "metadata": {},
   "source": [
    "(a) Implement your own code for a logistic regression classifier, which is trained\n",
    "using gradient descent and cross-entropy error as the error function."
   ]
  },
  {
   "cell_type": "code",
   "execution_count": 16,
   "id": "1ac9d4df",
   "metadata": {},
   "outputs": [],
   "source": [
    "# importing required libraries\n",
    "\n",
    "import numpy as np\n",
    "import matplotlib.pyplot as plt\n",
    "import pandas as pd\n",
    "from math import *"
   ]
  },
  {
   "cell_type": "code",
   "execution_count": 17,
   "id": "feadee94",
   "metadata": {},
   "outputs": [],
   "source": [
    "# Implementing own code for a logistic regression using gradient descent and cross entropy error function\n",
    "def sigmoid(x,w):\n",
    "    y = 1/(1+np.exp(-np.dot(x,w)))\n",
    "    return y\n",
    "\n",
    "def logistic_regression(X,Y):\n",
    "    ## Data normalisation\n",
    "    X = X-X.mean()\n",
    "    ## intializing weights\n",
    "    w = np.array([1,1])\n",
    "    ## learning rate\n",
    "    g = 0.01\n",
    "    i=1\n",
    "    while(1):\n",
    "        y_pred = 1/(1+np.exp(-np.dot(w,X.T)))\n",
    "        if(i==0):\n",
    "            i+=1\n",
    "            print(\"Weights after one iteration are: \",w)\n",
    "        change = np.linalg.norm(g*(np.dot(X.T,Y-y_pred)))\n",
    "        if(change>=1e-3):\n",
    "            ## updating weights\n",
    "            w = w+g*(np.dot(X.T,Y-y_pred))\n",
    "        else:\n",
    "            return w\n",
    "        \n"
   ]
  },
  {
   "cell_type": "markdown",
   "id": "ff7e62f3",
   "metadata": {},
   "source": [
    "(b)"
   ]
  },
  {
   "cell_type": "code",
   "execution_count": 28,
   "id": "39469a9c",
   "metadata": {},
   "outputs": [
    {
     "name": "stdout",
     "output_type": "stream",
     "text": [
      "Weights after one iteration are:  [-1.01899756  1.53210518  0.51181202]\n",
      "Final weights:  [-18.07774125  26.47820683   6.58909946]\n"
     ]
    }
   ],
   "source": [
    "def logistic_regression(X,Y):\n",
    "    ## intializing weights\n",
    "    w = np.array([-1,1.5,0.5])\n",
    "    ## learning rate\n",
    "    g = 0.1\n",
    "    i=0\n",
    "    while(1):\n",
    "        y_pred = 1/(1+np.exp(-np.dot(w,X.T)))\n",
    "        \n",
    "        if(i==1):\n",
    "            print(\"Weights after one iteration are: \",w)\n",
    "        i+=1\n",
    "        change = np.linalg.norm(g*(np.dot(X.T,Y-y_pred)))\n",
    "        if(change>=1e-3):\n",
    "            ## updating weights\n",
    "            w = w+g*(np.dot(X.T,Y-y_pred))\n",
    "        else:\n",
    "            return w\n",
    "X = np.array([[1,0.346,0.780],[1,0.303,0.439],[1,0.358,0.729],[1,0.602,0.863],[1,0.790,0.753],[1,0.611,0.965]])\n",
    "Y = np.array([0,0,0,1,1,1])\n",
    "w = logistic_regression(X,Y)\n",
    "print(\"Final weights: \",w)\n"
   ]
  },
  {
   "cell_type": "markdown",
   "id": "c2c81358",
   "metadata": {},
   "source": [
    "(i) Final logistic model $P(\\hat y=1|x_1,x_2)$ and its cross entropy function"
   ]
  },
  {
   "cell_type": "markdown",
   "id": "ef9c1628",
   "metadata": {},
   "source": [
    "$$\\vec{w}=[-18.07774125  26.47820683   6.58909946]$$\n",
    "$$P(\\hat y=1|x_1,x_2)=\\dfrac{1}{1+e^{-(-18.07774125+26.47820683x_1+6.58909946x_2)}}$$\n",
    "$$P(\\hat y=0|x_1,x_2)=1-\\dfrac{1}{1+e^{-(-18.07774125+26.47820683x_1+6.58909946x_2)}}$$\n",
    "$$J(\\vec{w})=\\displaystyle\\sum_{i}y_ilog(P(\\hat y_i=1|\\vec{x}_i))+(1-y_i)log(P(\\hat y_i=0|\\vec{x}_i))$$\n",
    "where\n",
    "$$\\vec{x}=[1,x_1,x_2]$$"
   ]
  },
  {
   "cell_type": "markdown",
   "id": "10432e7c",
   "metadata": {},
   "source": [
    "(ii) Use gradient descent to update $\\theta_0,\\theta_1,\\theta_2$ for one iteration. Write down\n",
    "the updated logistic regression model."
   ]
  },
  {
   "cell_type": "markdown",
   "id": "5dab84c7",
   "metadata": {},
   "source": [
    "After one iteration, weights:\n",
    "$$\\vec{w}=[-1.01899756,  1.53210518,  0.51181202]$$\n",
    "Logistic regression model:\n",
    "$$P(\\hat y=1|x_1,x_2)=\\dfrac{1}{1+e^{-(-1.01899756+1.53210518x_1+0.51181202x_2)}}$$\n",
    "$$P(\\hat y=0|x_1,x_2)=1-\\dfrac{1}{1+e^{-(-1.01899756+1.53210518x_1+0.51181202x_2)}}$$\n",
    "$$J(\\vec{w})=\\displaystyle\\sum_{i}y_ilog(P(\\hat y_i=1|\\vec{x}_i))+(1-y_i)log(P(\\hat y_i=0|\\vec{x}_i))$$\n",
    "where\n",
    "$$\\vec{x}=[1,x_1,x_2]$$"
   ]
  },
  {
   "cell_type": "markdown",
   "id": "b56808d0",
   "metadata": {},
   "source": [
    "(iii) At convergence of gradient descent, use the model to make predictions\n",
    "for all the samples in the test dataset. Calculate and report the accuracy, precision\n",
    "and recall to evaluate this model."
   ]
  },
  {
   "cell_type": "code",
   "execution_count": 29,
   "id": "bf8ad89f",
   "metadata": {},
   "outputs": [
    {
     "name": "stdout",
     "output_type": "stream",
     "text": [
      "Prediction:  [1 1 0 1 1 1]\n",
      "Actual:  [0 0 0 1 1 1]\n"
     ]
    }
   ],
   "source": [
    "X_test = np.array([[1,0.959,0.382],[1,0.750,0.306],[1,0.395,0.760],[1,0.823,0.764],[1,0.761,0.874],[1,0.844,0.435]])\n",
    "y_pred = 1/(1+np.exp(-np.dot(w,X_test.T)))\n",
    "y_test = np.array([0,0,0,1,1,1])\n",
    "y_pred = np.round(y_pred).astype(int)\n",
    "print(\"Prediction: \",y_pred)\n",
    "print(\"Actual: \",y_test)"
   ]
  },
  {
   "cell_type": "code",
   "execution_count": 31,
   "id": "6c406159",
   "metadata": {},
   "outputs": [
    {
     "name": "stdout",
     "output_type": "stream",
     "text": [
      "Accuracy:  0.6666666666666666\n"
     ]
    }
   ],
   "source": [
    "\n",
    "#Reporting accuracy\n",
    "print('Accuracy: ',format((y_test == y_pred).sum().astype(float)/len(y_pred)))"
   ]
  },
  {
   "cell_type": "code",
   "execution_count": 32,
   "id": "9e8b54aa",
   "metadata": {},
   "outputs": [
    {
     "name": "stdout",
     "output_type": "stream",
     "text": [
      "Precision:  0.6\n"
     ]
    }
   ],
   "source": [
    "# Reporting precision\n",
    "\n",
    "def precision(y,y_pred):\n",
    "    n = len(y)\n",
    "    tp = 0\n",
    "    fp = 0\n",
    "    for i in range(n):\n",
    "        tp += (y_pred[i] == 1 and y_test[i] == 1)\n",
    "        fp += (y_pred[i] == 1 and y_test[i] == 0)\n",
    "    p = tp/(tp+fp)\n",
    "    return p\n",
    "print(\"Precision: \",precision(y_test,y_pred))"
   ]
  },
  {
   "cell_type": "code",
   "execution_count": 33,
   "id": "601521de",
   "metadata": {},
   "outputs": [
    {
     "name": "stdout",
     "output_type": "stream",
     "text": [
      "recall:  1.0\n"
     ]
    }
   ],
   "source": [
    "# Reporting recall\n",
    "\n",
    "def recall(y,y_pred):\n",
    "    n = len(y)\n",
    "    tp = 0\n",
    "    fn = 0\n",
    "    for i in range(n):\n",
    "        tp += (y_pred[i] == 1 and y_test[i] == 1)\n",
    "        fn += (y_pred[i] == 0 and y_test[i] == 1)\n",
    "    p = tp/(tp+fn)\n",
    "    return p\n",
    "print(\"recall: \",recall(y_test,y_pred))"
   ]
  }
 ],
 "metadata": {
  "kernelspec": {
   "display_name": "Python 3 (ipykernel)",
   "language": "python",
   "name": "python3"
  },
  "language_info": {
   "codemirror_mode": {
    "name": "ipython",
    "version": 3
   },
   "file_extension": ".py",
   "mimetype": "text/x-python",
   "name": "python",
   "nbconvert_exporter": "python",
   "pygments_lexer": "ipython3",
   "version": "3.9.4"
  }
 },
 "nbformat": 4,
 "nbformat_minor": 5
}
