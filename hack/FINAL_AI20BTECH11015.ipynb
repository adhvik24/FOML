{
  "nbformat": 4,
  "nbformat_minor": 0,
  "metadata": {
    "colab": {
      "name": "hcthn.ipynb",
      "provenance": []
    },
    "kernelspec": {
      "name": "python3",
      "display_name": "Python 3"
    },
    "language_info": {
      "name": "python"
    },
    "widgets": {
      "application/vnd.jupyter.widget-state+json": {
        "9a6c003d4e444f5bb825240bca60fbe1": {
          "model_module": "catboost-widget",
          "model_name": "CatboostWidgetModel",
          "model_module_version": "^1.0.0",
          "state": {
            "_view_name": "CatboostWidgetView",
            "_dom_classes": [],
            "_model_name": "CatboostWidgetModel",
            "data": {
              "catboost_info": {
                "content": {
                  "data": {
                    "meta": {
                      "name": "experiment",
                      "parameters": "",
                      "test_metrics": [
                        {
                          "best_value": "Min",
                          "name": "Logloss"
                        }
                      ],
                      "learn_sets": [
                        "learn"
                      ],
                      "launch_mode": "Train",
                      "learn_metrics": [
                        {
                          "best_value": "Min",
                          "name": "Logloss"
                        }
                      ],
                      "iteration_count": 300,
                      "test_sets": [
                        "test"
                      ]
                    },
                    "iterations": [
                      {
                        "test": [
                          0.5690981888
                        ],
                        "passed_time": 0.04454084828,
                        "iteration": 0,
                        "remaining_time": 13.31771363,
                        "learn": [
                          0.5694629219
                        ]
                      },
                      {
                        "test": [
                          0.5035856476
                        ],
                        "passed_time": 0.08648120883,
                        "iteration": 1,
                        "remaining_time": 12.88570012,
                        "learn": [
                          0.5044712681
                        ]
                      },
                      {
                        "test": [
                          0.4689188785
                        ],
                        "passed_time": 0.1296477718,
                        "iteration": 2,
                        "remaining_time": 12.83512941,
                        "learn": [
                          0.4694262944
                        ]
                      },
                      {
                        "test": [
                          0.4450754107
                        ],
                        "passed_time": 0.1725491803,
                        "iteration": 3,
                        "remaining_time": 12.76863934,
                        "learn": [
                          0.4452888472
                        ]
                      },
                      {
                        "test": [
                          0.42944269
                        ],
                        "passed_time": 0.2171658298,
                        "iteration": 4,
                        "remaining_time": 12.81278396,
                        "learn": [
                          0.4295760737
                        ]
                      },
                      {
                        "test": [
                          0.4141218084
                        ],
                        "passed_time": 0.2639276311,
                        "iteration": 5,
                        "remaining_time": 12.93245392,
                        "learn": [
                          0.4146310404
                        ]
                      },
                      {
                        "test": [
                          0.4055502396
                        ],
                        "passed_time": 0.3103475545,
                        "iteration": 6,
                        "remaining_time": 12.99026192,
                        "learn": [
                          0.4054105672
                        ]
                      },
                      {
                        "test": [
                          0.399523512
                        ],
                        "passed_time": 0.3569814236,
                        "iteration": 7,
                        "remaining_time": 13.02982196,
                        "learn": [
                          0.3995083457
                        ]
                      },
                      {
                        "test": [
                          0.3938883635
                        ],
                        "passed_time": 0.3996697583,
                        "iteration": 8,
                        "remaining_time": 12.92265552,
                        "learn": [
                          0.3937030298
                        ]
                      },
                      {
                        "test": [
                          0.3893312457
                        ],
                        "passed_time": 0.4405797135,
                        "iteration": 9,
                        "remaining_time": 12.77681169,
                        "learn": [
                          0.3892641621
                        ]
                      },
                      {
                        "test": [
                          0.3853637397
                        ],
                        "passed_time": 0.4886599024,
                        "iteration": 10,
                        "remaining_time": 12.83842835,
                        "learn": [
                          0.3850323301
                        ]
                      },
                      {
                        "test": [
                          0.3822442239
                        ],
                        "passed_time": 0.5298025291,
                        "iteration": 11,
                        "remaining_time": 12.7152607,
                        "learn": [
                          0.3818688739
                        ]
                      },
                      {
                        "test": [
                          0.3796618985
                        ],
                        "passed_time": 0.5712317278,
                        "iteration": 12,
                        "remaining_time": 12.61103891,
                        "learn": [
                          0.3789985568
                        ]
                      },
                      {
                        "test": [
                          0.3777140606
                        ],
                        "passed_time": 0.6113157025,
                        "iteration": 13,
                        "remaining_time": 12.48830649,
                        "learn": [
                          0.3766319549
                        ]
                      },
                      {
                        "test": [
                          0.3758702379
                        ],
                        "passed_time": 0.6561325627,
                        "iteration": 14,
                        "remaining_time": 12.46651869,
                        "learn": [
                          0.37440028
                        ]
                      },
                      {
                        "test": [
                          0.3742131499
                        ],
                        "passed_time": 0.6982108788,
                        "iteration": 15,
                        "remaining_time": 12.3932431,
                        "learn": [
                          0.3725545999
                        ]
                      },
                      {
                        "test": [
                          0.3723574372
                        ],
                        "passed_time": 0.7423964463,
                        "iteration": 16,
                        "remaining_time": 12.35871731,
                        "learn": [
                          0.3703216121
                        ]
                      },
                      {
                        "test": [
                          0.3702851189
                        ],
                        "passed_time": 0.7824994653,
                        "iteration": 17,
                        "remaining_time": 12.25915829,
                        "learn": [
                          0.3682334156
                        ]
                      },
                      {
                        "test": [
                          0.3690159077
                        ],
                        "passed_time": 0.8241988076,
                        "iteration": 18,
                        "remaining_time": 12.18946658,
                        "learn": [
                          0.3666076871
                        ]
                      },
                      {
                        "test": [
                          0.3678346103
                        ],
                        "passed_time": 0.863872588,
                        "iteration": 19,
                        "remaining_time": 12.09421623,
                        "learn": [
                          0.3652578912
                        ]
                      },
                      {
                        "test": [
                          0.3656124464
                        ],
                        "passed_time": 0.9228253058,
                        "iteration": 20,
                        "remaining_time": 12.26039335,
                        "learn": [
                          0.3632255597
                        ]
                      },
                      {
                        "test": [
                          0.3643714232
                        ],
                        "passed_time": 0.9683338118,
                        "iteration": 21,
                        "remaining_time": 12.23621817,
                        "learn": [
                          0.3618448899
                        ]
                      },
                      {
                        "test": [
                          0.3615700426
                        ],
                        "passed_time": 1.007313044,
                        "iteration": 22,
                        "remaining_time": 12.13155274,
                        "learn": [
                          0.3586110194
                        ]
                      },
                      {
                        "test": [
                          0.3604937302
                        ],
                        "passed_time": 1.047184805,
                        "iteration": 23,
                        "remaining_time": 12.04262526,
                        "learn": [
                          0.3573187627
                        ]
                      },
                      {
                        "test": [
                          0.3580358421
                        ],
                        "passed_time": 1.086018218,
                        "iteration": 24,
                        "remaining_time": 11.94620039,
                        "learn": [
                          0.3547292718
                        ]
                      },
                      {
                        "test": [
                          0.3573977682
                        ],
                        "passed_time": 1.127775165,
                        "iteration": 25,
                        "remaining_time": 11.8850152,
                        "learn": [
                          0.3536361256
                        ]
                      },
                      {
                        "test": [
                          0.3560909387
                        ],
                        "passed_time": 1.168737451,
                        "iteration": 26,
                        "remaining_time": 11.81723423,
                        "learn": [
                          0.3516933785
                        ]
                      },
                      {
                        "test": [
                          0.3554763758
                        ],
                        "passed_time": 1.208827752,
                        "iteration": 27,
                        "remaining_time": 11.74289816,
                        "learn": [
                          0.3510833067
                        ]
                      },
                      {
                        "test": [
                          0.3549007844
                        ],
                        "passed_time": 1.24896441,
                        "iteration": 28,
                        "remaining_time": 11.67135707,
                        "learn": [
                          0.3499812154
                        ]
                      },
                      {
                        "test": [
                          0.3544034014
                        ],
                        "passed_time": 1.288027386,
                        "iteration": 29,
                        "remaining_time": 11.59224647,
                        "learn": [
                          0.3492311472
                        ]
                      },
                      {
                        "test": [
                          0.3537614023
                        ],
                        "passed_time": 1.329797896,
                        "iteration": 30,
                        "remaining_time": 11.539214,
                        "learn": [
                          0.3484928913
                        ]
                      },
                      {
                        "test": [
                          0.353172119
                        ],
                        "passed_time": 1.372014137,
                        "iteration": 31,
                        "remaining_time": 11.4906184,
                        "learn": [
                          0.3477352033
                        ]
                      },
                      {
                        "test": [
                          0.3525870694
                        ],
                        "passed_time": 1.411640235,
                        "iteration": 32,
                        "remaining_time": 11.42145281,
                        "learn": [
                          0.3468298639
                        ]
                      },
                      {
                        "test": [
                          0.3523846397
                        ],
                        "passed_time": 1.451850905,
                        "iteration": 33,
                        "remaining_time": 11.35859825,
                        "learn": [
                          0.3461256753
                        ]
                      },
                      {
                        "test": [
                          0.3512957276
                        ],
                        "passed_time": 1.497998053,
                        "iteration": 34,
                        "remaining_time": 11.34198526,
                        "learn": [
                          0.3450561096
                        ]
                      },
                      {
                        "test": [
                          0.3510674719
                        ],
                        "passed_time": 1.547066811,
                        "iteration": 35,
                        "remaining_time": 11.34515661,
                        "learn": [
                          0.3444601104
                        ]
                      },
                      {
                        "test": [
                          0.3500948676
                        ],
                        "passed_time": 1.586508764,
                        "iteration": 36,
                        "remaining_time": 11.27707581,
                        "learn": [
                          0.3433977823
                        ]
                      },
                      {
                        "test": [
                          0.3499033584
                        ],
                        "passed_time": 1.624666968,
                        "iteration": 37,
                        "remaining_time": 11.2016512,
                        "learn": [
                          0.3429697174
                        ]
                      },
                      {
                        "test": [
                          0.349751306
                        ],
                        "passed_time": 1.665023669,
                        "iteration": 38,
                        "remaining_time": 11.14285071,
                        "learn": [
                          0.3425491476
                        ]
                      },
                      {
                        "test": [
                          0.3493247309
                        ],
                        "passed_time": 1.704674685,
                        "iteration": 39,
                        "remaining_time": 11.08038545,
                        "learn": [
                          0.3419560701
                        ]
                      },
                      {
                        "test": [
                          0.3490015975
                        ],
                        "passed_time": 1.758603136,
                        "iteration": 40,
                        "remaining_time": 11.10922469,
                        "learn": [
                          0.3412743967
                        ]
                      },
                      {
                        "test": [
                          0.3488795181
                        ],
                        "passed_time": 1.807014835,
                        "iteration": 41,
                        "remaining_time": 11.10023398,
                        "learn": [
                          0.3407583441
                        ]
                      },
                      {
                        "test": [
                          0.3488750205
                        ],
                        "passed_time": 1.847283977,
                        "iteration": 42,
                        "remaining_time": 11.04074377,
                        "learn": [
                          0.3404558826
                        ]
                      },
                      {
                        "test": [
                          0.3487255228
                        ],
                        "passed_time": 1.884886709,
                        "iteration": 43,
                        "remaining_time": 10.96661358,
                        "learn": [
                          0.3400432159
                        ]
                      },
                      {
                        "test": [
                          0.3474836096
                        ],
                        "passed_time": 1.931821263,
                        "iteration": 44,
                        "remaining_time": 10.94698715,
                        "learn": [
                          0.3388881972
                        ]
                      },
                      {
                        "test": [
                          0.3472451934
                        ],
                        "passed_time": 1.976366993,
                        "iteration": 45,
                        "remaining_time": 10.91298296,
                        "learn": [
                          0.3382446042
                        ]
                      },
                      {
                        "test": [
                          0.3467244206
                        ],
                        "passed_time": 2.017779187,
                        "iteration": 46,
                        "remaining_time": 10.86166243,
                        "learn": [
                          0.3376379706
                        ]
                      },
                      {
                        "test": [
                          0.3461628409
                        ],
                        "passed_time": 2.059194438,
                        "iteration": 47,
                        "remaining_time": 10.8107708,
                        "learn": [
                          0.3366639265
                        ]
                      },
                      {
                        "test": [
                          0.345852607
                        ],
                        "passed_time": 2.099629061,
                        "iteration": 48,
                        "remaining_time": 10.75524274,
                        "learn": [
                          0.3361156903
                        ]
                      },
                      {
                        "test": [
                          0.3452998703
                        ],
                        "passed_time": 2.142073522,
                        "iteration": 49,
                        "remaining_time": 10.71036761,
                        "learn": [
                          0.3352657878
                        ]
                      },
                      {
                        "test": [
                          0.3439030089
                        ],
                        "passed_time": 2.196056402,
                        "iteration": 50,
                        "remaining_time": 10.72192243,
                        "learn": [
                          0.3339960932
                        ]
                      },
                      {
                        "test": [
                          0.3435143142
                        ],
                        "passed_time": 2.241213308,
                        "iteration": 51,
                        "remaining_time": 10.68886347,
                        "learn": [
                          0.3331767556
                        ]
                      },
                      {
                        "test": [
                          0.3433903248
                        ],
                        "passed_time": 2.282874636,
                        "iteration": 52,
                        "remaining_time": 10.63905727,
                        "learn": [
                          0.3324533924
                        ]
                      },
                      {
                        "test": [
                          0.342716031
                        ],
                        "passed_time": 2.325735787,
                        "iteration": 53,
                        "remaining_time": 10.59501859,
                        "learn": [
                          0.3316475868
                        ]
                      },
                      {
                        "test": [
                          0.3420233685
                        ],
                        "passed_time": 2.36686179,
                        "iteration": 54,
                        "remaining_time": 10.54329343,
                        "learn": [
                          0.3309184848
                        ]
                      },
                      {
                        "test": [
                          0.3416637194
                        ],
                        "passed_time": 2.408136676,
                        "iteration": 55,
                        "remaining_time": 10.49259552,
                        "learn": [
                          0.3304226047
                        ]
                      },
                      {
                        "test": [
                          0.3414953025
                        ],
                        "passed_time": 2.450876905,
                        "iteration": 56,
                        "remaining_time": 10.44847523,
                        "learn": [
                          0.3299000961
                        ]
                      },
                      {
                        "test": [
                          0.3408792936
                        ],
                        "passed_time": 2.49507274,
                        "iteration": 57,
                        "remaining_time": 10.41047591,
                        "learn": [
                          0.3290186664
                        ]
                      },
                      {
                        "test": [
                          0.3402519299
                        ],
                        "passed_time": 2.536781783,
                        "iteration": 58,
                        "remaining_time": 10.36210864,
                        "learn": [
                          0.3283063792
                        ]
                      },
                      {
                        "test": [
                          0.3397488347
                        ],
                        "passed_time": 2.57847467,
                        "iteration": 59,
                        "remaining_time": 10.31389868,
                        "learn": [
                          0.3275346979
                        ]
                      },
                      {
                        "test": [
                          0.3397087486
                        ],
                        "passed_time": 2.620776827,
                        "iteration": 60,
                        "remaining_time": 10.26828953,
                        "learn": [
                          0.3270136101
                        ]
                      },
                      {
                        "test": [
                          0.3392190327
                        ],
                        "passed_time": 2.66281678,
                        "iteration": 61,
                        "remaining_time": 10.22178054,
                        "learn": [
                          0.326332403
                        ]
                      },
                      {
                        "test": [
                          0.3390506116
                        ],
                        "passed_time": 2.703461831,
                        "iteration": 62,
                        "remaining_time": 10.17016594,
                        "learn": [
                          0.3258578438
                        ]
                      },
                      {
                        "test": [
                          0.3386116542
                        ],
                        "passed_time": 2.758448951,
                        "iteration": 63,
                        "remaining_time": 10.17178051,
                        "learn": [
                          0.3253056625
                        ]
                      },
                      {
                        "test": [
                          0.3385553986
                        ],
                        "passed_time": 2.800909303,
                        "iteration": 64,
                        "remaining_time": 10.1263644,
                        "learn": [
                          0.3246849508
                        ]
                      },
                      {
                        "test": [
                          0.338238757
                        ],
                        "passed_time": 2.847884734,
                        "iteration": 65,
                        "remaining_time": 10.09704588,
                        "learn": [
                          0.324188566
                        ]
                      },
                      {
                        "test": [
                          0.3380026366
                        ],
                        "passed_time": 2.887954112,
                        "iteration": 66,
                        "remaining_time": 10.0431837,
                        "learn": [
                          0.3236345754
                        ]
                      },
                      {
                        "test": [
                          0.337698379
                        ],
                        "passed_time": 2.929651663,
                        "iteration": 67,
                        "remaining_time": 9.995282143,
                        "learn": [
                          0.3231428084
                        ]
                      },
                      {
                        "test": [
                          0.3374053184
                        ],
                        "passed_time": 2.975384072,
                        "iteration": 68,
                        "remaining_time": 9.961068416,
                        "learn": [
                          0.3226289724
                        ]
                      },
                      {
                        "test": [
                          0.3373541292
                        ],
                        "passed_time": 3.0149224,
                        "iteration": 69,
                        "remaining_time": 9.906173601,
                        "learn": [
                          0.3221941014
                        ]
                      },
                      {
                        "test": [
                          0.3370719174
                        ],
                        "passed_time": 3.061686128,
                        "iteration": 70,
                        "remaining_time": 9.875015821,
                        "learn": [
                          0.3215784176
                        ]
                      },
                      {
                        "test": [
                          0.3369949571
                        ],
                        "passed_time": 3.103413,
                        "iteration": 71,
                        "remaining_time": 9.827474501,
                        "learn": [
                          0.3211862904
                        ]
                      },
                      {
                        "test": [
                          0.3368116431
                        ],
                        "passed_time": 3.142723747,
                        "iteration": 72,
                        "remaining_time": 9.772579324,
                        "learn": [
                          0.3207540199
                        ]
                      },
                      {
                        "test": [
                          0.3366368908
                        ],
                        "passed_time": 3.1903158,
                        "iteration": 73,
                        "remaining_time": 9.743396903,
                        "learn": [
                          0.3202263343
                        ]
                      },
                      {
                        "test": [
                          0.3365899373
                        ],
                        "passed_time": 3.229433211,
                        "iteration": 74,
                        "remaining_time": 9.688299632,
                        "learn": [
                          0.3198583721
                        ]
                      },
                      {
                        "test": [
                          0.3360934413
                        ],
                        "passed_time": 3.273377911,
                        "iteration": 75,
                        "remaining_time": 9.647850686,
                        "learn": [
                          0.3192927251
                        ]
                      },
                      {
                        "test": [
                          0.3360327038
                        ],
                        "passed_time": 3.31587136,
                        "iteration": 76,
                        "remaining_time": 9.603107965,
                        "learn": [
                          0.3187033886
                        ]
                      },
                      {
                        "test": [
                          0.3356061709
                        ],
                        "passed_time": 3.358037312,
                        "iteration": 77,
                        "remaining_time": 9.55749081,
                        "learn": [
                          0.3179949914
                        ]
                      },
                      {
                        "test": [
                          0.3356840879
                        ],
                        "passed_time": 3.399310999,
                        "iteration": 78,
                        "remaining_time": 9.509464945,
                        "learn": [
                          0.3176154231
                        ]
                      },
                      {
                        "test": [
                          0.3355726761
                        ],
                        "passed_time": 3.440459436,
                        "iteration": 79,
                        "remaining_time": 9.461263449,
                        "learn": [
                          0.3171156952
                        ]
                      },
                      {
                        "test": [
                          0.3354453337
                        ],
                        "passed_time": 3.484302918,
                        "iteration": 80,
                        "remaining_time": 9.420522704,
                        "learn": [
                          0.316705049
                        ]
                      },
                      {
                        "test": [
                          0.3353754342
                        ],
                        "passed_time": 3.531806961,
                        "iteration": 81,
                        "remaining_time": 9.389438017,
                        "learn": [
                          0.3162874694
                        ]
                      },
                      {
                        "test": [
                          0.3353962008
                        ],
                        "passed_time": 3.573501395,
                        "iteration": 82,
                        "remaining_time": 9.342768708,
                        "learn": [
                          0.3159091666
                        ]
                      },
                      {
                        "test": [
                          0.3352631371
                        ],
                        "passed_time": 3.612825636,
                        "iteration": 83,
                        "remaining_time": 9.290123065,
                        "learn": [
                          0.3154086933
                        ]
                      },
                      {
                        "test": [
                          0.3352219681
                        ],
                        "passed_time": 3.651762537,
                        "iteration": 84,
                        "remaining_time": 9.236811123,
                        "learn": [
                          0.3150294249
                        ]
                      },
                      {
                        "test": [
                          0.3352192915
                        ],
                        "passed_time": 3.693895578,
                        "iteration": 85,
                        "remaining_time": 9.191786672,
                        "learn": [
                          0.3144244644
                        ]
                      },
                      {
                        "test": [
                          0.3350784308
                        ],
                        "passed_time": 3.744579289,
                        "iteration": 86,
                        "remaining_time": 9.167763086,
                        "learn": [
                          0.3140104603
                        ]
                      },
                      {
                        "test": [
                          0.3351566721
                        ],
                        "passed_time": 3.785940896,
                        "iteration": 87,
                        "remaining_time": 9.120675795,
                        "learn": [
                          0.3136572721
                        ]
                      },
                      {
                        "test": [
                          0.335064387
                        ],
                        "passed_time": 3.827213546,
                        "iteration": 88,
                        "remaining_time": 9.073506272,
                        "learn": [
                          0.3131840441
                        ]
                      },
                      {
                        "test": [
                          0.3351821084
                        ],
                        "passed_time": 3.870416115,
                        "iteration": 89,
                        "remaining_time": 9.030970935,
                        "learn": [
                          0.3128907291
                        ]
                      },
                      {
                        "test": [
                          0.3353044381
                        ],
                        "passed_time": 3.915868124,
                        "iteration": 90,
                        "remaining_time": 8.99358723,
                        "learn": [
                          0.3122977633
                        ]
                      },
                      {
                        "test": [
                          0.3352176141
                        ],
                        "passed_time": 3.965241001,
                        "iteration": 91,
                        "remaining_time": 8.964892698,
                        "learn": [
                          0.3118518976
                        ]
                      },
                      {
                        "test": [
                          0.3351120221
                        ],
                        "passed_time": 4.005401235,
                        "iteration": 92,
                        "remaining_time": 8.915247911,
                        "learn": [
                          0.311411289
                        ]
                      },
                      {
                        "test": [
                          0.3350773554
                        ],
                        "passed_time": 4.042871329,
                        "iteration": 93,
                        "remaining_time": 8.859909507,
                        "learn": [
                          0.3110503831
                        ]
                      },
                      {
                        "test": [
                          0.3351268764
                        ],
                        "passed_time": 4.079568808,
                        "iteration": 94,
                        "remaining_time": 8.80328006,
                        "learn": [
                          0.3106940958
                        ]
                      },
                      {
                        "test": [
                          0.3350192766
                        ],
                        "passed_time": 4.122602497,
                        "iteration": 95,
                        "remaining_time": 8.760530307,
                        "learn": [
                          0.3103682746
                        ]
                      },
                      {
                        "test": [
                          0.3349897073
                        ],
                        "passed_time": 4.161563429,
                        "iteration": 96,
                        "remaining_time": 8.7092513,
                        "learn": [
                          0.3101349544
                        ]
                      },
                      {
                        "test": [
                          0.334951984
                        ],
                        "passed_time": 4.204510032,
                        "iteration": 97,
                        "remaining_time": 8.666439046,
                        "learn": [
                          0.3096997009
                        ]
                      },
                      {
                        "test": [
                          0.3347441899
                        ],
                        "passed_time": 4.246174665,
                        "iteration": 98,
                        "remaining_time": 8.621021289,
                        "learn": [
                          0.309163793
                        ]
                      },
                      {
                        "test": [
                          0.3346918241
                        ],
                        "passed_time": 4.288177991,
                        "iteration": 99,
                        "remaining_time": 8.576355981,
                        "learn": [
                          0.3088162829
                        ]
                      },
                      {
                        "test": [
                          0.3347211958
                        ],
                        "passed_time": 4.330949629,
                        "iteration": 100,
                        "remaining_time": 8.53325719,
                        "learn": [
                          0.3083973966
                        ]
                      },
                      {
                        "test": [
                          0.3346889158
                        ],
                        "passed_time": 4.370247074,
                        "iteration": 101,
                        "remaining_time": 8.48342079,
                        "learn": [
                          0.3081327596
                        ]
                      },
                      {
                        "test": [
                          0.3346581216
                        ],
                        "passed_time": 4.40869211,
                        "iteration": 102,
                        "remaining_time": 8.432158696,
                        "learn": [
                          0.3079190033
                        ]
                      },
                      {
                        "test": [
                          0.3347072328
                        ],
                        "passed_time": 4.446382418,
                        "iteration": 103,
                        "remaining_time": 8.37972071,
                        "learn": [
                          0.3076199722
                        ]
                      },
                      {
                        "test": [
                          0.3345739058
                        ],
                        "passed_time": 4.487859177,
                        "iteration": 104,
                        "remaining_time": 8.334595615,
                        "learn": [
                          0.3072517538
                        ]
                      },
                      {
                        "test": [
                          0.3345509017
                        ],
                        "passed_time": 4.538548406,
                        "iteration": 105,
                        "remaining_time": 8.306399913,
                        "learn": [
                          0.3066860865
                        ]
                      },
                      {
                        "test": [
                          0.3346281306
                        ],
                        "passed_time": 4.584968221,
                        "iteration": 106,
                        "remaining_time": 8.270082867,
                        "learn": [
                          0.3063134982
                        ]
                      },
                      {
                        "test": [
                          0.3346630174
                        ],
                        "passed_time": 4.626941747,
                        "iteration": 107,
                        "remaining_time": 8.225674217,
                        "learn": [
                          0.3059459653
                        ]
                      },
                      {
                        "test": [
                          0.3345936624
                        ],
                        "passed_time": 4.666753658,
                        "iteration": 108,
                        "remaining_time": 8.177522465,
                        "learn": [
                          0.3056971473
                        ]
                      },
                      {
                        "test": [
                          0.3343917678
                        ],
                        "passed_time": 4.705750373,
                        "iteration": 109,
                        "remaining_time": 8.128114281,
                        "learn": [
                          0.305368743
                        ]
                      },
                      {
                        "test": [
                          0.3343129027
                        ],
                        "passed_time": 4.756809672,
                        "iteration": 110,
                        "remaining_time": 8.099432685,
                        "learn": [
                          0.3050215827
                        ]
                      },
                      {
                        "test": [
                          0.334319169
                        ],
                        "passed_time": 4.808142774,
                        "iteration": 111,
                        "remaining_time": 8.070811085,
                        "learn": [
                          0.3046453676
                        ]
                      },
                      {
                        "test": [
                          0.3340951678
                        ],
                        "passed_time": 4.854359722,
                        "iteration": 112,
                        "remaining_time": 8.033320956,
                        "learn": [
                          0.3040467824
                        ]
                      },
                      {
                        "test": [
                          0.3340910059
                        ],
                        "passed_time": 4.893113968,
                        "iteration": 113,
                        "remaining_time": 7.983501737,
                        "learn": [
                          0.3037953948
                        ]
                      },
                      {
                        "test": [
                          0.3339008193
                        ],
                        "passed_time": 4.932776865,
                        "iteration": 114,
                        "remaining_time": 7.935336696,
                        "learn": [
                          0.3035023519
                        ]
                      },
                      {
                        "test": [
                          0.3338550339
                        ],
                        "passed_time": 4.983749421,
                        "iteration": 115,
                        "remaining_time": 7.905257703,
                        "learn": [
                          0.3030799804
                        ]
                      },
                      {
                        "test": [
                          0.3338380783
                        ],
                        "passed_time": 5.024806085,
                        "iteration": 116,
                        "remaining_time": 7.859312081,
                        "learn": [
                          0.302720365
                        ]
                      },
                      {
                        "test": [
                          0.3338425562
                        ],
                        "passed_time": 5.06473714,
                        "iteration": 117,
                        "remaining_time": 7.811713215,
                        "learn": [
                          0.3024800852
                        ]
                      },
                      {
                        "test": [
                          0.3340102814
                        ],
                        "passed_time": 5.103544151,
                        "iteration": 118,
                        "remaining_time": 7.762533541,
                        "learn": [
                          0.3021715197
                        ]
                      },
                      {
                        "test": [
                          0.3340805834
                        ],
                        "passed_time": 5.142248804,
                        "iteration": 119,
                        "remaining_time": 7.713373207,
                        "learn": [
                          0.3019129031
                        ]
                      },
                      {
                        "test": [
                          0.3338839569
                        ],
                        "passed_time": 5.186118043,
                        "iteration": 120,
                        "remaining_time": 7.672025865,
                        "learn": [
                          0.3015271209
                        ]
                      },
                      {
                        "test": [
                          0.3336923769
                        ],
                        "passed_time": 5.22817549,
                        "iteration": 121,
                        "remaining_time": 7.627993747,
                        "learn": [
                          0.3011470803
                        ]
                      },
                      {
                        "test": [
                          0.3337650406
                        ],
                        "passed_time": 5.268164329,
                        "iteration": 122,
                        "remaining_time": 7.581016961,
                        "learn": [
                          0.3008940905
                        ]
                      },
                      {
                        "test": [
                          0.3338048191
                        ],
                        "passed_time": 5.30752037,
                        "iteration": 123,
                        "remaining_time": 7.533254718,
                        "learn": [
                          0.3006142607
                        ]
                      },
                      {
                        "test": [
                          0.3339759205
                        ],
                        "passed_time": 5.347483025,
                        "iteration": 124,
                        "remaining_time": 7.486476235,
                        "learn": [
                          0.3002677165
                        ]
                      },
                      {
                        "test": [
                          0.3339635802
                        ],
                        "passed_time": 5.398641401,
                        "iteration": 125,
                        "remaining_time": 7.455266697,
                        "learn": [
                          0.2999673178
                        ]
                      },
                      {
                        "test": [
                          0.3339159052
                        ],
                        "passed_time": 5.443222009,
                        "iteration": 126,
                        "remaining_time": 7.414782737,
                        "learn": [
                          0.2997286285
                        ]
                      },
                      {
                        "test": [
                          0.3338679118
                        ],
                        "passed_time": 5.482050959,
                        "iteration": 127,
                        "remaining_time": 7.366505976,
                        "learn": [
                          0.2995458638
                        ]
                      },
                      {
                        "test": [
                          0.3340205482
                        ],
                        "passed_time": 5.522207381,
                        "iteration": 128,
                        "remaining_time": 7.320135365,
                        "learn": [
                          0.2992998604
                        ]
                      },
                      {
                        "test": [
                          0.3340176335
                        ],
                        "passed_time": 5.562249046,
                        "iteration": 129,
                        "remaining_time": 7.273710291,
                        "learn": [
                          0.2989436184
                        ]
                      },
                      {
                        "test": [
                          0.3340923477
                        ],
                        "passed_time": 5.606269944,
                        "iteration": 130,
                        "remaining_time": 7.232516187,
                        "learn": [
                          0.2987802375
                        ]
                      },
                      {
                        "test": [
                          0.3341428104
                        ],
                        "passed_time": 5.645830986,
                        "iteration": 131,
                        "remaining_time": 7.185603073,
                        "learn": [
                          0.2984565829
                        ]
                      },
                      {
                        "test": [
                          0.3341031585
                        ],
                        "passed_time": 5.685427061,
                        "iteration": 132,
                        "remaining_time": 7.138844505,
                        "learn": [
                          0.2981763181
                        ]
                      },
                      {
                        "test": [
                          0.3341717179
                        ],
                        "passed_time": 5.726642145,
                        "iteration": 133,
                        "remaining_time": 7.094198478,
                        "learn": [
                          0.2978991098
                        ]
                      },
                      {
                        "test": [
                          0.3342106698
                        ],
                        "passed_time": 5.773301914,
                        "iteration": 134,
                        "remaining_time": 7.056257894,
                        "learn": [
                          0.2975231502
                        ]
                      },
                      {
                        "test": [
                          0.334329646
                        ],
                        "passed_time": 5.825712385,
                        "iteration": 135,
                        "remaining_time": 7.025123758,
                        "learn": [
                          0.2972675687
                        ]
                      },
                      {
                        "test": [
                          0.3343350298
                        ],
                        "passed_time": 5.868596148,
                        "iteration": 136,
                        "remaining_time": 6.982344322,
                        "learn": [
                          0.2969222023
                        ]
                      },
                      {
                        "test": [
                          0.3341742453
                        ],
                        "passed_time": 5.909068642,
                        "iteration": 137,
                        "remaining_time": 6.936732753,
                        "learn": [
                          0.2965610246
                        ]
                      },
                      {
                        "test": [
                          0.3343814184
                        ],
                        "passed_time": 5.947391654,
                        "iteration": 138,
                        "remaining_time": 6.888705441,
                        "learn": [
                          0.2963186074
                        ]
                      },
                      {
                        "test": [
                          0.3342008522
                        ],
                        "passed_time": 5.994369494,
                        "iteration": 139,
                        "remaining_time": 6.850707993,
                        "learn": [
                          0.2957845992
                        ]
                      },
                      {
                        "test": [
                          0.3342542897
                        ],
                        "passed_time": 6.03812315,
                        "iteration": 140,
                        "remaining_time": 6.808947382,
                        "learn": [
                          0.2953866665
                        ]
                      },
                      {
                        "test": [
                          0.3342126886
                        ],
                        "passed_time": 6.078547972,
                        "iteration": 141,
                        "remaining_time": 6.763454786,
                        "learn": [
                          0.2950186398
                        ]
                      },
                      {
                        "test": [
                          0.3342899526
                        ],
                        "passed_time": 6.117760781,
                        "iteration": 142,
                        "remaining_time": 6.716702396,
                        "learn": [
                          0.2947110549
                        ]
                      },
                      {
                        "test": [
                          0.3343732335
                        ],
                        "passed_time": 6.159902686,
                        "iteration": 143,
                        "remaining_time": 6.67322791,
                        "learn": [
                          0.2944475473
                        ]
                      },
                      {
                        "test": [
                          0.3341927974
                        ],
                        "passed_time": 6.200091204,
                        "iteration": 144,
                        "remaining_time": 6.627683701,
                        "learn": [
                          0.2941130658
                        ]
                      },
                      {
                        "test": [
                          0.3342870453
                        ],
                        "passed_time": 6.245965728,
                        "iteration": 145,
                        "remaining_time": 6.588210425,
                        "learn": [
                          0.2937705438
                        ]
                      },
                      {
                        "test": [
                          0.334409605
                        ],
                        "passed_time": 6.287111115,
                        "iteration": 146,
                        "remaining_time": 6.543727895,
                        "learn": [
                          0.2934325386
                        ]
                      },
                      {
                        "test": [
                          0.3342606055
                        ],
                        "passed_time": 6.329719501,
                        "iteration": 147,
                        "remaining_time": 6.500793001,
                        "learn": [
                          0.2930729493
                        ]
                      },
                      {
                        "test": [
                          0.3342442197
                        ],
                        "passed_time": 6.366662595,
                        "iteration": 148,
                        "remaining_time": 6.452121153,
                        "learn": [
                          0.2928415646
                        ]
                      },
                      {
                        "test": [
                          0.3343215398
                        ],
                        "passed_time": 6.405980562,
                        "iteration": 149,
                        "remaining_time": 6.405980562,
                        "learn": [
                          0.2926025156
                        ]
                      },
                      {
                        "test": [
                          0.3342412785
                        ],
                        "passed_time": 6.449221409,
                        "iteration": 150,
                        "remaining_time": 6.363801258,
                        "learn": [
                          0.2923551792
                        ]
                      },
                      {
                        "test": [
                          0.3343694242
                        ],
                        "passed_time": 6.488352439,
                        "iteration": 151,
                        "remaining_time": 6.317606322,
                        "learn": [
                          0.2921955694
                        ]
                      },
                      {
                        "test": [
                          0.3343318592
                        ],
                        "passed_time": 6.525968616,
                        "iteration": 152,
                        "remaining_time": 6.270048279,
                        "learn": [
                          0.2919388591
                        ]
                      },
                      {
                        "test": [
                          0.3343138531
                        ],
                        "passed_time": 6.564395801,
                        "iteration": 153,
                        "remaining_time": 6.223388227,
                        "learn": [
                          0.291660794
                        ]
                      },
                      {
                        "test": [
                          0.334343548
                        ],
                        "passed_time": 6.599890762,
                        "iteration": 154,
                        "remaining_time": 6.174091358,
                        "learn": [
                          0.2915256987
                        ]
                      },
                      {
                        "test": [
                          0.3340884781
                        ],
                        "passed_time": 6.644294273,
                        "iteration": 155,
                        "remaining_time": 6.133194714,
                        "learn": [
                          0.2912390272
                        ]
                      },
                      {
                        "test": [
                          0.3341209513
                        ],
                        "passed_time": 6.68435044,
                        "iteration": 156,
                        "remaining_time": 6.088293712,
                        "learn": [
                          0.2911023694
                        ]
                      },
                      {
                        "test": [
                          0.3340424382
                        ],
                        "passed_time": 6.72660025,
                        "iteration": 157,
                        "remaining_time": 6.045425541,
                        "learn": [
                          0.2907466265
                        ]
                      },
                      {
                        "test": [
                          0.3341472787
                        ],
                        "passed_time": 6.766503976,
                        "iteration": 158,
                        "remaining_time": 6.000484658,
                        "learn": [
                          0.2905441441
                        ]
                      },
                      {
                        "test": [
                          0.334297533
                        ],
                        "passed_time": 6.823511342,
                        "iteration": 159,
                        "remaining_time": 5.970572425,
                        "learn": [
                          0.2901615098
                        ]
                      },
                      {
                        "test": [
                          0.3342233736
                        ],
                        "passed_time": 6.861460266,
                        "iteration": 160,
                        "remaining_time": 5.923869422,
                        "learn": [
                          0.2898860586
                        ]
                      },
                      {
                        "test": [
                          0.3342208106
                        ],
                        "passed_time": 6.899901367,
                        "iteration": 161,
                        "remaining_time": 5.877693757,
                        "learn": [
                          0.2896797083
                        ]
                      },
                      {
                        "test": [
                          0.3337942129
                        ],
                        "passed_time": 6.942427029,
                        "iteration": 162,
                        "remaining_time": 5.83504603,
                        "learn": [
                          0.2891923066
                        ]
                      },
                      {
                        "test": [
                          0.3338729376
                        ],
                        "passed_time": 6.989705428,
                        "iteration": 163,
                        "remaining_time": 5.796341087,
                        "learn": [
                          0.2889103314
                        ]
                      },
                      {
                        "test": [
                          0.3338123513
                        ],
                        "passed_time": 7.029611561,
                        "iteration": 164,
                        "remaining_time": 5.751500368,
                        "learn": [
                          0.2886090137
                        ]
                      },
                      {
                        "test": [
                          0.3337963126
                        ],
                        "passed_time": 7.069405563,
                        "iteration": 165,
                        "remaining_time": 5.706628587,
                        "learn": [
                          0.2883264221
                        ]
                      },
                      {
                        "test": [
                          0.3337732946
                        ],
                        "passed_time": 7.112105068,
                        "iteration": 166,
                        "remaining_time": 5.664131581,
                        "learn": [
                          0.2879362675
                        ]
                      },
                      {
                        "test": [
                          0.3338123419
                        ],
                        "passed_time": 7.155171982,
                        "iteration": 167,
                        "remaining_time": 5.621920843,
                        "learn": [
                          0.2878166857
                        ]
                      },
                      {
                        "test": [
                          0.333784579
                        ],
                        "passed_time": 7.192536387,
                        "iteration": 168,
                        "remaining_time": 5.575279684,
                        "learn": [
                          0.2876790795
                        ]
                      },
                      {
                        "test": [
                          0.3336918306
                        ],
                        "passed_time": 7.231607312,
                        "iteration": 169,
                        "remaining_time": 5.53005265,
                        "learn": [
                          0.2873957844
                        ]
                      },
                      {
                        "test": [
                          0.3337309408
                        ],
                        "passed_time": 7.271462357,
                        "iteration": 170,
                        "remaining_time": 5.485489147,
                        "learn": [
                          0.2870770376
                        ]
                      },
                      {
                        "test": [
                          0.333627264
                        ],
                        "passed_time": 7.314307291,
                        "iteration": 171,
                        "remaining_time": 5.443205426,
                        "learn": [
                          0.2867852637
                        ]
                      },
                      {
                        "test": [
                          0.3337384528
                        ],
                        "passed_time": 7.356404316,
                        "iteration": 172,
                        "remaining_time": 5.400366174,
                        "learn": [
                          0.286481307
                        ]
                      },
                      {
                        "test": [
                          0.3336354949
                        ],
                        "passed_time": 7.399745107,
                        "iteration": 173,
                        "remaining_time": 5.358436112,
                        "learn": [
                          0.2861230064
                        ]
                      },
                      {
                        "test": [
                          0.3336555937
                        ],
                        "passed_time": 7.439906207,
                        "iteration": 174,
                        "remaining_time": 5.314218719,
                        "learn": [
                          0.285874915
                        ]
                      },
                      {
                        "test": [
                          0.3337130547
                        ],
                        "passed_time": 7.481311114,
                        "iteration": 175,
                        "remaining_time": 5.27092374,
                        "learn": [
                          0.2854862515
                        ]
                      },
                      {
                        "test": [
                          0.3339488239
                        ],
                        "passed_time": 7.522372626,
                        "iteration": 176,
                        "remaining_time": 5.227411486,
                        "learn": [
                          0.285172794
                        ]
                      },
                      {
                        "test": [
                          0.3339341293
                        ],
                        "passed_time": 7.563874243,
                        "iteration": 177,
                        "remaining_time": 5.184228413,
                        "learn": [
                          0.2849840229
                        ]
                      },
                      {
                        "test": [
                          0.3337575345
                        ],
                        "passed_time": 7.604975714,
                        "iteration": 178,
                        "remaining_time": 5.140793639,
                        "learn": [
                          0.2845918389
                        ]
                      },
                      {
                        "test": [
                          0.3337586934
                        ],
                        "passed_time": 7.644422962,
                        "iteration": 179,
                        "remaining_time": 5.096281975,
                        "learn": [
                          0.2843630172
                        ]
                      },
                      {
                        "test": [
                          0.3335347869
                        ],
                        "passed_time": 7.690249136,
                        "iteration": 180,
                        "remaining_time": 5.05602015,
                        "learn": [
                          0.2840123193
                        ]
                      },
                      {
                        "test": [
                          0.3336301626
                        ],
                        "passed_time": 7.732679183,
                        "iteration": 181,
                        "remaining_time": 5.013495295,
                        "learn": [
                          0.2837575969
                        ]
                      },
                      {
                        "test": [
                          0.3336031798
                        ],
                        "passed_time": 7.777731036,
                        "iteration": 182,
                        "remaining_time": 4.972647711,
                        "learn": [
                          0.2833680197
                        ]
                      },
                      {
                        "test": [
                          0.3335612183
                        ],
                        "passed_time": 7.840883156,
                        "iteration": 183,
                        "remaining_time": 4.943165468,
                        "learn": [
                          0.2829676937
                        ]
                      },
                      {
                        "test": [
                          0.3337152308
                        ],
                        "passed_time": 7.88249842,
                        "iteration": 184,
                        "remaining_time": 4.89993145,
                        "learn": [
                          0.2826878617
                        ]
                      },
                      {
                        "test": [
                          0.3337046425
                        ],
                        "passed_time": 7.923504075,
                        "iteration": 185,
                        "remaining_time": 4.856341208,
                        "learn": [
                          0.2824746533
                        ]
                      },
                      {
                        "test": [
                          0.3336923724
                        ],
                        "passed_time": 7.973309712,
                        "iteration": 186,
                        "remaining_time": 4.818096243,
                        "learn": [
                          0.2822759409
                        ]
                      },
                      {
                        "test": [
                          0.3337086682
                        ],
                        "passed_time": 8.017927299,
                        "iteration": 187,
                        "remaining_time": 4.77663754,
                        "learn": [
                          0.2819328673
                        ]
                      },
                      {
                        "test": [
                          0.3337462569
                        ],
                        "passed_time": 8.056064696,
                        "iteration": 188,
                        "remaining_time": 4.731339583,
                        "learn": [
                          0.2817783841
                        ]
                      },
                      {
                        "test": [
                          0.3338001608
                        ],
                        "passed_time": 8.098368913,
                        "iteration": 189,
                        "remaining_time": 4.688529371,
                        "learn": [
                          0.2815549587
                        ]
                      },
                      {
                        "test": [
                          0.3337958146
                        ],
                        "passed_time": 8.137240041,
                        "iteration": 190,
                        "remaining_time": 4.643765259,
                        "learn": [
                          0.2813367358
                        ]
                      },
                      {
                        "test": [
                          0.3337574582
                        ],
                        "passed_time": 8.184662008,
                        "iteration": 191,
                        "remaining_time": 4.603872379,
                        "learn": [
                          0.2810126511
                        ]
                      },
                      {
                        "test": [
                          0.3339168666
                        ],
                        "passed_time": 8.228538577,
                        "iteration": 192,
                        "remaining_time": 4.561935895,
                        "learn": [
                          0.280668545
                        ]
                      },
                      {
                        "test": [
                          0.3339002011
                        ],
                        "passed_time": 8.268512136,
                        "iteration": 193,
                        "remaining_time": 4.517846837,
                        "learn": [
                          0.280460406
                        ]
                      },
                      {
                        "test": [
                          0.3337149835
                        ],
                        "passed_time": 8.308440893,
                        "iteration": 194,
                        "remaining_time": 4.473775865,
                        "learn": [
                          0.2801563892
                        ]
                      },
                      {
                        "test": [
                          0.3336168956
                        ],
                        "passed_time": 8.349839133,
                        "iteration": 195,
                        "remaining_time": 4.430526887,
                        "learn": [
                          0.2796995753
                        ]
                      },
                      {
                        "test": [
                          0.333621532
                        ],
                        "passed_time": 8.393573593,
                        "iteration": 196,
                        "remaining_time": 4.388518173,
                        "learn": [
                          0.2794269196
                        ]
                      },
                      {
                        "test": [
                          0.3335818498
                        ],
                        "passed_time": 8.437068097,
                        "iteration": 197,
                        "remaining_time": 4.346368414,
                        "learn": [
                          0.2790566294
                        ]
                      },
                      {
                        "test": [
                          0.3335165157
                        ],
                        "passed_time": 8.477824111,
                        "iteration": 198,
                        "remaining_time": 4.302815252,
                        "learn": [
                          0.278881246
                        ]
                      },
                      {
                        "test": [
                          0.3335681106
                        ],
                        "passed_time": 8.518968866,
                        "iteration": 199,
                        "remaining_time": 4.259484433,
                        "learn": [
                          0.2786360246
                        ]
                      },
                      {
                        "test": [
                          0.3334177594
                        ],
                        "passed_time": 8.560203219,
                        "iteration": 200,
                        "remaining_time": 4.216219496,
                        "learn": [
                          0.2784333341
                        ]
                      },
                      {
                        "test": [
                          0.3331498739
                        ],
                        "passed_time": 8.605202934,
                        "iteration": 201,
                        "remaining_time": 4.174801423,
                        "learn": [
                          0.2781186925
                        ]
                      },
                      {
                        "test": [
                          0.3333548895
                        ],
                        "passed_time": 8.644178067,
                        "iteration": 202,
                        "remaining_time": 4.130469323,
                        "learn": [
                          0.2779389242
                        ]
                      },
                      {
                        "test": [
                          0.3334673883
                        ],
                        "passed_time": 8.683664485,
                        "iteration": 203,
                        "remaining_time": 4.086430346,
                        "learn": [
                          0.2776808177
                        ]
                      },
                      {
                        "test": [
                          0.3334534161
                        ],
                        "passed_time": 8.723310302,
                        "iteration": 204,
                        "remaining_time": 4.042509652,
                        "learn": [
                          0.2774079976
                        ]
                      },
                      {
                        "test": [
                          0.3334368508
                        ],
                        "passed_time": 8.75918285,
                        "iteration": 205,
                        "remaining_time": 3.996908679,
                        "learn": [
                          0.2771775658
                        ]
                      },
                      {
                        "test": [
                          0.3333647606
                        ],
                        "passed_time": 8.797403026,
                        "iteration": 206,
                        "remaining_time": 3.952456432,
                        "learn": [
                          0.2770246049
                        ]
                      },
                      {
                        "test": [
                          0.3333190784
                        ],
                        "passed_time": 8.857146934,
                        "iteration": 207,
                        "remaining_time": 3.917584221,
                        "learn": [
                          0.2767232345
                        ]
                      },
                      {
                        "test": [
                          0.3333631876
                        ],
                        "passed_time": 8.905525612,
                        "iteration": 208,
                        "remaining_time": 3.877525505,
                        "learn": [
                          0.2764269601
                        ]
                      },
                      {
                        "test": [
                          0.3333477697
                        ],
                        "passed_time": 8.944360634,
                        "iteration": 209,
                        "remaining_time": 3.833297415,
                        "learn": [
                          0.2761678277
                        ]
                      },
                      {
                        "test": [
                          0.3333415663
                        ],
                        "passed_time": 8.991114534,
                        "iteration": 210,
                        "remaining_time": 3.792460633,
                        "learn": [
                          0.2757808629
                        ]
                      },
                      {
                        "test": [
                          0.3334616134
                        ],
                        "passed_time": 9.030089062,
                        "iteration": 211,
                        "remaining_time": 3.748338856,
                        "learn": [
                          0.2755242765
                        ]
                      },
                      {
                        "test": [
                          0.3333896374
                        ],
                        "passed_time": 9.072699113,
                        "iteration": 212,
                        "remaining_time": 3.705750342,
                        "learn": [
                          0.2752434458
                        ]
                      },
                      {
                        "test": [
                          0.3333398511
                        ],
                        "passed_time": 9.115059854,
                        "iteration": 213,
                        "remaining_time": 3.663061437,
                        "learn": [
                          0.2749513226
                        ]
                      },
                      {
                        "test": [
                          0.3333488625
                        ],
                        "passed_time": 9.154214628,
                        "iteration": 214,
                        "remaining_time": 3.619108109,
                        "learn": [
                          0.2746821408
                        ]
                      },
                      {
                        "test": [
                          0.3333664249
                        ],
                        "passed_time": 9.192050427,
                        "iteration": 215,
                        "remaining_time": 3.574686277,
                        "learn": [
                          0.2745397419
                        ]
                      },
                      {
                        "test": [
                          0.333518062
                        ],
                        "passed_time": 9.233327683,
                        "iteration": 216,
                        "remaining_time": 3.531641464,
                        "learn": [
                          0.2743213383
                        ]
                      },
                      {
                        "test": [
                          0.3334497711
                        ],
                        "passed_time": 9.274867458,
                        "iteration": 217,
                        "remaining_time": 3.488711613,
                        "learn": [
                          0.2740237454
                        ]
                      },
                      {
                        "test": [
                          0.3333270063
                        ],
                        "passed_time": 9.319150109,
                        "iteration": 218,
                        "remaining_time": 3.446808944,
                        "learn": [
                          0.2737197553
                        ]
                      },
                      {
                        "test": [
                          0.333292292
                        ],
                        "passed_time": 9.358163029,
                        "iteration": 219,
                        "remaining_time": 3.402968374,
                        "learn": [
                          0.2735395547
                        ]
                      },
                      {
                        "test": [
                          0.3332721954
                        ],
                        "passed_time": 9.401209616,
                        "iteration": 220,
                        "remaining_time": 3.360613392,
                        "learn": [
                          0.2731882576
                        ]
                      },
                      {
                        "test": [
                          0.3333207449
                        ],
                        "passed_time": 9.441584137,
                        "iteration": 221,
                        "remaining_time": 3.317313345,
                        "learn": [
                          0.2728223168
                        ]
                      },
                      {
                        "test": [
                          0.3333425554
                        ],
                        "passed_time": 9.486673941,
                        "iteration": 222,
                        "remaining_time": 3.275667684,
                        "learn": [
                          0.2724974196
                        ]
                      },
                      {
                        "test": [
                          0.3334486578
                        ],
                        "passed_time": 9.531371495,
                        "iteration": 223,
                        "remaining_time": 3.233858186,
                        "learn": [
                          0.2722456577
                        ]
                      },
                      {
                        "test": [
                          0.3335262997
                        ],
                        "passed_time": 9.57003478,
                        "iteration": 224,
                        "remaining_time": 3.190011593,
                        "learn": [
                          0.2720554788
                        ]
                      },
                      {
                        "test": [
                          0.3334216849
                        ],
                        "passed_time": 9.612005737,
                        "iteration": 225,
                        "remaining_time": 3.147293914,
                        "learn": [
                          0.2717341795
                        ]
                      },
                      {
                        "test": [
                          0.3334385777
                        ],
                        "passed_time": 9.651569975,
                        "iteration": 226,
                        "remaining_time": 3.103808847,
                        "learn": [
                          0.2715174494
                        ]
                      },
                      {
                        "test": [
                          0.3334665374
                        ],
                        "passed_time": 9.69238469,
                        "iteration": 227,
                        "remaining_time": 3.06075306,
                        "learn": [
                          0.2713608758
                        ]
                      },
                      {
                        "test": [
                          0.3335772055
                        ],
                        "passed_time": 9.729903451,
                        "iteration": 228,
                        "remaining_time": 3.016694956,
                        "learn": [
                          0.27107074
                        ]
                      },
                      {
                        "test": [
                          0.3335585676
                        ],
                        "passed_time": 9.772185903,
                        "iteration": 229,
                        "remaining_time": 2.974143536,
                        "learn": [
                          0.2707297522
                        ]
                      },
                      {
                        "test": [
                          0.3336775994
                        ],
                        "passed_time": 9.810828736,
                        "iteration": 230,
                        "remaining_time": 2.930507285,
                        "learn": [
                          0.2704719996
                        ]
                      },
                      {
                        "test": [
                          0.3337552363
                        ],
                        "passed_time": 9.871483699,
                        "iteration": 231,
                        "remaining_time": 2.893365912,
                        "learn": [
                          0.2702481318
                        ]
                      },
                      {
                        "test": [
                          0.3337301444
                        ],
                        "passed_time": 9.917281304,
                        "iteration": 232,
                        "remaining_time": 2.851750418,
                        "learn": [
                          0.2699511571
                        ]
                      },
                      {
                        "test": [
                          0.3338402324
                        ],
                        "passed_time": 9.958676887,
                        "iteration": 233,
                        "remaining_time": 2.808857584,
                        "learn": [
                          0.2696394579
                        ]
                      },
                      {
                        "test": [
                          0.3339207466
                        ],
                        "passed_time": 10.00391654,
                        "iteration": 234,
                        "remaining_time": 2.767040744,
                        "learn": [
                          0.2693933989
                        ]
                      },
                      {
                        "test": [
                          0.3340337883
                        ],
                        "passed_time": 10.04222678,
                        "iteration": 235,
                        "remaining_time": 2.723315738,
                        "learn": [
                          0.2691621396
                        ]
                      },
                      {
                        "test": [
                          0.3340810541
                        ],
                        "passed_time": 10.08227521,
                        "iteration": 236,
                        "remaining_time": 2.680098473,
                        "learn": [
                          0.2688996234
                        ]
                      },
                      {
                        "test": [
                          0.3340283365
                        ],
                        "passed_time": 10.12733738,
                        "iteration": 237,
                        "remaining_time": 2.63821394,
                        "learn": [
                          0.268579391
                        ]
                      },
                      {
                        "test": [
                          0.3339210199
                        ],
                        "passed_time": 10.1789034,
                        "iteration": 238,
                        "remaining_time": 2.597962793,
                        "learn": [
                          0.2684441474
                        ]
                      },
                      {
                        "test": [
                          0.3339000242
                        ],
                        "passed_time": 10.21806202,
                        "iteration": 239,
                        "remaining_time": 2.554515504,
                        "learn": [
                          0.2684022272
                        ]
                      },
                      {
                        "test": [
                          0.334034031
                        ],
                        "passed_time": 10.25372254,
                        "iteration": 240,
                        "remaining_time": 2.510247427,
                        "learn": [
                          0.2682138903
                        ]
                      },
                      {
                        "test": [
                          0.3340475035
                        ],
                        "passed_time": 10.29258163,
                        "iteration": 241,
                        "remaining_time": 2.466817084,
                        "learn": [
                          0.2679463936
                        ]
                      },
                      {
                        "test": [
                          0.3340017783
                        ],
                        "passed_time": 10.33502682,
                        "iteration": 242,
                        "remaining_time": 2.424265549,
                        "learn": [
                          0.2678325129
                        ]
                      },
                      {
                        "test": [
                          0.3339755861
                        ],
                        "passed_time": 10.37711341,
                        "iteration": 243,
                        "remaining_time": 2.381632586,
                        "learn": [
                          0.2676512467
                        ]
                      },
                      {
                        "test": [
                          0.334034769
                        ],
                        "passed_time": 10.41594781,
                        "iteration": 244,
                        "remaining_time": 2.338273999,
                        "learn": [
                          0.267382644
                        ]
                      },
                      {
                        "test": [
                          0.3340671467
                        ],
                        "passed_time": 10.45577455,
                        "iteration": 245,
                        "remaining_time": 2.295170023,
                        "learn": [
                          0.2672047053
                        ]
                      },
                      {
                        "test": [
                          0.3341244105
                        ],
                        "passed_time": 10.49881504,
                        "iteration": 246,
                        "remaining_time": 2.252782174,
                        "learn": [
                          0.2669326866
                        ]
                      },
                      {
                        "test": [
                          0.3341603401
                        ],
                        "passed_time": 10.53479248,
                        "iteration": 247,
                        "remaining_time": 2.2089081,
                        "learn": [
                          0.2667391111
                        ]
                      },
                      {
                        "test": [
                          0.3341811267
                        ],
                        "passed_time": 10.57803347,
                        "iteration": 248,
                        "remaining_time": 2.166585169,
                        "learn": [
                          0.2665393427
                        ]
                      },
                      {
                        "test": [
                          0.3342126475
                        ],
                        "passed_time": 10.61869474,
                        "iteration": 249,
                        "remaining_time": 2.123738947,
                        "learn": [
                          0.2662717885
                        ]
                      },
                      {
                        "test": [
                          0.3342372938
                        ],
                        "passed_time": 10.65944443,
                        "iteration": 250,
                        "remaining_time": 2.080927398,
                        "learn": [
                          0.2659837463
                        ]
                      },
                      {
                        "test": [
                          0.3341554678
                        ],
                        "passed_time": 10.69886197,
                        "iteration": 251,
                        "remaining_time": 2.037878471,
                        "learn": [
                          0.2656331673
                        ]
                      },
                      {
                        "test": [
                          0.3341042178
                        ],
                        "passed_time": 10.73884332,
                        "iteration": 252,
                        "remaining_time": 1.994962988,
                        "learn": [
                          0.2653847273
                        ]
                      },
                      {
                        "test": [
                          0.3340306191
                        ],
                        "passed_time": 10.78677894,
                        "iteration": 253,
                        "remaining_time": 1.953511147,
                        "learn": [
                          0.2650834877
                        ]
                      },
                      {
                        "test": [
                          0.3339382268
                        ],
                        "passed_time": 10.82722098,
                        "iteration": 254,
                        "remaining_time": 1.910686056,
                        "learn": [
                          0.2648720152
                        ]
                      },
                      {
                        "test": [
                          0.333813237
                        ],
                        "passed_time": 10.87977138,
                        "iteration": 255,
                        "remaining_time": 1.869960705,
                        "learn": [
                          0.2646246122
                        ]
                      },
                      {
                        "test": [
                          0.3338556585
                        ],
                        "passed_time": 10.92700572,
                        "iteration": 256,
                        "remaining_time": 1.828253876,
                        "learn": [
                          0.2644652883
                        ]
                      },
                      {
                        "test": [
                          0.3338042887
                        ],
                        "passed_time": 10.96566166,
                        "iteration": 257,
                        "remaining_time": 1.785107712,
                        "learn": [
                          0.2643163515
                        ]
                      },
                      {
                        "test": [
                          0.3338103086
                        ],
                        "passed_time": 11.01209766,
                        "iteration": 258,
                        "remaining_time": 1.743227815,
                        "learn": [
                          0.264099718
                        ]
                      },
                      {
                        "test": [
                          0.3337466897
                        ],
                        "passed_time": 11.05115389,
                        "iteration": 259,
                        "remaining_time": 1.700177522,
                        "learn": [
                          0.2637939668
                        ]
                      },
                      {
                        "test": [
                          0.3337183749
                        ],
                        "passed_time": 11.08961028,
                        "iteration": 260,
                        "remaining_time": 1.657068203,
                        "learn": [
                          0.2635048656
                        ]
                      },
                      {
                        "test": [
                          0.3337511748
                        ],
                        "passed_time": 11.13353386,
                        "iteration": 261,
                        "remaining_time": 1.614787354,
                        "learn": [
                          0.2632197329
                        ]
                      },
                      {
                        "test": [
                          0.333865811
                        ],
                        "passed_time": 11.17413871,
                        "iteration": 262,
                        "remaining_time": 1.57202712,
                        "learn": [
                          0.2630120431
                        ]
                      },
                      {
                        "test": [
                          0.3338085061
                        ],
                        "passed_time": 11.21783573,
                        "iteration": 263,
                        "remaining_time": 1.529704873,
                        "learn": [
                          0.2627373626
                        ]
                      },
                      {
                        "test": [
                          0.3337684303
                        ],
                        "passed_time": 11.25872097,
                        "iteration": 264,
                        "remaining_time": 1.487000883,
                        "learn": [
                          0.2624552471
                        ]
                      },
                      {
                        "test": [
                          0.3339174316
                        ],
                        "passed_time": 11.29789529,
                        "iteration": 265,
                        "remaining_time": 1.444091879,
                        "learn": [
                          0.2621931443
                        ]
                      },
                      {
                        "test": [
                          0.3339879114
                        ],
                        "passed_time": 11.33590777,
                        "iteration": 266,
                        "remaining_time": 1.401067252,
                        "learn": [
                          0.2620538354
                        ]
                      },
                      {
                        "test": [
                          0.3339169655
                        ],
                        "passed_time": 11.37725392,
                        "iteration": 267,
                        "remaining_time": 1.35847808,
                        "learn": [
                          0.2617813456
                        ]
                      },
                      {
                        "test": [
                          0.3338777769
                        ],
                        "passed_time": 11.41497345,
                        "iteration": 268,
                        "remaining_time": 1.315480212,
                        "learn": [
                          0.2616794448
                        ]
                      },
                      {
                        "test": [
                          0.3339324568
                        ],
                        "passed_time": 11.45877875,
                        "iteration": 269,
                        "remaining_time": 1.273197639,
                        "learn": [
                          0.2615230522
                        ]
                      },
                      {
                        "test": [
                          0.3338819955
                        ],
                        "passed_time": 11.49769329,
                        "iteration": 270,
                        "remaining_time": 1.230380463,
                        "learn": [
                          0.2613737787
                        ]
                      },
                      {
                        "test": [
                          0.3339367076
                        ],
                        "passed_time": 11.53808708,
                        "iteration": 271,
                        "remaining_time": 1.187744258,
                        "learn": [
                          0.2610840192
                        ]
                      },
                      {
                        "test": [
                          0.3340353407
                        ],
                        "passed_time": 11.57880251,
                        "iteration": 272,
                        "remaining_time": 1.145156292,
                        "learn": [
                          0.2607623086
                        ]
                      },
                      {
                        "test": [
                          0.3341154445
                        ],
                        "passed_time": 11.61251087,
                        "iteration": 273,
                        "remaining_time": 1.10191709,
                        "learn": [
                          0.2606271063
                        ]
                      },
                      {
                        "test": [
                          0.3340816907
                        ],
                        "passed_time": 11.65303643,
                        "iteration": 274,
                        "remaining_time": 1.059366949,
                        "learn": [
                          0.2604112125
                        ]
                      },
                      {
                        "test": [
                          0.3341039841
                        ],
                        "passed_time": 11.69770585,
                        "iteration": 275,
                        "remaining_time": 1.017191813,
                        "learn": [
                          0.2602820939
                        ]
                      },
                      {
                        "test": [
                          0.3342164608
                        ],
                        "passed_time": 11.73665008,
                        "iteration": 276,
                        "remaining_time": 0.9745232918,
                        "learn": [
                          0.2600649797
                        ]
                      },
                      {
                        "test": [
                          0.3341847856
                        ],
                        "passed_time": 11.77683117,
                        "iteration": 277,
                        "remaining_time": 0.9319794453,
                        "learn": [
                          0.2597707622
                        ]
                      },
                      {
                        "test": [
                          0.3343561594
                        ],
                        "passed_time": 11.81533085,
                        "iteration": 278,
                        "remaining_time": 0.8893259777,
                        "learn": [
                          0.2594736414
                        ]
                      },
                      {
                        "test": [
                          0.3343917312
                        ],
                        "passed_time": 11.85564829,
                        "iteration": 279,
                        "remaining_time": 0.8468320207,
                        "learn": [
                          0.2592042967
                        ]
                      },
                      {
                        "test": [
                          0.3343372389
                        ],
                        "passed_time": 11.90706536,
                        "iteration": 280,
                        "remaining_time": 0.8051040634,
                        "learn": [
                          0.258955054
                        ]
                      },
                      {
                        "test": [
                          0.3344327774
                        ],
                        "passed_time": 11.96188961,
                        "iteration": 281,
                        "remaining_time": 0.7635248689,
                        "learn": [
                          0.2587510655
                        ]
                      },
                      {
                        "test": [
                          0.3344825086
                        ],
                        "passed_time": 11.99855151,
                        "iteration": 282,
                        "remaining_time": 0.7207610448,
                        "learn": [
                          0.2585476376
                        ]
                      },
                      {
                        "test": [
                          0.3344555164
                        ],
                        "passed_time": 12.04412437,
                        "iteration": 283,
                        "remaining_time": 0.6785422181,
                        "learn": [
                          0.2583853041
                        ]
                      },
                      {
                        "test": [
                          0.334394467
                        ],
                        "passed_time": 12.08157193,
                        "iteration": 284,
                        "remaining_time": 0.6358722067,
                        "learn": [
                          0.2582081364
                        ]
                      },
                      {
                        "test": [
                          0.3344416695
                        ],
                        "passed_time": 12.12467424,
                        "iteration": 285,
                        "remaining_time": 0.5935155222,
                        "learn": [
                          0.257950499
                        ]
                      },
                      {
                        "test": [
                          0.3345004262
                        ],
                        "passed_time": 12.16380907,
                        "iteration": 286,
                        "remaining_time": 0.5509739302,
                        "learn": [
                          0.2577132382
                        ]
                      },
                      {
                        "test": [
                          0.3344482316
                        ],
                        "passed_time": 12.20115977,
                        "iteration": 287,
                        "remaining_time": 0.5083816572,
                        "learn": [
                          0.2576298167
                        ]
                      },
                      {
                        "test": [
                          0.3343678242
                        ],
                        "passed_time": 12.24123572,
                        "iteration": 288,
                        "remaining_time": 0.4659293873,
                        "learn": [
                          0.2575196827
                        ]
                      },
                      {
                        "test": [
                          0.3343726036
                        ],
                        "passed_time": 12.28074277,
                        "iteration": 289,
                        "remaining_time": 0.4234738888,
                        "learn": [
                          0.257392479
                        ]
                      },
                      {
                        "test": [
                          0.3343455314
                        ],
                        "passed_time": 12.32211531,
                        "iteration": 290,
                        "remaining_time": 0.3810963499,
                        "learn": [
                          0.2572813848
                        ]
                      },
                      {
                        "test": [
                          0.3344218532
                        ],
                        "passed_time": 12.36688534,
                        "iteration": 291,
                        "remaining_time": 0.3388187764,
                        "learn": [
                          0.2570097759
                        ]
                      },
                      {
                        "test": [
                          0.3345014437
                        ],
                        "passed_time": 12.40518146,
                        "iteration": 292,
                        "remaining_time": 0.296369523,
                        "learn": [
                          0.2567962173
                        ]
                      },
                      {
                        "test": [
                          0.3344589833
                        ],
                        "passed_time": 12.44270558,
                        "iteration": 293,
                        "remaining_time": 0.2539327669,
                        "learn": [
                          0.2566822046
                        ]
                      },
                      {
                        "test": [
                          0.3345186708
                        ],
                        "passed_time": 12.48118478,
                        "iteration": 294,
                        "remaining_time": 0.2115455047,
                        "learn": [
                          0.256451828
                        ]
                      },
                      {
                        "test": [
                          0.3347729007
                        ],
                        "passed_time": 12.51646233,
                        "iteration": 295,
                        "remaining_time": 0.1691413828,
                        "learn": [
                          0.2561141794
                        ]
                      },
                      {
                        "test": [
                          0.3347746517
                        ],
                        "passed_time": 12.55478957,
                        "iteration": 296,
                        "remaining_time": 0.1268160563,
                        "learn": [
                          0.2558783219
                        ]
                      },
                      {
                        "test": [
                          0.3349078117
                        ],
                        "passed_time": 12.59805277,
                        "iteration": 297,
                        "remaining_time": 0.08455068976,
                        "learn": [
                          0.2557184646
                        ]
                      },
                      {
                        "test": [
                          0.3350157941
                        ],
                        "passed_time": 12.63683528,
                        "iteration": 298,
                        "remaining_time": 0.04226366316,
                        "learn": [
                          0.2554469239
                        ]
                      },
                      {
                        "test": [
                          0.3349953212
                        ],
                        "passed_time": 12.67936889,
                        "iteration": 299,
                        "remaining_time": 0,
                        "learn": [
                          0.2552294618
                        ]
                      }
                    ]
                  },
                  "total_iterations": 300,
                  "passed_iterations": 299
                },
                "path": "catboost_info",
                "name": "catboost_info"
              }
            },
            "_view_module": "catboost-widget",
            "_model_module_version": "^1.0.0",
            "_view_count": null,
            "_view_module_version": "^1.0.0",
            "layout": "IPY_MODEL_6f3c91e266914030b73d2039c171a739",
            "_model_module": "catboost-widget"
          }
        }
      }
    }
  },
  "cells": [
    {
      "cell_type": "code",
      "metadata": {
        "id": "riWw8N4kc6Gd"
      },
      "source": [
        "# importing required libraries.\n",
        "import pandas as pd\n",
        "import numpy as np\n",
        "import csv\n",
        "import sklearn\n",
        "from sklearn.model_selection import train_test_split\n",
        "from xgboost import XGBClassifier\n",
        "from sklearn.ensemble import GradientBoostingClassifier\n",
        "from sklearn.metrics import accuracy_score\n",
        "from sklearn.preprocessing import StandardScaler\n",
        "from imblearn.over_sampling import SMOTE\n",
        "from sklearn.preprocessing import OrdinalEncoder\n",
        "from sklearn.preprocessing import LabelEncoder\n",
        "from sklearn.decomposition import PCA\n",
        "from sklearn.preprocessing import StandardScaler"
      ],
      "execution_count": 140,
      "outputs": []
    },
    {
      "cell_type": "code",
      "metadata": {
        "colab": {
          "base_uri": "https://localhost:8080/"
        },
        "id": "t5pSNJ4Teoei",
        "outputId": "4d62a08e-a86a-4260-e751-eeaa9a5a5aae"
      },
      "source": [
        "# uploading train and test data.\n",
        "df = pd.read_csv(\"train.csv\",delimiter=',', low_memory=False)\n",
        "df1 = pd.read_csv(\"test.csv\",delimiter=',', low_memory=False)\n",
        "## Analyzing data for cleansing.\n",
        "df.info()"
      ],
      "execution_count": 141,
      "outputs": [
        {
          "output_type": "stream",
          "name": "stdout",
          "text": [
            "<class 'pandas.core.frame.DataFrame'>\n",
            "RangeIndex: 51490 entries, 0 to 51489\n",
            "Data columns (total 42 columns):\n",
            " #   Column                          Non-Null Count  Dtype  \n",
            "---  ------                          --------------  -----  \n",
            " 0   Report Number                   51490 non-null  object \n",
            " 1   Local Case Number               45037 non-null  object \n",
            " 2   Agency Name                     51490 non-null  object \n",
            " 3   ACRS Report Type                51490 non-null  object \n",
            " 4   Crash Date/Time                 51490 non-null  object \n",
            " 5   Route Type                      46522 non-null  object \n",
            " 6   Road Name                       46988 non-null  object \n",
            " 7   Cross-Street Type               46471 non-null  object \n",
            " 8   Cross-Street Name               46968 non-null  object \n",
            " 9   Off-Road Description            6950 non-null   object \n",
            " 10  Municipality                    7567 non-null   object \n",
            " 11  Related Non-Motorist            3648 non-null   object \n",
            " 12  Collision Type                  51191 non-null  object \n",
            " 13  Weather                         47461 non-null  object \n",
            " 14  Surface Condition               45611 non-null  object \n",
            " 15  Light                           50786 non-null  object \n",
            " 16  Traffic Control                 43716 non-null  object \n",
            " 17  Driver Substance Abuse          42395 non-null  object \n",
            " 18  Non-Motorist Substance Abuse    3384 non-null   object \n",
            " 19  Person ID                       51490 non-null  object \n",
            " 20  Injury Severity                 51490 non-null  object \n",
            " 21  Circumstance                    11752 non-null  object \n",
            " 22  Drivers License State           48962 non-null  object \n",
            " 23  Vehicle ID                      51490 non-null  object \n",
            " 24  Vehicle Damage Extent           51093 non-null  object \n",
            " 25  Vehicle First Impact Location   51268 non-null  object \n",
            " 26  Vehicle Second Impact Location  51256 non-null  object \n",
            " 27  Vehicle Body Type               50705 non-null  object \n",
            " 28  Vehicle Movement                51292 non-null  object \n",
            " 29  Vehicle Continuing Dir          50361 non-null  object \n",
            " 30  Vehicle Going Dir               50377 non-null  object \n",
            " 31  Speed Limit                     51490 non-null  int64  \n",
            " 32  Driverless Vehicle              51490 non-null  object \n",
            " 33  Parked Vehicle                  51490 non-null  object \n",
            " 34  Vehicle Year                    51490 non-null  int64  \n",
            " 35  Vehicle Make                    51482 non-null  object \n",
            " 36  Vehicle Model                   51471 non-null  object \n",
            " 37  Equipment Problems              40824 non-null  object \n",
            " 38  Latitude                        51490 non-null  float64\n",
            " 39  Longitude                       51490 non-null  float64\n",
            " 40  Location                        51490 non-null  object \n",
            " 41  Fault                           51490 non-null  int64  \n",
            "dtypes: float64(2), int64(3), object(37)\n",
            "memory usage: 16.5+ MB\n"
          ]
        }
      ]
    },
    {
      "cell_type": "code",
      "metadata": {
        "colab": {
          "base_uri": "https://localhost:8080/"
        },
        "id": "CgtjKSj4WifX",
        "outputId": "638987ed-3a0c-4de0-d1f8-6e6f447cb5a4"
      },
      "source": [
        "df.nunique()"
      ],
      "execution_count": 142,
      "outputs": [
        {
          "output_type": "execute_result",
          "data": {
            "text/plain": [
              "Report Number                      3256\n",
              "Local Case Number                  1429\n",
              "Agency Name                          10\n",
              "ACRS Report Type                      3\n",
              "Crash Date/Time                   39573\n",
              "Route Type                           10\n",
              "Road Name                          2226\n",
              "Cross-Street Type                    10\n",
              "Cross-Street Name                  4525\n",
              "Off-Road Description               4017\n",
              "Municipality                         20\n",
              "Related Non-Motorist                 11\n",
              "Collision Type                       18\n",
              "Weather                              12\n",
              "Surface Condition                    11\n",
              "Light                                 8\n",
              "Traffic Control                      11\n",
              "Driver Substance Abuse               11\n",
              "Non-Motorist Substance Abuse          9\n",
              "Person ID                         49209\n",
              "Injury Severity                       5\n",
              "Circumstance                        139\n",
              "Drivers License State                65\n",
              "Vehicle ID                        49160\n",
              "Vehicle Damage Extent                 7\n",
              "Vehicle First Impact Location        16\n",
              "Vehicle Second Impact Location       16\n",
              "Vehicle Body Type                    30\n",
              "Vehicle Movement                     22\n",
              "Vehicle Continuing Dir                5\n",
              "Vehicle Going Dir                     5\n",
              "Speed Limit                          15\n",
              "Driverless Vehicle                    2\n",
              "Parked Vehicle                        2\n",
              "Vehicle Year                         83\n",
              "Vehicle Make                        886\n",
              "Vehicle Model                      3128\n",
              "Equipment Problems                    8\n",
              "Latitude                          37080\n",
              "Longitude                         37669\n",
              "Location                          38953\n",
              "Fault                                 2\n",
              "dtype: int64"
            ]
          },
          "metadata": {},
          "execution_count": 142
        }
      ]
    },
    {
      "cell_type": "code",
      "metadata": {
        "id": "VQ50Y330FRih"
      },
      "source": [
        "a = df['Equipment Problems'].mode()\n",
        "df['Equipment Problems'].fillna('a',inplace=True)\n",
        "\n",
        "a = df1['Equipment Problems'].mode()\n",
        "df1['Equipment Problems'].fillna('a',inplace=True)"
      ],
      "execution_count": 143,
      "outputs": []
    },
    {
      "cell_type": "code",
      "metadata": {
        "colab": {
          "base_uri": "https://localhost:8080/"
        },
        "id": "BZezvvyne46i",
        "outputId": "b90abee4-e6c4-4100-bd1c-d9ba060d9b7a"
      },
      "source": [
        "df = df.drop(['Agency Name','Vehicle Make','Vehicle Model','Equipment Problems','Location','Report Number','Local Case Number','Road Name','Cross-Street Name','Off-Road Description','Person ID','Vehicle ID'],axis=1)\n",
        "## Drop Columns where atleast 80% values are missing/NaN\n",
        "df=df.dropna(thresh=len(df)*.8, axis='columns')\n",
        "print(df.info())\n",
        "df1 = df1.drop(['Location','Report Number','Local Case Number','Road Name','Cross-Street Name','Off-Road Description','Person ID','Vehicle ID'],axis=1)\n",
        "print(df1.info())"
      ],
      "execution_count": 144,
      "outputs": [
        {
          "output_type": "stream",
          "name": "stdout",
          "text": [
            "<class 'pandas.core.frame.DataFrame'>\n",
            "RangeIndex: 51490 entries, 0 to 51489\n",
            "Data columns (total 26 columns):\n",
            " #   Column                          Non-Null Count  Dtype  \n",
            "---  ------                          --------------  -----  \n",
            " 0   ACRS Report Type                51490 non-null  object \n",
            " 1   Crash Date/Time                 51490 non-null  object \n",
            " 2   Route Type                      46522 non-null  object \n",
            " 3   Cross-Street Type               46471 non-null  object \n",
            " 4   Collision Type                  51191 non-null  object \n",
            " 5   Weather                         47461 non-null  object \n",
            " 6   Surface Condition               45611 non-null  object \n",
            " 7   Light                           50786 non-null  object \n",
            " 8   Traffic Control                 43716 non-null  object \n",
            " 9   Driver Substance Abuse          42395 non-null  object \n",
            " 10  Injury Severity                 51490 non-null  object \n",
            " 11  Drivers License State           48962 non-null  object \n",
            " 12  Vehicle Damage Extent           51093 non-null  object \n",
            " 13  Vehicle First Impact Location   51268 non-null  object \n",
            " 14  Vehicle Second Impact Location  51256 non-null  object \n",
            " 15  Vehicle Body Type               50705 non-null  object \n",
            " 16  Vehicle Movement                51292 non-null  object \n",
            " 17  Vehicle Continuing Dir          50361 non-null  object \n",
            " 18  Vehicle Going Dir               50377 non-null  object \n",
            " 19  Speed Limit                     51490 non-null  int64  \n",
            " 20  Driverless Vehicle              51490 non-null  object \n",
            " 21  Parked Vehicle                  51490 non-null  object \n",
            " 22  Vehicle Year                    51490 non-null  int64  \n",
            " 23  Latitude                        51490 non-null  float64\n",
            " 24  Longitude                       51490 non-null  float64\n",
            " 25  Fault                           51490 non-null  int64  \n",
            "dtypes: float64(2), int64(3), object(21)\n",
            "memory usage: 10.2+ MB\n",
            "None\n",
            "<class 'pandas.core.frame.DataFrame'>\n",
            "RangeIndex: 77235 entries, 0 to 77234\n",
            "Data columns (total 34 columns):\n",
            " #   Column                          Non-Null Count  Dtype  \n",
            "---  ------                          --------------  -----  \n",
            " 0   Id                              77235 non-null  int64  \n",
            " 1   Agency Name                     77235 non-null  object \n",
            " 2   ACRS Report Type                77235 non-null  object \n",
            " 3   Crash Date/Time                 77235 non-null  object \n",
            " 4   Route Type                      69768 non-null  object \n",
            " 5   Cross-Street Type               69755 non-null  object \n",
            " 6   Municipality                    8498 non-null   object \n",
            " 7   Related Non-Motorist            2248 non-null   object \n",
            " 8   Collision Type                  76990 non-null  object \n",
            " 9   Weather                         71239 non-null  object \n",
            " 10  Surface Condition               68182 non-null  object \n",
            " 11  Light                           76615 non-null  object \n",
            " 12  Traffic Control                 65185 non-null  object \n",
            " 13  Driver Substance Abuse          63152 non-null  object \n",
            " 14  Non-Motorist Substance Abuse    1777 non-null   object \n",
            " 15  Injury Severity                 77235 non-null  object \n",
            " 16  Circumstance                    14545 non-null  object \n",
            " 17  Drivers License State           73315 non-null  object \n",
            " 18  Vehicle Damage Extent           77099 non-null  object \n",
            " 19  Vehicle First Impact Location   77154 non-null  object \n",
            " 20  Vehicle Second Impact Location  77096 non-null  object \n",
            " 21  Vehicle Body Type               76128 non-null  object \n",
            " 22  Vehicle Movement                77082 non-null  object \n",
            " 23  Vehicle Continuing Dir          76034 non-null  object \n",
            " 24  Vehicle Going Dir               76034 non-null  object \n",
            " 25  Speed Limit                     77235 non-null  int64  \n",
            " 26  Driverless Vehicle              77235 non-null  object \n",
            " 27  Parked Vehicle                  77235 non-null  object \n",
            " 28  Vehicle Year                    77235 non-null  int64  \n",
            " 29  Vehicle Make                    77222 non-null  object \n",
            " 30  Vehicle Model                   77201 non-null  object \n",
            " 31  Equipment Problems              77235 non-null  object \n",
            " 32  Latitude                        77235 non-null  float64\n",
            " 33  Longitude                       77235 non-null  float64\n",
            "dtypes: float64(2), int64(3), object(29)\n",
            "memory usage: 20.0+ MB\n",
            "None\n"
          ]
        }
      ]
    },
    {
      "cell_type": "code",
      "metadata": {
        "id": "4Hb2c-oCgDC1"
      },
      "source": [
        "df1 = df1.drop(['Agency Name','Vehicle Make','Vehicle Model','Equipment Problems','Municipality','Related Non-Motorist','Non-Motorist Substance Abuse','Circumstance'],axis=1)"
      ],
      "execution_count": 145,
      "outputs": []
    },
    {
      "cell_type": "code",
      "metadata": {
        "id": "DvBtf4xC7h_6"
      },
      "source": [
        "a = df['Route Type'].mode()\n",
        "df['Route Type'].fillna('a',inplace=True)\n",
        "a = df['Cross-Street Type'].mode()\n",
        "df['Cross-Street Type'].fillna('a',inplace=True)\n",
        "a = df['Collision Type'].mode()\n",
        "df['Collision Type'].fillna('a',inplace=True)\n",
        "a = df['Weather'].mode()\n",
        "df['Weather'].fillna('a',inplace=True)\n",
        "a = df['Surface Condition'].mode()\n",
        "df['Surface Condition'].fillna('a',inplace=True)\n",
        "a = df['Light'].mode()\n",
        "df['Light'].fillna('a',inplace=True)\n",
        "a = df['Traffic Control'].mode()\n",
        "df['Traffic Control'].fillna('a',inplace=True)\n",
        "a = df['Driver Substance Abuse'].mode()\n",
        "df['Driver Substance Abuse'].fillna('a',inplace=True)\n",
        "a = df['Drivers License State'].mode()\n",
        "df['Drivers License State'].fillna('a',inplace=True)\n",
        "a = df['Vehicle Damage Extent'].mode()\n",
        "df['Vehicle Damage Extent'].fillna('a',inplace=True)\n",
        "a = df['Vehicle First Impact Location'].mode()\n",
        "df['Vehicle First Impact Location'].fillna('a',inplace=True)\n",
        "a = df['Vehicle Second Impact Location'].mode()\n",
        "df['Vehicle Second Impact Location'].fillna('a',inplace=True)\n",
        "a = df['Vehicle Body Type'].mode()\n",
        "df['Vehicle Body Type'].fillna('a',inplace=True)\n",
        "a = df['Vehicle Movement'].mode()\n",
        "df['Vehicle Movement'].fillna('a',inplace=True)\n",
        "a = df['Vehicle Continuing Dir'].mode()\n",
        "df['Vehicle Continuing Dir'].fillna('a',inplace=True)\n",
        "a = df['Vehicle Going Dir'].mode()\n",
        "df['Vehicle Going Dir'].fillna('a',inplace=True)\n",
        "\n",
        "a = df1['Route Type'].mode()\n",
        "df1['Route Type'].fillna('a',inplace=True)\n",
        "a = df1['Cross-Street Type'].mode()\n",
        "df1['Cross-Street Type'].fillna('a',inplace=True)\n",
        "a = df1['Collision Type'].mode()\n",
        "df1['Collision Type'].fillna('a',inplace=True)\n",
        "a = df1['Weather'].mode()\n",
        "df1['Weather'].fillna('a',inplace=True)\n",
        "a = df1['Surface Condition'].mode()\n",
        "df1['Surface Condition'].fillna('a',inplace=True)\n",
        "a = df1['Light'].mode()\n",
        "df1['Light'].fillna('a',inplace=True)\n",
        "a = df1['Traffic Control'].mode()\n",
        "df1['Traffic Control'].fillna('a',inplace=True)\n",
        "a = df1['Driver Substance Abuse'].mode()\n",
        "df1['Driver Substance Abuse'].fillna('a',inplace=True)\n",
        "a = df1['Drivers License State'].mode()\n",
        "df1['Drivers License State'].fillna('a',inplace=True)\n",
        "a = df1['Vehicle Damage Extent'].mode()\n",
        "df1['Vehicle Damage Extent'].fillna('a',inplace=True)\n",
        "a = df1['Vehicle First Impact Location'].mode()\n",
        "df1['Vehicle First Impact Location'].fillna('a',inplace=True)\n",
        "a = df1['Vehicle Second Impact Location'].mode()\n",
        "df1['Vehicle Second Impact Location'].fillna('a',inplace=True)\n",
        "a = df1['Vehicle Body Type'].mode()\n",
        "df1['Vehicle Body Type'].fillna('a',inplace=True)\n",
        "a = df1['Vehicle Movement'].mode()\n",
        "df1['Vehicle Movement'].fillna('a',inplace=True)\n",
        "a = df1['Vehicle Continuing Dir'].mode()\n",
        "df1['Vehicle Continuing Dir'].fillna('a',inplace=True)\n",
        "a = df1['Vehicle Going Dir'].mode()\n",
        "df1['Vehicle Going Dir'].fillna('a',inplace=True)\n",
        "\n"
      ],
      "execution_count": 146,
      "outputs": []
    },
    {
      "cell_type": "code",
      "metadata": {
        "colab": {
          "base_uri": "https://localhost:8080/"
        },
        "id": "V9v-5z-g7Uiy",
        "outputId": "3871577f-891e-45a4-b497-0fafcd5ee0a3"
      },
      "source": [
        "\n",
        "print(df.info())\n",
        "print(df1.info())"
      ],
      "execution_count": 147,
      "outputs": [
        {
          "output_type": "stream",
          "name": "stdout",
          "text": [
            "<class 'pandas.core.frame.DataFrame'>\n",
            "RangeIndex: 51490 entries, 0 to 51489\n",
            "Data columns (total 26 columns):\n",
            " #   Column                          Non-Null Count  Dtype  \n",
            "---  ------                          --------------  -----  \n",
            " 0   ACRS Report Type                51490 non-null  object \n",
            " 1   Crash Date/Time                 51490 non-null  object \n",
            " 2   Route Type                      51490 non-null  object \n",
            " 3   Cross-Street Type               51490 non-null  object \n",
            " 4   Collision Type                  51490 non-null  object \n",
            " 5   Weather                         51490 non-null  object \n",
            " 6   Surface Condition               51490 non-null  object \n",
            " 7   Light                           51490 non-null  object \n",
            " 8   Traffic Control                 51490 non-null  object \n",
            " 9   Driver Substance Abuse          51490 non-null  object \n",
            " 10  Injury Severity                 51490 non-null  object \n",
            " 11  Drivers License State           51490 non-null  object \n",
            " 12  Vehicle Damage Extent           51490 non-null  object \n",
            " 13  Vehicle First Impact Location   51490 non-null  object \n",
            " 14  Vehicle Second Impact Location  51490 non-null  object \n",
            " 15  Vehicle Body Type               51490 non-null  object \n",
            " 16  Vehicle Movement                51490 non-null  object \n",
            " 17  Vehicle Continuing Dir          51490 non-null  object \n",
            " 18  Vehicle Going Dir               51490 non-null  object \n",
            " 19  Speed Limit                     51490 non-null  int64  \n",
            " 20  Driverless Vehicle              51490 non-null  object \n",
            " 21  Parked Vehicle                  51490 non-null  object \n",
            " 22  Vehicle Year                    51490 non-null  int64  \n",
            " 23  Latitude                        51490 non-null  float64\n",
            " 24  Longitude                       51490 non-null  float64\n",
            " 25  Fault                           51490 non-null  int64  \n",
            "dtypes: float64(2), int64(3), object(21)\n",
            "memory usage: 10.2+ MB\n",
            "None\n",
            "<class 'pandas.core.frame.DataFrame'>\n",
            "RangeIndex: 77235 entries, 0 to 77234\n",
            "Data columns (total 26 columns):\n",
            " #   Column                          Non-Null Count  Dtype  \n",
            "---  ------                          --------------  -----  \n",
            " 0   Id                              77235 non-null  int64  \n",
            " 1   ACRS Report Type                77235 non-null  object \n",
            " 2   Crash Date/Time                 77235 non-null  object \n",
            " 3   Route Type                      77235 non-null  object \n",
            " 4   Cross-Street Type               77235 non-null  object \n",
            " 5   Collision Type                  77235 non-null  object \n",
            " 6   Weather                         77235 non-null  object \n",
            " 7   Surface Condition               77235 non-null  object \n",
            " 8   Light                           77235 non-null  object \n",
            " 9   Traffic Control                 77235 non-null  object \n",
            " 10  Driver Substance Abuse          77235 non-null  object \n",
            " 11  Injury Severity                 77235 non-null  object \n",
            " 12  Drivers License State           77235 non-null  object \n",
            " 13  Vehicle Damage Extent           77235 non-null  object \n",
            " 14  Vehicle First Impact Location   77235 non-null  object \n",
            " 15  Vehicle Second Impact Location  77235 non-null  object \n",
            " 16  Vehicle Body Type               77235 non-null  object \n",
            " 17  Vehicle Movement                77235 non-null  object \n",
            " 18  Vehicle Continuing Dir          77235 non-null  object \n",
            " 19  Vehicle Going Dir               77235 non-null  object \n",
            " 20  Speed Limit                     77235 non-null  int64  \n",
            " 21  Driverless Vehicle              77235 non-null  object \n",
            " 22  Parked Vehicle                  77235 non-null  object \n",
            " 23  Vehicle Year                    77235 non-null  int64  \n",
            " 24  Latitude                        77235 non-null  float64\n",
            " 25  Longitude                       77235 non-null  float64\n",
            "dtypes: float64(2), int64(3), object(21)\n",
            "memory usage: 15.3+ MB\n",
            "None\n"
          ]
        }
      ]
    },
    {
      "cell_type": "code",
      "metadata": {
        "colab": {
          "base_uri": "https://localhost:8080/"
        },
        "id": "eY8cIP4LgGmM",
        "outputId": "d8534ecf-f7e3-4e4e-d197-e25e59e6563d"
      },
      "source": [
        "data = ['ACRS Report Type','Route Type','Cross-Street Type','Collision Type','Weather','Surface Condition','Light','Traffic Control','Driver Substance Abuse','Injury Severity','Drivers License State','Vehicle Damage Extent','Vehicle First Impact Location','Vehicle Body Type','Vehicle Movement','Vehicle Continuing Dir','Vehicle Going Dir','Speed Limit','Driverless Vehicle','Parked Vehicle']\n",
        "for i in data:\n",
        "  print(df[i].value_counts(),'\\n\\n\\n',df1[i].value_counts(),'\\n\\n---------------------------------------------------------------------------\\n\\n')"
      ],
      "execution_count": 148,
      "outputs": [
        {
          "output_type": "stream",
          "name": "stdout",
          "text": [
            "Property Damage Crash    31660\n",
            "Injury Crash             18978\n",
            "Fatal Crash                852\n",
            "Name: ACRS Report Type, dtype: int64 \n",
            "\n",
            "\n",
            " Property Damage Crash    48193\n",
            "Injury Crash             28927\n",
            "Fatal Crash                115\n",
            "Name: ACRS Report Type, dtype: int64 \n",
            "\n",
            "---------------------------------------------------------------------------\n",
            "\n",
            "\n",
            "Maryland (State)        22482\n",
            "County                  16059\n",
            "a                        4968\n",
            "Municipality             2840\n",
            "US (State)               2291\n",
            "Interstate (State)       1145\n",
            "Other Public Roadway      489\n",
            "Ramp                      398\n",
            "Government                390\n",
            "Service Road              218\n",
            "Unknown                   210\n",
            "Name: Route Type, dtype: int64 \n",
            "\n",
            "\n",
            " Maryland (State)        34744\n",
            "County                  24957\n",
            "a                        7467\n",
            "Municipality             4208\n",
            "US (State)               3262\n",
            "Interstate (State)       1455\n",
            "Other Public Roadway      524\n",
            "Government                315\n",
            "Ramp                      268\n",
            "Service Road               23\n",
            "Unknown                    12\n",
            "Name: Route Type, dtype: int64 \n",
            "\n",
            "---------------------------------------------------------------------------\n",
            "\n",
            "\n",
            "County                  24694\n",
            "Maryland (State)         7157\n",
            "Municipality             5555\n",
            "a                        5019\n",
            "Unknown                  3958\n",
            "Ramp                     1946\n",
            "Other Public Roadway     1268\n",
            "US (State)                650\n",
            "Government                574\n",
            "Interstate (State)        421\n",
            "Service Road              248\n",
            "Name: Cross-Street Type, dtype: int64 \n",
            "\n",
            "\n",
            " County                  38752\n",
            "Maryland (State)        10802\n",
            "Municipality             8521\n",
            "a                        7480\n",
            "Unknown                  5860\n",
            "Ramp                     2631\n",
            "Other Public Roadway     1687\n",
            "US (State)                641\n",
            "Government                509\n",
            "Interstate (State)        305\n",
            "Service Road               47\n",
            "Name: Cross-Street Type, dtype: int64 \n",
            "\n",
            "---------------------------------------------------------------------------\n",
            "\n",
            "\n",
            "SAME DIR REAR END               16731\n",
            "STRAIGHT MOVEMENT ANGLE          8556\n",
            "OTHER                            5469\n",
            "SINGLE VEHICLE                   4717\n",
            "SAME DIRECTION SIDESWIPE         4419\n",
            "HEAD ON LEFT TURN                3855\n",
            "HEAD ON                          1195\n",
            "SAME DIRECTION LEFT TURN         1156\n",
            "SAME DIRECTION RIGHT TURN        1151\n",
            "OPPOSITE DIRECTION SIDESWIPE      889\n",
            "ANGLE MEETS LEFT TURN             750\n",
            "ANGLE MEETS RIGHT TURN            479\n",
            "SAME DIR REND LEFT TURN           360\n",
            "ANGLE MEETS LEFT HEAD ON          341\n",
            "SAME DIR REND RIGHT TURN          338\n",
            "UNKNOWN                           304\n",
            "a                                 299\n",
            "SAME DIR BOTH LEFT TURN           273\n",
            "OPPOSITE DIR BOTH LEFT TURN       208\n",
            "Name: Collision Type, dtype: int64 \n",
            "\n",
            "\n",
            " SAME DIR REAR END               26463\n",
            "STRAIGHT MOVEMENT ANGLE         13121\n",
            "OTHER                            8424\n",
            "SINGLE VEHICLE                   7102\n",
            "SAME DIRECTION SIDESWIPE         6912\n",
            "HEAD ON LEFT TURN                5716\n",
            "SAME DIRECTION RIGHT TURN        1672\n",
            "SAME DIRECTION LEFT TURN         1638\n",
            "HEAD ON                          1638\n",
            "OPPOSITE DIRECTION SIDESWIPE     1238\n",
            "ANGLE MEETS LEFT TURN             867\n",
            "ANGLE MEETS RIGHT TURN            525\n",
            "SAME DIR REND LEFT TURN           357\n",
            "SAME DIR REND RIGHT TURN          335\n",
            "ANGLE MEETS LEFT HEAD ON          315\n",
            "SAME DIR BOTH LEFT TURN           285\n",
            "UNKNOWN                           258\n",
            "a                                 245\n",
            "OPPOSITE DIR BOTH LEFT TURN       124\n",
            "Name: Collision Type, dtype: int64 \n",
            "\n",
            "---------------------------------------------------------------------------\n",
            "\n",
            "\n",
            "CLEAR                       33114\n",
            "RAINING                      6173\n",
            "CLOUDY                       5293\n",
            "a                            4029\n",
            "SNOW                          680\n",
            "FOGGY                         377\n",
            "UNKNOWN                       361\n",
            "WINTRY MIX                    304\n",
            "OTHER                         291\n",
            "SLEET                         231\n",
            "SEVERE WINDS                  220\n",
            "BLOWING SNOW                  216\n",
            "BLOWING SAND, SOIL, DIRT      201\n",
            "Name: Weather, dtype: int64 \n",
            "\n",
            "\n",
            " CLEAR                       51679\n",
            "RAINING                      9449\n",
            "CLOUDY                       8170\n",
            "a                            5996\n",
            "SNOW                          728\n",
            "FOGGY                         300\n",
            "UNKNOWN                       277\n",
            "WINTRY MIX                    206\n",
            "OTHER                         173\n",
            "SLEET                         111\n",
            "SEVERE WINDS                   80\n",
            "BLOWING SNOW                   58\n",
            "BLOWING SAND, SOIL, DIRT        8\n",
            "Name: Weather, dtype: int64 \n",
            "\n",
            "---------------------------------------------------------------------------\n",
            "\n",
            "\n",
            "DRY                       34197\n",
            "WET                        8593\n",
            "a                          5879\n",
            "ICE                         530\n",
            "SNOW                        528\n",
            "UNKNOWN                     342\n",
            "SLUSH                       281\n",
            "WATER(STANDING/MOVING)      252\n",
            "OTHER                       242\n",
            "MUD, DIRT, GRAVEL           226\n",
            "OIL                         222\n",
            "SAND                        198\n",
            "Name: Surface Condition, dtype: int64 \n",
            "\n",
            "\n",
            " DRY                       53613\n",
            "WET                       13068\n",
            "a                          9053\n",
            "ICE                         543\n",
            "SNOW                        484\n",
            "UNKNOWN                     214\n",
            "SLUSH                       120\n",
            "OTHER                        84\n",
            "MUD, DIRT, GRAVEL            22\n",
            "WATER(STANDING/MOVING)       19\n",
            "OIL                          13\n",
            "SAND                          2\n",
            "Name: Surface Condition, dtype: int64 \n",
            "\n",
            "---------------------------------------------------------------------------\n",
            "\n",
            "\n",
            "DAYLIGHT                    33617\n",
            "DARK LIGHTS ON              11224\n",
            "DARK NO LIGHTS               1716\n",
            "DUSK                         1425\n",
            "DAWN                         1222\n",
            "DARK -- UNKNOWN LIGHTING      727\n",
            "a                             704\n",
            "UNKNOWN                       480\n",
            "OTHER                         375\n",
            "Name: Light, dtype: int64 \n",
            "\n",
            "\n",
            " DAYLIGHT                    52759\n",
            "DARK LIGHTS ON              17190\n",
            "DARK NO LIGHTS               2260\n",
            "DUSK                         1821\n",
            "DAWN                         1537\n",
            "DARK -- UNKNOWN LIGHTING      637\n",
            "a                             620\n",
            "UNKNOWN                       258\n",
            "OTHER                         153\n",
            "Name: Light, dtype: int64 \n",
            "\n",
            "---------------------------------------------------------------------------\n",
            "\n",
            "\n",
            "NO CONTROLS                19627\n",
            "TRAFFIC SIGNAL             16746\n",
            "a                           7774\n",
            "STOP SIGN                   3771\n",
            "OTHER                        793\n",
            "FLASHING TRAFFIC SIGNAL      779\n",
            "YIELD SIGN                   762\n",
            "PERSON                       290\n",
            "UNKNOWN                      272\n",
            "WARNING SIGN                 259\n",
            "RAILWAY CROSSING DEVICE      212\n",
            "SCHOOL ZONE SIGN DEVICE      205\n",
            "Name: Traffic Control, dtype: int64 \n",
            "\n",
            "\n",
            " NO CONTROLS                30691\n",
            "TRAFFIC SIGNAL             25965\n",
            "a                          12050\n",
            "STOP SIGN                   5556\n",
            "FLASHING TRAFFIC SIGNAL      923\n",
            "OTHER                        914\n",
            "YIELD SIGN                   842\n",
            "PERSON                       114\n",
            "UNKNOWN                       84\n",
            "WARNING SIGN                  71\n",
            "RAILWAY CROSSING DEVICE       19\n",
            "SCHOOL ZONE SIGN DEVICE        6\n",
            "Name: Traffic Control, dtype: int64 \n",
            "\n",
            "---------------------------------------------------------------------------\n",
            "\n",
            "\n",
            "NONE DETECTED                 35324\n",
            "a                              9095\n",
            "UNKNOWN                        3381\n",
            "ALCOHOL PRESENT                1403\n",
            "ALCOHOL CONTRIBUTED             610\n",
            "ILLEGAL DRUG PRESENT            293\n",
            "MEDICATION PRESENT              261\n",
            "ILLEGAL DRUG CONTRIBUTED        231\n",
            "MEDICATION CONTRIBUTED          231\n",
            "COMBINATION CONTRIBUTED         224\n",
            "OTHER                           224\n",
            "COMBINED SUBSTANCE PRESENT      213\n",
            "Name: Driver Substance Abuse, dtype: int64 \n",
            "\n",
            "\n",
            " NONE DETECTED                 55174\n",
            "a                             14083\n",
            "UNKNOWN                        5020\n",
            "ALCOHOL PRESENT                1879\n",
            "ALCOHOL CONTRIBUTED             713\n",
            "ILLEGAL DRUG PRESENT            134\n",
            "MEDICATION PRESENT               52\n",
            "ILLEGAL DRUG CONTRIBUTED         47\n",
            "MEDICATION CONTRIBUTED           41\n",
            "COMBINED SUBSTANCE PRESENT       40\n",
            "OTHER                            28\n",
            "COMBINATION CONTRIBUTED          24\n",
            "Name: Driver Substance Abuse, dtype: int64 \n",
            "\n",
            "---------------------------------------------------------------------------\n",
            "\n",
            "\n",
            "NO APPARENT INJURY          40511\n",
            "POSSIBLE INJURY              5545\n",
            "SUSPECTED MINOR INJURY       3993\n",
            "SUSPECTED SERIOUS INJURY      914\n",
            "FATAL INJURY                  527\n",
            "Name: Injury Severity, dtype: int64 \n",
            "\n",
            "\n",
            " NO APPARENT INJURY          62928\n",
            "POSSIBLE INJURY              7969\n",
            "SUSPECTED MINOR INJURY       5626\n",
            "SUSPECTED SERIOUS INJURY      659\n",
            "FATAL INJURY                   53\n",
            "Name: Injury Severity, dtype: int64 \n",
            "\n",
            "---------------------------------------------------------------------------\n",
            "\n",
            "\n",
            "MD    40978\n",
            "a      2528\n",
            "VA     1569\n",
            "DC     1461\n",
            "XX      463\n",
            "      ...  \n",
            "AS       36\n",
            "AK       35\n",
            "ID       33\n",
            "NL       31\n",
            "MH       30\n",
            "Name: Drivers License State, Length: 66, dtype: int64 \n",
            "\n",
            "\n",
            " MD    64540\n",
            "a      3920\n",
            "DC     2346\n",
            "VA     2332\n",
            "XX      687\n",
            "      ...  \n",
            "NS        1\n",
            "SK        1\n",
            "MP        1\n",
            "FM        1\n",
            "AS        1\n",
            "Name: Drivers License State, Length: 74, dtype: int64 \n",
            "\n",
            "---------------------------------------------------------------------------\n",
            "\n",
            "\n",
            "DISABLING      17970\n",
            "FUNCTIONAL     13350\n",
            "SUPERFICIAL    12963\n",
            "DESTROYED       2377\n",
            "NO DAMAGE       2056\n",
            "UNKNOWN         2025\n",
            "a                397\n",
            "OTHER            352\n",
            "Name: Vehicle Damage Extent, dtype: int64 \n",
            "\n",
            "\n",
            " DISABLING      27950\n",
            "FUNCTIONAL     20578\n",
            "SUPERFICIAL    19850\n",
            "DESTROYED       3184\n",
            "NO DAMAGE       2755\n",
            "UNKNOWN         2737\n",
            "a                136\n",
            "OTHER             45\n",
            "Name: Vehicle Damage Extent, dtype: int64 \n",
            "\n",
            "---------------------------------------------------------------------------\n",
            "\n",
            "\n",
            "TWELVE OCLOCK    19695\n",
            "SIX OCLOCK       10379\n",
            "ONE OCLOCK        4713\n",
            "ELEVEN OCLOCK     3975\n",
            "TWO OCLOCK        1825\n",
            "TEN OCLOCK        1815\n",
            "SEVEN OCLOCK      1391\n",
            "FIVE OCLOCK       1302\n",
            "FOUR OCLOCK       1251\n",
            "EIGHT OCLOCK      1143\n",
            "NINE OCLOCK       1064\n",
            "THREE OCLOCK      1042\n",
            "UNKNOWN            892\n",
            "UNDERSIDE          310\n",
            "NON-COLLISION      242\n",
            "ROOF TOP           229\n",
            "a                  222\n",
            "Name: Vehicle First Impact Location, dtype: int64 \n",
            "\n",
            "\n",
            " TWELVE OCLOCK    30543\n",
            "SIX OCLOCK       16282\n",
            "ONE OCLOCK        7106\n",
            "ELEVEN OCLOCK     6277\n",
            "TWO OCLOCK        2593\n",
            "TEN OCLOCK        2561\n",
            "SEVEN OCLOCK      1909\n",
            "FIVE OCLOCK       1853\n",
            "FOUR OCLOCK       1792\n",
            "EIGHT OCLOCK      1569\n",
            "NINE OCLOCK       1433\n",
            "THREE OCLOCK      1426\n",
            "UNKNOWN           1259\n",
            "UNDERSIDE          228\n",
            "NON-COLLISION      168\n",
            "ROOF TOP           155\n",
            "a                   81\n",
            "Name: Vehicle First Impact Location, dtype: int64 \n",
            "\n",
            "---------------------------------------------------------------------------\n",
            "\n",
            "\n",
            "PASSENGER CAR                                                34162\n",
            "(SPORT) UTILITY VEHICLE                                       4493\n",
            "PICKUP TRUCK                                                  2060\n",
            "VAN                                                           1471\n",
            "TRANSIT BUS                                                   1124\n",
            "SCHOOL BUS                                                     869\n",
            "a                                                              785\n",
            "POLICE VEHICLE/NON EMERGENCY                                   669\n",
            "OTHER LIGHT TRUCKS (10,000LBS (4,536KG) OR LESS)               629\n",
            "OTHER                                                          600\n",
            "CARGO VAN/LIGHT TRUCK 2 AXLES (OVER 10,000LBS (4,536 KG))      600\n",
            "POLICE VEHICLE/EMERGENCY                                       557\n",
            "MEDIUM/HEAVY TRUCKS 3 AXLES (OVER 10,000LBS (4,536KG))         512\n",
            "UNKNOWN                                                        353\n",
            "MOTORCYCLE                                                     312\n",
            "STATION WAGON                                                  298\n",
            "TRUCK TRACTOR                                                  221\n",
            "OTHER BUS                                                      214\n",
            "FIRE VEHICLE/EMERGENCY                                         188\n",
            "AMBULANCE/EMERGENCY                                            187\n",
            "FIRE VEHICLE/NON EMERGENCY                                     182\n",
            "RECREATIONAL VEHICLE                                           132\n",
            "AMBULANCE/NON EMERGENCY                                        125\n",
            "SNOWMOBILE                                                     116\n",
            "ALL TERRAIN VEHICLE (ATV)                                      108\n",
            "MOPED                                                           97\n",
            "AUTOCYCLE                                                       95\n",
            "LOW SPEED VEHICLE                                               92\n",
            "CROSS COUNTRY BUS                                               83\n",
            "FARM VEHICLE                                                    81\n",
            "LIMOUSINE                                                       75\n",
            "Name: Vehicle Body Type, dtype: int64 \n",
            "\n",
            "\n",
            " PASSENGER CAR                                                53553\n",
            "(SPORT) UTILITY VEHICLE                                       7078\n",
            "PICKUP TRUCK                                                  3020\n",
            "VAN                                                           2235\n",
            "TRANSIT BUS                                                   1549\n",
            "SCHOOL BUS                                                    1264\n",
            "a                                                             1107\n",
            "POLICE VEHICLE/NON EMERGENCY                                   945\n",
            "OTHER LIGHT TRUCKS (10,000LBS (4,536KG) OR LESS)               944\n",
            "CARGO VAN/LIGHT TRUCK 2 AXLES (OVER 10,000LBS (4,536 KG))      835\n",
            "OTHER                                                          784\n",
            "POLICE VEHICLE/EMERGENCY                                       712\n",
            "MEDIUM/HEAVY TRUCKS 3 AXLES (OVER 10,000LBS (4,536KG))         640\n",
            "MOTORCYCLE                                                     418\n",
            "UNKNOWN                                                        407\n",
            "STATION WAGON                                                  340\n",
            "TRUCK TRACTOR                                                  233\n",
            "AMBULANCE/EMERGENCY                                            218\n",
            "FIRE VEHICLE/EMERGENCY                                         206\n",
            "OTHER BUS                                                      198\n",
            "FIRE VEHICLE/NON EMERGENCY                                     136\n",
            "RECREATIONAL VEHICLE                                            99\n",
            "AMBULANCE/NON EMERGENCY                                         82\n",
            "ALL TERRAIN VEHICLE (ATV)                                       65\n",
            "SNOWMOBILE                                                      58\n",
            "MOPED                                                           40\n",
            "AUTOCYCLE                                                       19\n",
            "LOW SPEED VEHICLE                                               16\n",
            "CROSS COUNTRY BUS                                               13\n",
            "FARM VEHICLE                                                    12\n",
            "LIMOUSINE                                                        9\n",
            "Name: Vehicle Body Type, dtype: int64 \n",
            "\n",
            "---------------------------------------------------------------------------\n",
            "\n",
            "\n",
            "MOVING CONSTANT SPEED      18883\n",
            "SLOWING OR STOPPING         7585\n",
            "STOPPED IN TRAFFIC LANE     5577\n",
            "MAKING LEFT TURN            4697\n",
            "ACCELERATING                2852\n",
            "BACKING                     1755\n",
            "MAKING RIGHT TURN           1628\n",
            "STARTING FROM LANE          1415\n",
            "CHANGING LANES              1402\n",
            "PARKED                       851\n",
            "UNKNOWN                      793\n",
            "PARKING                      659\n",
            "STARTING FROM PARKED         630\n",
            "MAKING U TURN                461\n",
            "PASSING                      391\n",
            "OTHER                        339\n",
            "ENTERING TRAFFIC LANE        324\n",
            "SKIDDING                     322\n",
            "NEGOTIATING A CURVE          256\n",
            "RIGHT TURN ON RED            202\n",
            "a                            198\n",
            "LEAVING TRAFFIC LANE         159\n",
            "DRIVERLESS MOVING VEH.       111\n",
            "Name: Vehicle Movement, dtype: int64 \n",
            "\n",
            "\n",
            " MOVING CONSTANT SPEED      29388\n",
            "SLOWING OR STOPPING        11896\n",
            "STOPPED IN TRAFFIC LANE     8724\n",
            "MAKING LEFT TURN            7172\n",
            "ACCELERATING                4315\n",
            "BACKING                     2656\n",
            "MAKING RIGHT TURN           2363\n",
            "CHANGING LANES              2047\n",
            "STARTING FROM LANE          2020\n",
            "PARKED                      1201\n",
            "UNKNOWN                     1049\n",
            "STARTING FROM PARKED         894\n",
            "PARKING                      863\n",
            "MAKING U TURN                513\n",
            "OTHER                        416\n",
            "PASSING                      398\n",
            "ENTERING TRAFFIC LANE        383\n",
            "SKIDDING                     349\n",
            "NEGOTIATING A CURVE          232\n",
            "a                            153\n",
            "RIGHT TURN ON RED            105\n",
            "LEAVING TRAFFIC LANE          83\n",
            "DRIVERLESS MOVING VEH.        15\n",
            "Name: Vehicle Movement, dtype: int64 \n",
            "\n",
            "---------------------------------------------------------------------------\n",
            "\n",
            "\n",
            "North      13711\n",
            "South      13564\n",
            "East       10750\n",
            "West       10360\n",
            "Unknown     1976\n",
            "a           1129\n",
            "Name: Vehicle Continuing Dir, dtype: int64 \n",
            "\n",
            "\n",
            " North      21126\n",
            "South      20698\n",
            "East       16135\n",
            "West       15634\n",
            "Unknown     2441\n",
            "a           1201\n",
            "Name: Vehicle Continuing Dir, dtype: int64 \n",
            "\n",
            "---------------------------------------------------------------------------\n",
            "\n",
            "\n",
            "North      14005\n",
            "South      13723\n",
            "East       10554\n",
            "West       10297\n",
            "Unknown     1798\n",
            "a           1113\n",
            "Name: Vehicle Going Dir, dtype: int64 \n",
            "\n",
            "\n",
            " North      21445\n",
            "South      20976\n",
            "East       15752\n",
            "West       15667\n",
            "Unknown     2194\n",
            "a           1201\n",
            "Name: Vehicle Going Dir, dtype: int64 \n",
            "\n",
            "---------------------------------------------------------------------------\n",
            "\n",
            "\n",
            "35    14119\n",
            "40    10360\n",
            "25     6880\n",
            "30     6802\n",
            "45     3901\n",
            "15     1880\n",
            "50     1549\n",
            "0      1518\n",
            "55     1274\n",
            "5      1247\n",
            "10      989\n",
            "20      471\n",
            "60      185\n",
            "65      161\n",
            "70      154\n",
            "Name: Speed Limit, dtype: int64 \n",
            "\n",
            "\n",
            " 35    21758\n",
            "40    15844\n",
            "25    10631\n",
            "30    10518\n",
            "45     5921\n",
            "15     2725\n",
            "50     2272\n",
            "0      2086\n",
            "55     1840\n",
            "5      1767\n",
            "10     1356\n",
            "20      447\n",
            "65       36\n",
            "60       32\n",
            "70        2\n",
            "Name: Speed Limit, dtype: int64 \n",
            "\n",
            "---------------------------------------------------------------------------\n",
            "\n",
            "\n",
            "No         50099\n",
            "Unknown     1391\n",
            "Name: Driverless Vehicle, dtype: int64 \n",
            "\n",
            "\n",
            " No         76945\n",
            "Unknown      290\n",
            "Name: Driverless Vehicle, dtype: int64 \n",
            "\n",
            "---------------------------------------------------------------------------\n",
            "\n",
            "\n",
            "No     49529\n",
            "Yes     1961\n",
            "Name: Parked Vehicle, dtype: int64 \n",
            "\n",
            "\n",
            " No     76034\n",
            "Yes     1201\n",
            "Name: Parked Vehicle, dtype: int64 \n",
            "\n",
            "---------------------------------------------------------------------------\n",
            "\n",
            "\n"
          ]
        }
      ]
    },
    {
      "cell_type": "code",
      "metadata": {
        "id": "ajki30e7gKFM"
      },
      "source": [
        "df['Crash Date/Time'] = pd.to_datetime(df['Crash Date/Time'])\n",
        "data = [df]\n",
        "for i in data:\n",
        "    i['Year'] = i['Crash Date/Time'].dt.year\n",
        "    i['Month'] = i['Crash Date/Time'].dt.month\n",
        "    i['Date'] = i['Crash Date/Time'].dt.day\n",
        "    i['Day of Week'] = i['Crash Date/Time'].dt.dayofweek\n",
        "    i['Hour'] = i['Crash Date/Time'].dt.hour\n",
        "\n",
        "df1['Crash Date/Time'] = pd.to_datetime(df1['Crash Date/Time'])\n",
        "data1 = [df1]\n",
        "for i in data1:\n",
        "    i['Year'] = i['Crash Date/Time'].dt.year\n",
        "    i['Month'] = i['Crash Date/Time'].dt.month\n",
        "    i['Date'] = i['Crash Date/Time'].dt.day\n",
        "    i['Day of Week'] = i['Crash Date/Time'].dt.dayofweek\n",
        "    i['Hour'] = i['Crash Date/Time'].dt.hour"
      ],
      "execution_count": 149,
      "outputs": []
    },
    {
      "cell_type": "code",
      "metadata": {
        "colab": {
          "base_uri": "https://localhost:8080/",
          "height": 458
        },
        "id": "b_SIpcTDhxb4",
        "outputId": "2d2c006e-dd7f-4d5b-dbe1-2f1580e441b0"
      },
      "source": [
        "df['Vehicle Year'] = df['Year']-df['Vehicle Year']\n",
        "df.drop(['Year'],axis=1)\n",
        "df.head()"
      ],
      "execution_count": 150,
      "outputs": [
        {
          "output_type": "execute_result",
          "data": {
            "text/html": [
              "<div>\n",
              "<style scoped>\n",
              "    .dataframe tbody tr th:only-of-type {\n",
              "        vertical-align: middle;\n",
              "    }\n",
              "\n",
              "    .dataframe tbody tr th {\n",
              "        vertical-align: top;\n",
              "    }\n",
              "\n",
              "    .dataframe thead th {\n",
              "        text-align: right;\n",
              "    }\n",
              "</style>\n",
              "<table border=\"1\" class=\"dataframe\">\n",
              "  <thead>\n",
              "    <tr style=\"text-align: right;\">\n",
              "      <th></th>\n",
              "      <th>ACRS Report Type</th>\n",
              "      <th>Crash Date/Time</th>\n",
              "      <th>Route Type</th>\n",
              "      <th>Cross-Street Type</th>\n",
              "      <th>Collision Type</th>\n",
              "      <th>Weather</th>\n",
              "      <th>Surface Condition</th>\n",
              "      <th>Light</th>\n",
              "      <th>Traffic Control</th>\n",
              "      <th>Driver Substance Abuse</th>\n",
              "      <th>Injury Severity</th>\n",
              "      <th>Drivers License State</th>\n",
              "      <th>Vehicle Damage Extent</th>\n",
              "      <th>Vehicle First Impact Location</th>\n",
              "      <th>Vehicle Second Impact Location</th>\n",
              "      <th>Vehicle Body Type</th>\n",
              "      <th>Vehicle Movement</th>\n",
              "      <th>Vehicle Continuing Dir</th>\n",
              "      <th>Vehicle Going Dir</th>\n",
              "      <th>Speed Limit</th>\n",
              "      <th>Driverless Vehicle</th>\n",
              "      <th>Parked Vehicle</th>\n",
              "      <th>Vehicle Year</th>\n",
              "      <th>Latitude</th>\n",
              "      <th>Longitude</th>\n",
              "      <th>Fault</th>\n",
              "      <th>Year</th>\n",
              "      <th>Month</th>\n",
              "      <th>Date</th>\n",
              "      <th>Day of Week</th>\n",
              "      <th>Hour</th>\n",
              "    </tr>\n",
              "  </thead>\n",
              "  <tbody>\n",
              "    <tr>\n",
              "      <th>0</th>\n",
              "      <td>Injury Crash</td>\n",
              "      <td>2017-06-05 16:27:00</td>\n",
              "      <td>Maryland (State)</td>\n",
              "      <td>County</td>\n",
              "      <td>SINGLE VEHICLE</td>\n",
              "      <td>CLEAR</td>\n",
              "      <td>WET</td>\n",
              "      <td>DAYLIGHT</td>\n",
              "      <td>NO CONTROLS</td>\n",
              "      <td>NONE DETECTED</td>\n",
              "      <td>SUSPECTED MINOR INJURY</td>\n",
              "      <td>MD</td>\n",
              "      <td>DESTROYED</td>\n",
              "      <td>TWELVE OCLOCK</td>\n",
              "      <td>TWELVE OCLOCK</td>\n",
              "      <td>PICKUP TRUCK</td>\n",
              "      <td>MOVING CONSTANT SPEED</td>\n",
              "      <td>South</td>\n",
              "      <td>Unknown</td>\n",
              "      <td>40</td>\n",
              "      <td>No</td>\n",
              "      <td>No</td>\n",
              "      <td>12</td>\n",
              "      <td>39.263378</td>\n",
              "      <td>-77.344203</td>\n",
              "      <td>1</td>\n",
              "      <td>2017</td>\n",
              "      <td>6</td>\n",
              "      <td>5</td>\n",
              "      <td>0</td>\n",
              "      <td>16</td>\n",
              "    </tr>\n",
              "    <tr>\n",
              "      <th>1</th>\n",
              "      <td>Injury Crash</td>\n",
              "      <td>2020-02-22 10:00:00</td>\n",
              "      <td>County</td>\n",
              "      <td>County</td>\n",
              "      <td>STRAIGHT MOVEMENT ANGLE</td>\n",
              "      <td>CLEAR</td>\n",
              "      <td>DRY</td>\n",
              "      <td>DAYLIGHT</td>\n",
              "      <td>STOP SIGN</td>\n",
              "      <td>NONE DETECTED</td>\n",
              "      <td>NO APPARENT INJURY</td>\n",
              "      <td>MD</td>\n",
              "      <td>DISABLING</td>\n",
              "      <td>TWELVE OCLOCK</td>\n",
              "      <td>TWELVE OCLOCK</td>\n",
              "      <td>PASSENGER CAR</td>\n",
              "      <td>ACCELERATING</td>\n",
              "      <td>South</td>\n",
              "      <td>South</td>\n",
              "      <td>25</td>\n",
              "      <td>No</td>\n",
              "      <td>Yes</td>\n",
              "      <td>2</td>\n",
              "      <td>39.068913</td>\n",
              "      <td>-77.063227</td>\n",
              "      <td>1</td>\n",
              "      <td>2020</td>\n",
              "      <td>2</td>\n",
              "      <td>22</td>\n",
              "      <td>5</td>\n",
              "      <td>10</td>\n",
              "    </tr>\n",
              "    <tr>\n",
              "      <th>2</th>\n",
              "      <td>Property Damage Crash</td>\n",
              "      <td>2017-06-11 08:21:00</td>\n",
              "      <td>Maryland (State)</td>\n",
              "      <td>Maryland (State)</td>\n",
              "      <td>SAME DIRECTION RIGHT TURN</td>\n",
              "      <td>CLEAR</td>\n",
              "      <td>DRY</td>\n",
              "      <td>UNKNOWN</td>\n",
              "      <td>OTHER</td>\n",
              "      <td>a</td>\n",
              "      <td>NO APPARENT INJURY</td>\n",
              "      <td>DC</td>\n",
              "      <td>SUPERFICIAL</td>\n",
              "      <td>SIX OCLOCK</td>\n",
              "      <td>SIX OCLOCK</td>\n",
              "      <td>TRANSIT BUS</td>\n",
              "      <td>PARKING</td>\n",
              "      <td>West</td>\n",
              "      <td>West</td>\n",
              "      <td>35</td>\n",
              "      <td>No</td>\n",
              "      <td>No</td>\n",
              "      <td>1</td>\n",
              "      <td>38.993578</td>\n",
              "      <td>-77.032718</td>\n",
              "      <td>0</td>\n",
              "      <td>2017</td>\n",
              "      <td>6</td>\n",
              "      <td>11</td>\n",
              "      <td>6</td>\n",
              "      <td>8</td>\n",
              "    </tr>\n",
              "    <tr>\n",
              "      <th>3</th>\n",
              "      <td>Injury Crash</td>\n",
              "      <td>2019-05-10 07:30:00</td>\n",
              "      <td>County</td>\n",
              "      <td>County</td>\n",
              "      <td>OTHER</td>\n",
              "      <td>CLOUDY</td>\n",
              "      <td>DRY</td>\n",
              "      <td>DAYLIGHT</td>\n",
              "      <td>NO CONTROLS</td>\n",
              "      <td>NONE DETECTED</td>\n",
              "      <td>POSSIBLE INJURY</td>\n",
              "      <td>MD</td>\n",
              "      <td>FUNCTIONAL</td>\n",
              "      <td>TWELVE OCLOCK</td>\n",
              "      <td>TWO OCLOCK</td>\n",
              "      <td>PASSENGER CAR</td>\n",
              "      <td>MOVING CONSTANT SPEED</td>\n",
              "      <td>South</td>\n",
              "      <td>South</td>\n",
              "      <td>25</td>\n",
              "      <td>No</td>\n",
              "      <td>No</td>\n",
              "      <td>18</td>\n",
              "      <td>39.083480</td>\n",
              "      <td>-77.086933</td>\n",
              "      <td>1</td>\n",
              "      <td>2019</td>\n",
              "      <td>5</td>\n",
              "      <td>10</td>\n",
              "      <td>4</td>\n",
              "      <td>7</td>\n",
              "    </tr>\n",
              "    <tr>\n",
              "      <th>4</th>\n",
              "      <td>Injury Crash</td>\n",
              "      <td>2016-08-02 17:00:00</td>\n",
              "      <td>Maryland (State)</td>\n",
              "      <td>County</td>\n",
              "      <td>SAME DIR REAR END</td>\n",
              "      <td>CLEAR</td>\n",
              "      <td>DRY</td>\n",
              "      <td>DAYLIGHT</td>\n",
              "      <td>TRAFFIC SIGNAL</td>\n",
              "      <td>NONE DETECTED</td>\n",
              "      <td>SUSPECTED MINOR INJURY</td>\n",
              "      <td>MD</td>\n",
              "      <td>DISABLING</td>\n",
              "      <td>SIX OCLOCK</td>\n",
              "      <td>SIX OCLOCK</td>\n",
              "      <td>PASSENGER CAR</td>\n",
              "      <td>SLOWING OR STOPPING</td>\n",
              "      <td>South</td>\n",
              "      <td>South</td>\n",
              "      <td>40</td>\n",
              "      <td>No</td>\n",
              "      <td>No</td>\n",
              "      <td>3</td>\n",
              "      <td>38.996942</td>\n",
              "      <td>-77.109168</td>\n",
              "      <td>0</td>\n",
              "      <td>2016</td>\n",
              "      <td>8</td>\n",
              "      <td>2</td>\n",
              "      <td>1</td>\n",
              "      <td>17</td>\n",
              "    </tr>\n",
              "  </tbody>\n",
              "</table>\n",
              "</div>"
            ],
            "text/plain": [
              "        ACRS Report Type     Crash Date/Time  ... Day of Week Hour\n",
              "0           Injury Crash 2017-06-05 16:27:00  ...           0   16\n",
              "1           Injury Crash 2020-02-22 10:00:00  ...           5   10\n",
              "2  Property Damage Crash 2017-06-11 08:21:00  ...           6    8\n",
              "3           Injury Crash 2019-05-10 07:30:00  ...           4    7\n",
              "4           Injury Crash 2016-08-02 17:00:00  ...           1   17\n",
              "\n",
              "[5 rows x 31 columns]"
            ]
          },
          "metadata": {},
          "execution_count": 150
        }
      ]
    },
    {
      "cell_type": "code",
      "metadata": {
        "id": "B_QKnSMMgMQ9"
      },
      "source": [
        "df = df.drop(['Crash Date/Time','Drivers License State'],axis=1)\n",
        "df1 = df1.drop(['Crash Date/Time','Drivers License State'],axis=1)"
      ],
      "execution_count": 151,
      "outputs": []
    },
    {
      "cell_type": "code",
      "metadata": {
        "id": "YVptzNsNgHNC"
      },
      "source": [
        "df = pd.get_dummies(df, columns = ['ACRS Report Type','Route Type','Vehicle Second Impact Location','Cross-Street Type','Collision Type','Weather','Surface Condition','Light','Traffic Control','Driver Substance Abuse','Injury Severity','Vehicle Damage Extent','Vehicle First Impact Location','Vehicle Body Type','Vehicle Movement','Vehicle Continuing Dir','Vehicle Going Dir','Speed Limit','Driverless Vehicle','Parked Vehicle'])\n",
        "df1 = pd.get_dummies(df1, columns = ['ACRS Report Type','Route Type','Vehicle Second Impact Location','Cross-Street Type','Collision Type','Weather','Surface Condition','Light','Traffic Control','Driver Substance Abuse','Injury Severity','Vehicle Damage Extent','Vehicle First Impact Location','Vehicle Body Type','Vehicle Movement','Vehicle Continuing Dir','Vehicle Going Dir','Speed Limit','Driverless Vehicle','Parked Vehicle'])\n"
      ],
      "execution_count": 152,
      "outputs": []
    },
    {
      "cell_type": "code",
      "metadata": {
        "colab": {
          "base_uri": "https://localhost:8080/",
          "height": 319
        },
        "id": "8p0091Rah8cC",
        "outputId": "2b4ad92b-b486-4961-a104-d8b906abe5ee"
      },
      "source": [
        "df.head()"
      ],
      "execution_count": 153,
      "outputs": [
        {
          "output_type": "execute_result",
          "data": {
            "text/html": [
              "<div>\n",
              "<style scoped>\n",
              "    .dataframe tbody tr th:only-of-type {\n",
              "        vertical-align: middle;\n",
              "    }\n",
              "\n",
              "    .dataframe tbody tr th {\n",
              "        vertical-align: top;\n",
              "    }\n",
              "\n",
              "    .dataframe thead th {\n",
              "        text-align: right;\n",
              "    }\n",
              "</style>\n",
              "<table border=\"1\" class=\"dataframe\">\n",
              "  <thead>\n",
              "    <tr style=\"text-align: right;\">\n",
              "      <th></th>\n",
              "      <th>Vehicle Year</th>\n",
              "      <th>Latitude</th>\n",
              "      <th>Longitude</th>\n",
              "      <th>Fault</th>\n",
              "      <th>Year</th>\n",
              "      <th>Month</th>\n",
              "      <th>Date</th>\n",
              "      <th>Day of Week</th>\n",
              "      <th>Hour</th>\n",
              "      <th>ACRS Report Type_Fatal Crash</th>\n",
              "      <th>ACRS Report Type_Injury Crash</th>\n",
              "      <th>ACRS Report Type_Property Damage Crash</th>\n",
              "      <th>Route Type_County</th>\n",
              "      <th>Route Type_Government</th>\n",
              "      <th>Route Type_Interstate (State)</th>\n",
              "      <th>Route Type_Maryland (State)</th>\n",
              "      <th>Route Type_Municipality</th>\n",
              "      <th>Route Type_Other Public Roadway</th>\n",
              "      <th>Route Type_Ramp</th>\n",
              "      <th>Route Type_Service Road</th>\n",
              "      <th>Route Type_US (State)</th>\n",
              "      <th>Route Type_Unknown</th>\n",
              "      <th>Route Type_a</th>\n",
              "      <th>Vehicle Second Impact Location_EIGHT OCLOCK</th>\n",
              "      <th>Vehicle Second Impact Location_ELEVEN OCLOCK</th>\n",
              "      <th>Vehicle Second Impact Location_FIVE OCLOCK</th>\n",
              "      <th>Vehicle Second Impact Location_FOUR OCLOCK</th>\n",
              "      <th>Vehicle Second Impact Location_NINE OCLOCK</th>\n",
              "      <th>Vehicle Second Impact Location_NON-COLLISION</th>\n",
              "      <th>Vehicle Second Impact Location_ONE OCLOCK</th>\n",
              "      <th>Vehicle Second Impact Location_ROOF TOP</th>\n",
              "      <th>Vehicle Second Impact Location_SEVEN OCLOCK</th>\n",
              "      <th>Vehicle Second Impact Location_SIX OCLOCK</th>\n",
              "      <th>Vehicle Second Impact Location_TEN OCLOCK</th>\n",
              "      <th>Vehicle Second Impact Location_THREE OCLOCK</th>\n",
              "      <th>Vehicle Second Impact Location_TWELVE OCLOCK</th>\n",
              "      <th>Vehicle Second Impact Location_TWO OCLOCK</th>\n",
              "      <th>Vehicle Second Impact Location_UNDERSIDE</th>\n",
              "      <th>Vehicle Second Impact Location_UNKNOWN</th>\n",
              "      <th>Vehicle Second Impact Location_a</th>\n",
              "      <th>...</th>\n",
              "      <th>Vehicle Movement_PASSING</th>\n",
              "      <th>Vehicle Movement_RIGHT TURN ON RED</th>\n",
              "      <th>Vehicle Movement_SKIDDING</th>\n",
              "      <th>Vehicle Movement_SLOWING OR STOPPING</th>\n",
              "      <th>Vehicle Movement_STARTING FROM LANE</th>\n",
              "      <th>Vehicle Movement_STARTING FROM PARKED</th>\n",
              "      <th>Vehicle Movement_STOPPED IN TRAFFIC LANE</th>\n",
              "      <th>Vehicle Movement_UNKNOWN</th>\n",
              "      <th>Vehicle Movement_a</th>\n",
              "      <th>Vehicle Continuing Dir_East</th>\n",
              "      <th>Vehicle Continuing Dir_North</th>\n",
              "      <th>Vehicle Continuing Dir_South</th>\n",
              "      <th>Vehicle Continuing Dir_Unknown</th>\n",
              "      <th>Vehicle Continuing Dir_West</th>\n",
              "      <th>Vehicle Continuing Dir_a</th>\n",
              "      <th>Vehicle Going Dir_East</th>\n",
              "      <th>Vehicle Going Dir_North</th>\n",
              "      <th>Vehicle Going Dir_South</th>\n",
              "      <th>Vehicle Going Dir_Unknown</th>\n",
              "      <th>Vehicle Going Dir_West</th>\n",
              "      <th>Vehicle Going Dir_a</th>\n",
              "      <th>Speed Limit_0</th>\n",
              "      <th>Speed Limit_5</th>\n",
              "      <th>Speed Limit_10</th>\n",
              "      <th>Speed Limit_15</th>\n",
              "      <th>Speed Limit_20</th>\n",
              "      <th>Speed Limit_25</th>\n",
              "      <th>Speed Limit_30</th>\n",
              "      <th>Speed Limit_35</th>\n",
              "      <th>Speed Limit_40</th>\n",
              "      <th>Speed Limit_45</th>\n",
              "      <th>Speed Limit_50</th>\n",
              "      <th>Speed Limit_55</th>\n",
              "      <th>Speed Limit_60</th>\n",
              "      <th>Speed Limit_65</th>\n",
              "      <th>Speed Limit_70</th>\n",
              "      <th>Driverless Vehicle_No</th>\n",
              "      <th>Driverless Vehicle_Unknown</th>\n",
              "      <th>Parked Vehicle_No</th>\n",
              "      <th>Parked Vehicle_Yes</th>\n",
              "    </tr>\n",
              "  </thead>\n",
              "  <tbody>\n",
              "    <tr>\n",
              "      <th>0</th>\n",
              "      <td>12</td>\n",
              "      <td>39.263378</td>\n",
              "      <td>-77.344203</td>\n",
              "      <td>1</td>\n",
              "      <td>2017</td>\n",
              "      <td>6</td>\n",
              "      <td>5</td>\n",
              "      <td>0</td>\n",
              "      <td>16</td>\n",
              "      <td>0</td>\n",
              "      <td>1</td>\n",
              "      <td>0</td>\n",
              "      <td>0</td>\n",
              "      <td>0</td>\n",
              "      <td>0</td>\n",
              "      <td>1</td>\n",
              "      <td>0</td>\n",
              "      <td>0</td>\n",
              "      <td>0</td>\n",
              "      <td>0</td>\n",
              "      <td>0</td>\n",
              "      <td>0</td>\n",
              "      <td>0</td>\n",
              "      <td>0</td>\n",
              "      <td>0</td>\n",
              "      <td>0</td>\n",
              "      <td>0</td>\n",
              "      <td>0</td>\n",
              "      <td>0</td>\n",
              "      <td>0</td>\n",
              "      <td>0</td>\n",
              "      <td>0</td>\n",
              "      <td>0</td>\n",
              "      <td>0</td>\n",
              "      <td>0</td>\n",
              "      <td>1</td>\n",
              "      <td>0</td>\n",
              "      <td>0</td>\n",
              "      <td>0</td>\n",
              "      <td>0</td>\n",
              "      <td>...</td>\n",
              "      <td>0</td>\n",
              "      <td>0</td>\n",
              "      <td>0</td>\n",
              "      <td>0</td>\n",
              "      <td>0</td>\n",
              "      <td>0</td>\n",
              "      <td>0</td>\n",
              "      <td>0</td>\n",
              "      <td>0</td>\n",
              "      <td>0</td>\n",
              "      <td>0</td>\n",
              "      <td>1</td>\n",
              "      <td>0</td>\n",
              "      <td>0</td>\n",
              "      <td>0</td>\n",
              "      <td>0</td>\n",
              "      <td>0</td>\n",
              "      <td>0</td>\n",
              "      <td>1</td>\n",
              "      <td>0</td>\n",
              "      <td>0</td>\n",
              "      <td>0</td>\n",
              "      <td>0</td>\n",
              "      <td>0</td>\n",
              "      <td>0</td>\n",
              "      <td>0</td>\n",
              "      <td>0</td>\n",
              "      <td>0</td>\n",
              "      <td>0</td>\n",
              "      <td>1</td>\n",
              "      <td>0</td>\n",
              "      <td>0</td>\n",
              "      <td>0</td>\n",
              "      <td>0</td>\n",
              "      <td>0</td>\n",
              "      <td>0</td>\n",
              "      <td>1</td>\n",
              "      <td>0</td>\n",
              "      <td>1</td>\n",
              "      <td>0</td>\n",
              "    </tr>\n",
              "    <tr>\n",
              "      <th>1</th>\n",
              "      <td>2</td>\n",
              "      <td>39.068913</td>\n",
              "      <td>-77.063227</td>\n",
              "      <td>1</td>\n",
              "      <td>2020</td>\n",
              "      <td>2</td>\n",
              "      <td>22</td>\n",
              "      <td>5</td>\n",
              "      <td>10</td>\n",
              "      <td>0</td>\n",
              "      <td>1</td>\n",
              "      <td>0</td>\n",
              "      <td>1</td>\n",
              "      <td>0</td>\n",
              "      <td>0</td>\n",
              "      <td>0</td>\n",
              "      <td>0</td>\n",
              "      <td>0</td>\n",
              "      <td>0</td>\n",
              "      <td>0</td>\n",
              "      <td>0</td>\n",
              "      <td>0</td>\n",
              "      <td>0</td>\n",
              "      <td>0</td>\n",
              "      <td>0</td>\n",
              "      <td>0</td>\n",
              "      <td>0</td>\n",
              "      <td>0</td>\n",
              "      <td>0</td>\n",
              "      <td>0</td>\n",
              "      <td>0</td>\n",
              "      <td>0</td>\n",
              "      <td>0</td>\n",
              "      <td>0</td>\n",
              "      <td>0</td>\n",
              "      <td>1</td>\n",
              "      <td>0</td>\n",
              "      <td>0</td>\n",
              "      <td>0</td>\n",
              "      <td>0</td>\n",
              "      <td>...</td>\n",
              "      <td>0</td>\n",
              "      <td>0</td>\n",
              "      <td>0</td>\n",
              "      <td>0</td>\n",
              "      <td>0</td>\n",
              "      <td>0</td>\n",
              "      <td>0</td>\n",
              "      <td>0</td>\n",
              "      <td>0</td>\n",
              "      <td>0</td>\n",
              "      <td>0</td>\n",
              "      <td>1</td>\n",
              "      <td>0</td>\n",
              "      <td>0</td>\n",
              "      <td>0</td>\n",
              "      <td>0</td>\n",
              "      <td>0</td>\n",
              "      <td>1</td>\n",
              "      <td>0</td>\n",
              "      <td>0</td>\n",
              "      <td>0</td>\n",
              "      <td>0</td>\n",
              "      <td>0</td>\n",
              "      <td>0</td>\n",
              "      <td>0</td>\n",
              "      <td>0</td>\n",
              "      <td>1</td>\n",
              "      <td>0</td>\n",
              "      <td>0</td>\n",
              "      <td>0</td>\n",
              "      <td>0</td>\n",
              "      <td>0</td>\n",
              "      <td>0</td>\n",
              "      <td>0</td>\n",
              "      <td>0</td>\n",
              "      <td>0</td>\n",
              "      <td>1</td>\n",
              "      <td>0</td>\n",
              "      <td>0</td>\n",
              "      <td>1</td>\n",
              "    </tr>\n",
              "    <tr>\n",
              "      <th>2</th>\n",
              "      <td>1</td>\n",
              "      <td>38.993578</td>\n",
              "      <td>-77.032718</td>\n",
              "      <td>0</td>\n",
              "      <td>2017</td>\n",
              "      <td>6</td>\n",
              "      <td>11</td>\n",
              "      <td>6</td>\n",
              "      <td>8</td>\n",
              "      <td>0</td>\n",
              "      <td>0</td>\n",
              "      <td>1</td>\n",
              "      <td>0</td>\n",
              "      <td>0</td>\n",
              "      <td>0</td>\n",
              "      <td>1</td>\n",
              "      <td>0</td>\n",
              "      <td>0</td>\n",
              "      <td>0</td>\n",
              "      <td>0</td>\n",
              "      <td>0</td>\n",
              "      <td>0</td>\n",
              "      <td>0</td>\n",
              "      <td>0</td>\n",
              "      <td>0</td>\n",
              "      <td>0</td>\n",
              "      <td>0</td>\n",
              "      <td>0</td>\n",
              "      <td>0</td>\n",
              "      <td>0</td>\n",
              "      <td>0</td>\n",
              "      <td>0</td>\n",
              "      <td>1</td>\n",
              "      <td>0</td>\n",
              "      <td>0</td>\n",
              "      <td>0</td>\n",
              "      <td>0</td>\n",
              "      <td>0</td>\n",
              "      <td>0</td>\n",
              "      <td>0</td>\n",
              "      <td>...</td>\n",
              "      <td>0</td>\n",
              "      <td>0</td>\n",
              "      <td>0</td>\n",
              "      <td>0</td>\n",
              "      <td>0</td>\n",
              "      <td>0</td>\n",
              "      <td>0</td>\n",
              "      <td>0</td>\n",
              "      <td>0</td>\n",
              "      <td>0</td>\n",
              "      <td>0</td>\n",
              "      <td>0</td>\n",
              "      <td>0</td>\n",
              "      <td>1</td>\n",
              "      <td>0</td>\n",
              "      <td>0</td>\n",
              "      <td>0</td>\n",
              "      <td>0</td>\n",
              "      <td>0</td>\n",
              "      <td>1</td>\n",
              "      <td>0</td>\n",
              "      <td>0</td>\n",
              "      <td>0</td>\n",
              "      <td>0</td>\n",
              "      <td>0</td>\n",
              "      <td>0</td>\n",
              "      <td>0</td>\n",
              "      <td>0</td>\n",
              "      <td>1</td>\n",
              "      <td>0</td>\n",
              "      <td>0</td>\n",
              "      <td>0</td>\n",
              "      <td>0</td>\n",
              "      <td>0</td>\n",
              "      <td>0</td>\n",
              "      <td>0</td>\n",
              "      <td>1</td>\n",
              "      <td>0</td>\n",
              "      <td>1</td>\n",
              "      <td>0</td>\n",
              "    </tr>\n",
              "    <tr>\n",
              "      <th>3</th>\n",
              "      <td>18</td>\n",
              "      <td>39.083480</td>\n",
              "      <td>-77.086933</td>\n",
              "      <td>1</td>\n",
              "      <td>2019</td>\n",
              "      <td>5</td>\n",
              "      <td>10</td>\n",
              "      <td>4</td>\n",
              "      <td>7</td>\n",
              "      <td>0</td>\n",
              "      <td>1</td>\n",
              "      <td>0</td>\n",
              "      <td>1</td>\n",
              "      <td>0</td>\n",
              "      <td>0</td>\n",
              "      <td>0</td>\n",
              "      <td>0</td>\n",
              "      <td>0</td>\n",
              "      <td>0</td>\n",
              "      <td>0</td>\n",
              "      <td>0</td>\n",
              "      <td>0</td>\n",
              "      <td>0</td>\n",
              "      <td>0</td>\n",
              "      <td>0</td>\n",
              "      <td>0</td>\n",
              "      <td>0</td>\n",
              "      <td>0</td>\n",
              "      <td>0</td>\n",
              "      <td>0</td>\n",
              "      <td>0</td>\n",
              "      <td>0</td>\n",
              "      <td>0</td>\n",
              "      <td>0</td>\n",
              "      <td>0</td>\n",
              "      <td>0</td>\n",
              "      <td>1</td>\n",
              "      <td>0</td>\n",
              "      <td>0</td>\n",
              "      <td>0</td>\n",
              "      <td>...</td>\n",
              "      <td>0</td>\n",
              "      <td>0</td>\n",
              "      <td>0</td>\n",
              "      <td>0</td>\n",
              "      <td>0</td>\n",
              "      <td>0</td>\n",
              "      <td>0</td>\n",
              "      <td>0</td>\n",
              "      <td>0</td>\n",
              "      <td>0</td>\n",
              "      <td>0</td>\n",
              "      <td>1</td>\n",
              "      <td>0</td>\n",
              "      <td>0</td>\n",
              "      <td>0</td>\n",
              "      <td>0</td>\n",
              "      <td>0</td>\n",
              "      <td>1</td>\n",
              "      <td>0</td>\n",
              "      <td>0</td>\n",
              "      <td>0</td>\n",
              "      <td>0</td>\n",
              "      <td>0</td>\n",
              "      <td>0</td>\n",
              "      <td>0</td>\n",
              "      <td>0</td>\n",
              "      <td>1</td>\n",
              "      <td>0</td>\n",
              "      <td>0</td>\n",
              "      <td>0</td>\n",
              "      <td>0</td>\n",
              "      <td>0</td>\n",
              "      <td>0</td>\n",
              "      <td>0</td>\n",
              "      <td>0</td>\n",
              "      <td>0</td>\n",
              "      <td>1</td>\n",
              "      <td>0</td>\n",
              "      <td>1</td>\n",
              "      <td>0</td>\n",
              "    </tr>\n",
              "    <tr>\n",
              "      <th>4</th>\n",
              "      <td>3</td>\n",
              "      <td>38.996942</td>\n",
              "      <td>-77.109168</td>\n",
              "      <td>0</td>\n",
              "      <td>2016</td>\n",
              "      <td>8</td>\n",
              "      <td>2</td>\n",
              "      <td>1</td>\n",
              "      <td>17</td>\n",
              "      <td>0</td>\n",
              "      <td>1</td>\n",
              "      <td>0</td>\n",
              "      <td>0</td>\n",
              "      <td>0</td>\n",
              "      <td>0</td>\n",
              "      <td>1</td>\n",
              "      <td>0</td>\n",
              "      <td>0</td>\n",
              "      <td>0</td>\n",
              "      <td>0</td>\n",
              "      <td>0</td>\n",
              "      <td>0</td>\n",
              "      <td>0</td>\n",
              "      <td>0</td>\n",
              "      <td>0</td>\n",
              "      <td>0</td>\n",
              "      <td>0</td>\n",
              "      <td>0</td>\n",
              "      <td>0</td>\n",
              "      <td>0</td>\n",
              "      <td>0</td>\n",
              "      <td>0</td>\n",
              "      <td>1</td>\n",
              "      <td>0</td>\n",
              "      <td>0</td>\n",
              "      <td>0</td>\n",
              "      <td>0</td>\n",
              "      <td>0</td>\n",
              "      <td>0</td>\n",
              "      <td>0</td>\n",
              "      <td>...</td>\n",
              "      <td>0</td>\n",
              "      <td>0</td>\n",
              "      <td>0</td>\n",
              "      <td>1</td>\n",
              "      <td>0</td>\n",
              "      <td>0</td>\n",
              "      <td>0</td>\n",
              "      <td>0</td>\n",
              "      <td>0</td>\n",
              "      <td>0</td>\n",
              "      <td>0</td>\n",
              "      <td>1</td>\n",
              "      <td>0</td>\n",
              "      <td>0</td>\n",
              "      <td>0</td>\n",
              "      <td>0</td>\n",
              "      <td>0</td>\n",
              "      <td>1</td>\n",
              "      <td>0</td>\n",
              "      <td>0</td>\n",
              "      <td>0</td>\n",
              "      <td>0</td>\n",
              "      <td>0</td>\n",
              "      <td>0</td>\n",
              "      <td>0</td>\n",
              "      <td>0</td>\n",
              "      <td>0</td>\n",
              "      <td>0</td>\n",
              "      <td>0</td>\n",
              "      <td>1</td>\n",
              "      <td>0</td>\n",
              "      <td>0</td>\n",
              "      <td>0</td>\n",
              "      <td>0</td>\n",
              "      <td>0</td>\n",
              "      <td>0</td>\n",
              "      <td>1</td>\n",
              "      <td>0</td>\n",
              "      <td>1</td>\n",
              "      <td>0</td>\n",
              "    </tr>\n",
              "  </tbody>\n",
              "</table>\n",
              "<p>5 rows × 243 columns</p>\n",
              "</div>"
            ],
            "text/plain": [
              "   Vehicle Year   Latitude  ...  Parked Vehicle_No  Parked Vehicle_Yes\n",
              "0            12  39.263378  ...                  1                   0\n",
              "1             2  39.068913  ...                  0                   1\n",
              "2             1  38.993578  ...                  1                   0\n",
              "3            18  39.083480  ...                  1                   0\n",
              "4             3  38.996942  ...                  1                   0\n",
              "\n",
              "[5 rows x 243 columns]"
            ]
          },
          "metadata": {},
          "execution_count": 153
        }
      ]
    },
    {
      "cell_type": "code",
      "metadata": {
        "id": "Lv1rh-86gO9i"
      },
      "source": [
        "x_train, x_val= train_test_split( df, test_size=0.2, random_state=42)"
      ],
      "execution_count": 154,
      "outputs": []
    },
    {
      "cell_type": "code",
      "metadata": {
        "id": "IHIxlmRrgRPS"
      },
      "source": [
        "X_train = x_train.iloc[:,x_train.columns!='Fault']\n",
        "y_train = x_train['Fault'].values\n",
        "X_val = x_val.iloc[:,x_val.columns!='Fault']\n",
        "y_val = x_val['Fault'].values\n",
        "X_test = df1\n",
        "X_test = X_test.iloc[:,X_test.columns!='Id']"
      ],
      "execution_count": 155,
      "outputs": []
    },
    {
      "cell_type": "code",
      "metadata": {
        "id": "QeDnA49xPrz3",
        "colab": {
          "base_uri": "https://localhost:8080/",
          "height": 86
        },
        "outputId": "91d78e7c-4182-4179-ab3f-d7c5c729638f"
      },
      "source": [
        "'''\n",
        "# Scale data before applying PCA\n",
        "scaling=StandardScaler()\n",
        " \n",
        "# Use fit and transform method\n",
        "scaling.fit(X_train)\n",
        "Scaled_data=scaling.transform(X_train)\n",
        "scaling.fit(X_val)\n",
        "Scaled_data2=scaling.transform(X_val)\n",
        "scaling.fit(X_test)\n",
        "Scaled_data1=scaling.transform(X_test)\n",
        "# Set the n_components=25\n",
        "principal=PCA(n_components=150)\n",
        "principal.fit(Scaled_data)\n",
        "X_train=principal.transform(Scaled_data)\n",
        "principal.fit(Scaled_data1)\n",
        "X_test=principal.transform(Scaled_data1)\n",
        "principal.fit(Scaled_data2)\n",
        "X_val=principal.transform(Scaled_data2)\n",
        "# Check the dimensions of data after PCA\n",
        "#print(x.shape,x1.shape)'''"
      ],
      "execution_count": 157,
      "outputs": [
        {
          "output_type": "execute_result",
          "data": {
            "application/vnd.google.colaboratory.intrinsic+json": {
              "type": "string"
            },
            "text/plain": [
              "'\\n# Scale data before applying PCA\\nscaling=StandardScaler()\\n \\n# Use fit and transform method\\nscaling.fit(X_train)\\nScaled_data=scaling.transform(X_train)\\nscaling.fit(X_val)\\nScaled_data2=scaling.transform(X_val)\\nscaling.fit(X_test)\\nScaled_data1=scaling.transform(X_test)\\n# Set the n_components=25\\nprincipal=PCA(n_components=150)\\nprincipal.fit(Scaled_data)\\nX_train=principal.transform(Scaled_data)\\nprincipal.fit(Scaled_data1)\\nX_test=principal.transform(Scaled_data1)\\nprincipal.fit(Scaled_data2)\\nX_val=principal.transform(Scaled_data2)\\n# Check the dimensions of data after PCA\\n#print(x.shape,x1.shape)'"
            ]
          },
          "metadata": {},
          "execution_count": 157
        }
      ]
    },
    {
      "cell_type": "code",
      "metadata": {
        "id": "OOItqlebGHaJ",
        "colab": {
          "base_uri": "https://localhost:8080/",
          "height": 35
        },
        "outputId": "533a50fa-8ece-4145-f603-0641e87ffd30"
      },
      "source": [
        "'''enc = OrdinalEncoder()\n",
        "X_train = enc.fit_transform(X_train)\n",
        "X_val = enc.fit_transform(X_val)\n",
        "X_test = enc.fit_transform(X_test)'''"
      ],
      "execution_count": 158,
      "outputs": [
        {
          "output_type": "execute_result",
          "data": {
            "application/vnd.google.colaboratory.intrinsic+json": {
              "type": "string"
            },
            "text/plain": [
              "'enc = OrdinalEncoder()\\nX_train = enc.fit_transform(X_train)\\nX_val = enc.fit_transform(X_val)\\nX_test = enc.fit_transform(X_test)'"
            ]
          },
          "metadata": {},
          "execution_count": 158
        }
      ]
    },
    {
      "cell_type": "code",
      "metadata": {
        "colab": {
          "base_uri": "https://localhost:8080/",
          "height": 35
        },
        "id": "qBW3Vjk4A362",
        "outputId": "c5d67942-92ee-4e48-9a56-4639ec3f4ab6"
      },
      "source": [
        "'''smote = SMOTE(sampling_strategy='auto')\n",
        "\n",
        "X_train, y_train = smote.fit_sample(X_train,y_train) \n",
        "X_val, y_val = smote.fit_sample(X_val,y_val) '''"
      ],
      "execution_count": 159,
      "outputs": [
        {
          "output_type": "execute_result",
          "data": {
            "application/vnd.google.colaboratory.intrinsic+json": {
              "type": "string"
            },
            "text/plain": [
              "\"smote = SMOTE(sampling_strategy='auto')\\n\\nX_train, y_train = smote.fit_sample(X_train,y_train) \\nX_val, y_val = smote.fit_sample(X_val,y_val) \""
            ]
          },
          "metadata": {},
          "execution_count": 159
        }
      ]
    },
    {
      "cell_type": "code",
      "metadata": {
        "colab": {
          "base_uri": "https://localhost:8080/"
        },
        "id": "fBMsYRLNgTWO",
        "outputId": "3e2947fb-94d0-40c9-fb63-108eab4aaf1d"
      },
      "source": [
        "# fit model on training data\n",
        "model1 = GradientBoostingClassifier(n_estimators=100, learning_rate=0.23, max_depth=5, random_state=0)\n",
        "model1.fit(X_train, y_train)\n",
        "y_pred_val = model1.predict(X_val)\n",
        "print(y_pred_val)"
      ],
      "execution_count": 160,
      "outputs": [
        {
          "output_type": "stream",
          "name": "stdout",
          "text": [
            "[1 0 1 ... 1 0 1]\n"
          ]
        }
      ]
    },
    {
      "cell_type": "code",
      "metadata": {
        "colab": {
          "base_uri": "https://localhost:8080/"
        },
        "id": "N_ehokPlgVzf",
        "outputId": "db8baee8-c1f7-456f-da09-9f8419231d1b"
      },
      "source": [
        "from sklearn.metrics import accuracy_score\n",
        "accuracy_score(y_val, y_pred_val)"
      ],
      "execution_count": 161,
      "outputs": [
        {
          "output_type": "execute_result",
          "data": {
            "text/plain": [
              "0.8539522237327637"
            ]
          },
          "metadata": {},
          "execution_count": 161
        }
      ]
    },
    {
      "cell_type": "code",
      "metadata": {
        "colab": {
          "base_uri": "https://localhost:8080/"
        },
        "id": "yJmgrEjhgYO4",
        "outputId": "1922caed-1a52-46c3-8451-92e7fad757d3"
      },
      "source": [
        "# predicting on test data\n",
        "y_pred1 = model1.predict(X_test)\n",
        "print(y_pred1)"
      ],
      "execution_count": 162,
      "outputs": [
        {
          "output_type": "stream",
          "name": "stdout",
          "text": [
            "[1 0 1 ... 0 1 1]\n"
          ]
        }
      ]
    },
    {
      "cell_type": "code",
      "metadata": {
        "colab": {
          "base_uri": "https://localhost:8080/"
        },
        "id": "TpfXtxsAgaaK",
        "outputId": "54269893-f83f-4a76-ff58-f09a1cd8155d"
      },
      "source": [
        "# build the lightgbm model\n",
        "import lightgbm as lgb\n",
        "model2 = lgb.LGBMClassifier(boosting_type='dart')\n",
        "model2.fit(X_train, y_train)\n",
        "y_pred_val = model2.predict(X_val)\n",
        "print(y_pred_val)\n",
        "from sklearn.metrics import accuracy_score\n",
        "accuracy_score(y_val, y_pred_val)"
      ],
      "execution_count": 164,
      "outputs": [
        {
          "output_type": "stream",
          "name": "stdout",
          "text": [
            "[1 0 1 ... 1 0 1]\n"
          ]
        },
        {
          "output_type": "execute_result",
          "data": {
            "text/plain": [
              "0.8526898426879006"
            ]
          },
          "metadata": {},
          "execution_count": 164
        }
      ]
    },
    {
      "cell_type": "code",
      "metadata": {
        "colab": {
          "base_uri": "https://localhost:8080/"
        },
        "id": "JnmD_RfOgc8u",
        "outputId": "a679c380-6df5-4ddb-b7b5-091b07a6ab77"
      },
      "source": [
        "# predicting on test data\n",
        "y_pred2 = model2.predict(X_test)\n",
        "print(y_pred2)"
      ],
      "execution_count": 165,
      "outputs": [
        {
          "output_type": "stream",
          "name": "stdout",
          "text": [
            "[1 0 0 ... 0 1 1]\n"
          ]
        }
      ]
    },
    {
      "cell_type": "code",
      "metadata": {
        "id": "iJ54SZwECy5e"
      },
      "source": [
        "submission = pd.DataFrame()\n",
        "submission['Id'] = df1['Id']\n",
        "submission['Fault'] = y_pred.reshape((y_pred.shape[0]))\n",
        "submission.to_csv('sub_lgb3.csv', index=False)"
      ],
      "execution_count": null,
      "outputs": []
    },
    {
      "cell_type": "code",
      "metadata": {
        "colab": {
          "base_uri": "https://localhost:8080/"
        },
        "id": "d0o5YiYpgkFs",
        "outputId": "1dbc8103-d26c-4855-fa0a-30a1013e869d"
      },
      "source": [
        "# XGBClassifier\n",
        "# fit model on training data\n",
        "model3 = XGBClassifier(n_estimators=200, learning_rate=0.23, max_depth=5, random_state=0)\n",
        "model3.fit(X_train, y_train)\n",
        "y_pred_val = model3.predict(X_val)\n",
        "print(y_pred_val)"
      ],
      "execution_count": 166,
      "outputs": [
        {
          "output_type": "stream",
          "name": "stdout",
          "text": [
            "[1 0 1 ... 1 0 1]\n"
          ]
        }
      ]
    },
    {
      "cell_type": "code",
      "metadata": {
        "colab": {
          "base_uri": "https://localhost:8080/"
        },
        "id": "CWMJ8YXeg_08",
        "outputId": "420a945f-d3fe-4fbf-f552-2c3a611a411e"
      },
      "source": [
        "from sklearn.metrics import accuracy_score\n",
        "accuracy_score(y_val, y_pred_val)"
      ],
      "execution_count": 167,
      "outputs": [
        {
          "output_type": "execute_result",
          "data": {
            "text/plain": [
              "0.8548261798407458"
            ]
          },
          "metadata": {},
          "execution_count": 167
        }
      ]
    },
    {
      "cell_type": "code",
      "metadata": {
        "colab": {
          "base_uri": "https://localhost:8080/"
        },
        "id": "9GxMYdeVg_nG",
        "outputId": "88b3a182-64d4-4e37-f871-4abd39e107ad"
      },
      "source": [
        "# predicting on test data\n",
        "y_pred3 = model3.predict(X_test)\n",
        "print(y_pred3)"
      ],
      "execution_count": 168,
      "outputs": [
        {
          "output_type": "stream",
          "name": "stdout",
          "text": [
            "[1 0 0 ... 0 1 1]\n"
          ]
        }
      ]
    },
    {
      "cell_type": "code",
      "metadata": {
        "id": "146I40QhRj3-"
      },
      "source": [
        "from sklearn.ensemble import RandomForestClassifier\n",
        "model4 = RandomForestClassifier(n_estimators = 100)\n",
        "model4.fit(X_train, y_train)\n",
        "y_pred_val = model4.predict(X_val)"
      ],
      "execution_count": 131,
      "outputs": []
    },
    {
      "cell_type": "code",
      "metadata": {
        "colab": {
          "base_uri": "https://localhost:8080/"
        },
        "id": "Le44wTRKRo5P",
        "outputId": "76b27fd4-a3a7-44eb-db73-f3cc72e601c5"
      },
      "source": [
        "from sklearn.metrics import accuracy_score\n",
        "accuracy_score(y_val, y_pred_val)"
      ],
      "execution_count": 132,
      "outputs": [
        {
          "output_type": "execute_result",
          "data": {
            "text/plain": [
              "0.8531753738590018"
            ]
          },
          "metadata": {},
          "execution_count": 132
        }
      ]
    },
    {
      "cell_type": "code",
      "metadata": {
        "colab": {
          "base_uri": "https://localhost:8080/"
        },
        "id": "E9UEQ_fHR74H",
        "outputId": "a67cc3a3-5ca5-4443-f901-93529c582f35"
      },
      "source": [
        "# predicting on test data\n",
        "y_pred4 = model4.predict(X_test)\n",
        "print(y_pred4)"
      ],
      "execution_count": 133,
      "outputs": [
        {
          "output_type": "stream",
          "name": "stdout",
          "text": [
            "[1 0 1 ... 0 1 1]\n"
          ]
        }
      ]
    },
    {
      "cell_type": "code",
      "metadata": {
        "id": "ERDZ7qaegfG_"
      },
      "source": [
        "submission = pd.DataFrame()\n",
        "submission['Id'] = df1['Id']\n",
        "submission['Fault'] = y_pred.reshape((y_pred.shape[0]))\n",
        "submission.to_csv('sub_xg3.csv', index=False)"
      ],
      "execution_count": null,
      "outputs": []
    },
    {
      "cell_type": "code",
      "metadata": {
        "id": "BKfa5gi1tqHs",
        "colab": {
          "base_uri": "https://localhost:8080/"
        },
        "outputId": "43de4085-d7d3-42b5-8e96-136429909070"
      },
      "source": [
        "\n",
        "'''# import libraries\n",
        "import category_encoders as ce\n",
        "\n",
        "# Define catboost encoder\n",
        "cbe_encoder = ce.cat_boost.CatBoostEncoder()\n",
        "  \n",
        "# Fit encoder and transform the features\n",
        "cbe_encoder.fit(X_train, y_train)\n",
        "X_train1 = cbe_encoder.transform(X_train)\n",
        "cbe_encoder.fit(X_val, y_val)\n",
        "X_val1 = cbe_encoder.transform(X_val)'''"
      ],
      "execution_count": null,
      "outputs": [
        {
          "output_type": "stream",
          "name": "stderr",
          "text": [
            "/usr/local/lib/python3.7/dist-packages/statsmodels/tools/_testing.py:19: FutureWarning: pandas.util.testing is deprecated. Use the functions in the public API at pandas.testing instead.\n",
            "  import pandas.util.testing as tm\n"
          ]
        }
      ]
    },
    {
      "cell_type": "code",
      "metadata": {
        "colab": {
          "base_uri": "https://localhost:8080/",
          "height": 1000,
          "referenced_widgets": [
            "9a6c003d4e444f5bb825240bca60fbe1"
          ]
        },
        "id": "AG2rRJszmc67",
        "outputId": "aef9c711-437e-4b88-aa2a-ee8b5aa16352"
      },
      "source": [
        "## CATBOOST\n",
        "categorical_features_indices = np.where(type(X_train)!= np.float )[0]\n",
        "#importing library and building model\n",
        "from catboost import CatBoostClassifier\n",
        "model5=CatBoostClassifier(iterations=300, depth=6, learning_rate=0.23)\n",
        "model5.fit(X_train, y_train,cat_features=categorical_features_indices,eval_set=(X_val, y_val),plot=True)\n",
        "y_pred_val = np.abs(np.round(model5.predict(X_val))).astype(int)\n",
        "print(y_pred_val)\n",
        "from sklearn.metrics import accuracy_score\n",
        "accuracy_score(y_val, y_pred_val)\n"
      ],
      "execution_count": 172,
      "outputs": [
        {
          "output_type": "display_data",
          "data": {
            "application/vnd.jupyter.widget-view+json": {
              "model_id": "9a6c003d4e444f5bb825240bca60fbe1",
              "version_minor": 0,
              "version_major": 2
            },
            "text/plain": [
              "MetricVisualizer(layout=Layout(align_self='stretch', height='500px'))"
            ]
          },
          "metadata": {}
        },
        {
          "output_type": "stream",
          "name": "stdout",
          "text": [
            "0:\tlearn: 0.5694629\ttest: 0.5690982\tbest: 0.5690982 (0)\ttotal: 44.5ms\tremaining: 13.3s\n",
            "1:\tlearn: 0.5044713\ttest: 0.5035856\tbest: 0.5035856 (1)\ttotal: 86.5ms\tremaining: 12.9s\n",
            "2:\tlearn: 0.4694263\ttest: 0.4689189\tbest: 0.4689189 (2)\ttotal: 130ms\tremaining: 12.8s\n",
            "3:\tlearn: 0.4452888\ttest: 0.4450754\tbest: 0.4450754 (3)\ttotal: 173ms\tremaining: 12.8s\n",
            "4:\tlearn: 0.4295761\ttest: 0.4294427\tbest: 0.4294427 (4)\ttotal: 217ms\tremaining: 12.8s\n",
            "5:\tlearn: 0.4146310\ttest: 0.4141218\tbest: 0.4141218 (5)\ttotal: 264ms\tremaining: 12.9s\n",
            "6:\tlearn: 0.4054106\ttest: 0.4055502\tbest: 0.4055502 (6)\ttotal: 310ms\tremaining: 13s\n",
            "7:\tlearn: 0.3995083\ttest: 0.3995235\tbest: 0.3995235 (7)\ttotal: 357ms\tremaining: 13s\n",
            "8:\tlearn: 0.3937030\ttest: 0.3938884\tbest: 0.3938884 (8)\ttotal: 400ms\tremaining: 12.9s\n",
            "9:\tlearn: 0.3892642\ttest: 0.3893312\tbest: 0.3893312 (9)\ttotal: 441ms\tremaining: 12.8s\n",
            "10:\tlearn: 0.3850323\ttest: 0.3853637\tbest: 0.3853637 (10)\ttotal: 489ms\tremaining: 12.8s\n",
            "11:\tlearn: 0.3818689\ttest: 0.3822442\tbest: 0.3822442 (11)\ttotal: 530ms\tremaining: 12.7s\n",
            "12:\tlearn: 0.3789986\ttest: 0.3796619\tbest: 0.3796619 (12)\ttotal: 571ms\tremaining: 12.6s\n",
            "13:\tlearn: 0.3766320\ttest: 0.3777141\tbest: 0.3777141 (13)\ttotal: 611ms\tremaining: 12.5s\n",
            "14:\tlearn: 0.3744003\ttest: 0.3758702\tbest: 0.3758702 (14)\ttotal: 656ms\tremaining: 12.5s\n",
            "15:\tlearn: 0.3725546\ttest: 0.3742131\tbest: 0.3742131 (15)\ttotal: 698ms\tremaining: 12.4s\n",
            "16:\tlearn: 0.3703216\ttest: 0.3723574\tbest: 0.3723574 (16)\ttotal: 742ms\tremaining: 12.4s\n",
            "17:\tlearn: 0.3682334\ttest: 0.3702851\tbest: 0.3702851 (17)\ttotal: 782ms\tremaining: 12.3s\n",
            "18:\tlearn: 0.3666077\ttest: 0.3690159\tbest: 0.3690159 (18)\ttotal: 824ms\tremaining: 12.2s\n",
            "19:\tlearn: 0.3652579\ttest: 0.3678346\tbest: 0.3678346 (19)\ttotal: 864ms\tremaining: 12.1s\n",
            "20:\tlearn: 0.3632256\ttest: 0.3656124\tbest: 0.3656124 (20)\ttotal: 923ms\tremaining: 12.3s\n",
            "21:\tlearn: 0.3618449\ttest: 0.3643714\tbest: 0.3643714 (21)\ttotal: 968ms\tremaining: 12.2s\n",
            "22:\tlearn: 0.3586110\ttest: 0.3615700\tbest: 0.3615700 (22)\ttotal: 1.01s\tremaining: 12.1s\n",
            "23:\tlearn: 0.3573188\ttest: 0.3604937\tbest: 0.3604937 (23)\ttotal: 1.05s\tremaining: 12s\n",
            "24:\tlearn: 0.3547293\ttest: 0.3580358\tbest: 0.3580358 (24)\ttotal: 1.09s\tremaining: 11.9s\n",
            "25:\tlearn: 0.3536361\ttest: 0.3573978\tbest: 0.3573978 (25)\ttotal: 1.13s\tremaining: 11.9s\n",
            "26:\tlearn: 0.3516934\ttest: 0.3560909\tbest: 0.3560909 (26)\ttotal: 1.17s\tremaining: 11.8s\n",
            "27:\tlearn: 0.3510833\ttest: 0.3554764\tbest: 0.3554764 (27)\ttotal: 1.21s\tremaining: 11.7s\n",
            "28:\tlearn: 0.3499812\ttest: 0.3549008\tbest: 0.3549008 (28)\ttotal: 1.25s\tremaining: 11.7s\n",
            "29:\tlearn: 0.3492311\ttest: 0.3544034\tbest: 0.3544034 (29)\ttotal: 1.29s\tremaining: 11.6s\n",
            "30:\tlearn: 0.3484929\ttest: 0.3537614\tbest: 0.3537614 (30)\ttotal: 1.33s\tremaining: 11.5s\n",
            "31:\tlearn: 0.3477352\ttest: 0.3531721\tbest: 0.3531721 (31)\ttotal: 1.37s\tremaining: 11.5s\n",
            "32:\tlearn: 0.3468299\ttest: 0.3525871\tbest: 0.3525871 (32)\ttotal: 1.41s\tremaining: 11.4s\n",
            "33:\tlearn: 0.3461257\ttest: 0.3523846\tbest: 0.3523846 (33)\ttotal: 1.45s\tremaining: 11.4s\n",
            "34:\tlearn: 0.3450561\ttest: 0.3512957\tbest: 0.3512957 (34)\ttotal: 1.5s\tremaining: 11.3s\n",
            "35:\tlearn: 0.3444601\ttest: 0.3510675\tbest: 0.3510675 (35)\ttotal: 1.55s\tremaining: 11.3s\n",
            "36:\tlearn: 0.3433978\ttest: 0.3500949\tbest: 0.3500949 (36)\ttotal: 1.59s\tremaining: 11.3s\n",
            "37:\tlearn: 0.3429697\ttest: 0.3499034\tbest: 0.3499034 (37)\ttotal: 1.62s\tremaining: 11.2s\n",
            "38:\tlearn: 0.3425491\ttest: 0.3497513\tbest: 0.3497513 (38)\ttotal: 1.67s\tremaining: 11.1s\n",
            "39:\tlearn: 0.3419561\ttest: 0.3493247\tbest: 0.3493247 (39)\ttotal: 1.7s\tremaining: 11.1s\n",
            "40:\tlearn: 0.3412744\ttest: 0.3490016\tbest: 0.3490016 (40)\ttotal: 1.76s\tremaining: 11.1s\n",
            "41:\tlearn: 0.3407583\ttest: 0.3488795\tbest: 0.3488795 (41)\ttotal: 1.81s\tremaining: 11.1s\n",
            "42:\tlearn: 0.3404559\ttest: 0.3488750\tbest: 0.3488750 (42)\ttotal: 1.85s\tremaining: 11s\n",
            "43:\tlearn: 0.3400432\ttest: 0.3487255\tbest: 0.3487255 (43)\ttotal: 1.88s\tremaining: 11s\n",
            "44:\tlearn: 0.3388882\ttest: 0.3474836\tbest: 0.3474836 (44)\ttotal: 1.93s\tremaining: 10.9s\n",
            "45:\tlearn: 0.3382446\ttest: 0.3472452\tbest: 0.3472452 (45)\ttotal: 1.98s\tremaining: 10.9s\n",
            "46:\tlearn: 0.3376380\ttest: 0.3467244\tbest: 0.3467244 (46)\ttotal: 2.02s\tremaining: 10.9s\n",
            "47:\tlearn: 0.3366639\ttest: 0.3461628\tbest: 0.3461628 (47)\ttotal: 2.06s\tremaining: 10.8s\n",
            "48:\tlearn: 0.3361157\ttest: 0.3458526\tbest: 0.3458526 (48)\ttotal: 2.1s\tremaining: 10.8s\n",
            "49:\tlearn: 0.3352658\ttest: 0.3452999\tbest: 0.3452999 (49)\ttotal: 2.14s\tremaining: 10.7s\n",
            "50:\tlearn: 0.3339961\ttest: 0.3439030\tbest: 0.3439030 (50)\ttotal: 2.2s\tremaining: 10.7s\n",
            "51:\tlearn: 0.3331768\ttest: 0.3435143\tbest: 0.3435143 (51)\ttotal: 2.24s\tremaining: 10.7s\n",
            "52:\tlearn: 0.3324534\ttest: 0.3433903\tbest: 0.3433903 (52)\ttotal: 2.28s\tremaining: 10.6s\n",
            "53:\tlearn: 0.3316476\ttest: 0.3427160\tbest: 0.3427160 (53)\ttotal: 2.33s\tremaining: 10.6s\n",
            "54:\tlearn: 0.3309185\ttest: 0.3420234\tbest: 0.3420234 (54)\ttotal: 2.37s\tremaining: 10.5s\n",
            "55:\tlearn: 0.3304226\ttest: 0.3416637\tbest: 0.3416637 (55)\ttotal: 2.41s\tremaining: 10.5s\n",
            "56:\tlearn: 0.3299001\ttest: 0.3414953\tbest: 0.3414953 (56)\ttotal: 2.45s\tremaining: 10.4s\n",
            "57:\tlearn: 0.3290187\ttest: 0.3408793\tbest: 0.3408793 (57)\ttotal: 2.5s\tremaining: 10.4s\n",
            "58:\tlearn: 0.3283064\ttest: 0.3402519\tbest: 0.3402519 (58)\ttotal: 2.54s\tremaining: 10.4s\n",
            "59:\tlearn: 0.3275347\ttest: 0.3397488\tbest: 0.3397488 (59)\ttotal: 2.58s\tremaining: 10.3s\n",
            "60:\tlearn: 0.3270136\ttest: 0.3397087\tbest: 0.3397087 (60)\ttotal: 2.62s\tremaining: 10.3s\n",
            "61:\tlearn: 0.3263324\ttest: 0.3392190\tbest: 0.3392190 (61)\ttotal: 2.66s\tremaining: 10.2s\n",
            "62:\tlearn: 0.3258578\ttest: 0.3390506\tbest: 0.3390506 (62)\ttotal: 2.7s\tremaining: 10.2s\n",
            "63:\tlearn: 0.3253057\ttest: 0.3386117\tbest: 0.3386117 (63)\ttotal: 2.76s\tremaining: 10.2s\n",
            "64:\tlearn: 0.3246850\ttest: 0.3385554\tbest: 0.3385554 (64)\ttotal: 2.8s\tremaining: 10.1s\n",
            "65:\tlearn: 0.3241886\ttest: 0.3382388\tbest: 0.3382388 (65)\ttotal: 2.85s\tremaining: 10.1s\n",
            "66:\tlearn: 0.3236346\ttest: 0.3380026\tbest: 0.3380026 (66)\ttotal: 2.89s\tremaining: 10s\n",
            "67:\tlearn: 0.3231428\ttest: 0.3376984\tbest: 0.3376984 (67)\ttotal: 2.93s\tremaining: 9.99s\n",
            "68:\tlearn: 0.3226290\ttest: 0.3374053\tbest: 0.3374053 (68)\ttotal: 2.98s\tremaining: 9.96s\n",
            "69:\tlearn: 0.3221941\ttest: 0.3373541\tbest: 0.3373541 (69)\ttotal: 3.01s\tremaining: 9.91s\n",
            "70:\tlearn: 0.3215784\ttest: 0.3370719\tbest: 0.3370719 (70)\ttotal: 3.06s\tremaining: 9.88s\n",
            "71:\tlearn: 0.3211863\ttest: 0.3369950\tbest: 0.3369950 (71)\ttotal: 3.1s\tremaining: 9.83s\n",
            "72:\tlearn: 0.3207540\ttest: 0.3368116\tbest: 0.3368116 (72)\ttotal: 3.14s\tremaining: 9.77s\n",
            "73:\tlearn: 0.3202263\ttest: 0.3366369\tbest: 0.3366369 (73)\ttotal: 3.19s\tremaining: 9.74s\n",
            "74:\tlearn: 0.3198584\ttest: 0.3365899\tbest: 0.3365899 (74)\ttotal: 3.23s\tremaining: 9.69s\n",
            "75:\tlearn: 0.3192927\ttest: 0.3360934\tbest: 0.3360934 (75)\ttotal: 3.27s\tremaining: 9.65s\n",
            "76:\tlearn: 0.3187034\ttest: 0.3360327\tbest: 0.3360327 (76)\ttotal: 3.31s\tremaining: 9.6s\n",
            "77:\tlearn: 0.3179950\ttest: 0.3356062\tbest: 0.3356062 (77)\ttotal: 3.36s\tremaining: 9.56s\n",
            "78:\tlearn: 0.3176154\ttest: 0.3356841\tbest: 0.3356062 (77)\ttotal: 3.4s\tremaining: 9.51s\n",
            "79:\tlearn: 0.3171157\ttest: 0.3355727\tbest: 0.3355727 (79)\ttotal: 3.44s\tremaining: 9.46s\n",
            "80:\tlearn: 0.3167050\ttest: 0.3354453\tbest: 0.3354453 (80)\ttotal: 3.48s\tremaining: 9.42s\n",
            "81:\tlearn: 0.3162875\ttest: 0.3353754\tbest: 0.3353754 (81)\ttotal: 3.53s\tremaining: 9.39s\n",
            "82:\tlearn: 0.3159092\ttest: 0.3353962\tbest: 0.3353754 (81)\ttotal: 3.57s\tremaining: 9.34s\n",
            "83:\tlearn: 0.3154087\ttest: 0.3352631\tbest: 0.3352631 (83)\ttotal: 3.61s\tremaining: 9.29s\n",
            "84:\tlearn: 0.3150294\ttest: 0.3352220\tbest: 0.3352220 (84)\ttotal: 3.65s\tremaining: 9.24s\n",
            "85:\tlearn: 0.3144245\ttest: 0.3352193\tbest: 0.3352193 (85)\ttotal: 3.69s\tremaining: 9.19s\n",
            "86:\tlearn: 0.3140105\ttest: 0.3350784\tbest: 0.3350784 (86)\ttotal: 3.74s\tremaining: 9.17s\n",
            "87:\tlearn: 0.3136573\ttest: 0.3351567\tbest: 0.3350784 (86)\ttotal: 3.79s\tremaining: 9.12s\n",
            "88:\tlearn: 0.3131840\ttest: 0.3350644\tbest: 0.3350644 (88)\ttotal: 3.83s\tremaining: 9.07s\n",
            "89:\tlearn: 0.3128907\ttest: 0.3351821\tbest: 0.3350644 (88)\ttotal: 3.87s\tremaining: 9.03s\n",
            "90:\tlearn: 0.3122978\ttest: 0.3353044\tbest: 0.3350644 (88)\ttotal: 3.92s\tremaining: 8.99s\n",
            "91:\tlearn: 0.3118519\ttest: 0.3352176\tbest: 0.3350644 (88)\ttotal: 3.96s\tremaining: 8.96s\n",
            "92:\tlearn: 0.3114113\ttest: 0.3351120\tbest: 0.3350644 (88)\ttotal: 4s\tremaining: 8.91s\n",
            "93:\tlearn: 0.3110504\ttest: 0.3350774\tbest: 0.3350644 (88)\ttotal: 4.04s\tremaining: 8.86s\n",
            "94:\tlearn: 0.3106941\ttest: 0.3351269\tbest: 0.3350644 (88)\ttotal: 4.08s\tremaining: 8.8s\n",
            "95:\tlearn: 0.3103683\ttest: 0.3350193\tbest: 0.3350193 (95)\ttotal: 4.12s\tremaining: 8.76s\n",
            "96:\tlearn: 0.3101350\ttest: 0.3349897\tbest: 0.3349897 (96)\ttotal: 4.16s\tremaining: 8.71s\n",
            "97:\tlearn: 0.3096997\ttest: 0.3349520\tbest: 0.3349520 (97)\ttotal: 4.2s\tremaining: 8.67s\n",
            "98:\tlearn: 0.3091638\ttest: 0.3347442\tbest: 0.3347442 (98)\ttotal: 4.25s\tremaining: 8.62s\n",
            "99:\tlearn: 0.3088163\ttest: 0.3346918\tbest: 0.3346918 (99)\ttotal: 4.29s\tremaining: 8.58s\n",
            "100:\tlearn: 0.3083974\ttest: 0.3347212\tbest: 0.3346918 (99)\ttotal: 4.33s\tremaining: 8.53s\n",
            "101:\tlearn: 0.3081328\ttest: 0.3346889\tbest: 0.3346889 (101)\ttotal: 4.37s\tremaining: 8.48s\n",
            "102:\tlearn: 0.3079190\ttest: 0.3346581\tbest: 0.3346581 (102)\ttotal: 4.41s\tremaining: 8.43s\n",
            "103:\tlearn: 0.3076200\ttest: 0.3347072\tbest: 0.3346581 (102)\ttotal: 4.45s\tremaining: 8.38s\n",
            "104:\tlearn: 0.3072518\ttest: 0.3345739\tbest: 0.3345739 (104)\ttotal: 4.49s\tremaining: 8.33s\n",
            "105:\tlearn: 0.3066861\ttest: 0.3345509\tbest: 0.3345509 (105)\ttotal: 4.54s\tremaining: 8.31s\n",
            "106:\tlearn: 0.3063135\ttest: 0.3346281\tbest: 0.3345509 (105)\ttotal: 4.58s\tremaining: 8.27s\n",
            "107:\tlearn: 0.3059460\ttest: 0.3346630\tbest: 0.3345509 (105)\ttotal: 4.63s\tremaining: 8.22s\n",
            "108:\tlearn: 0.3056971\ttest: 0.3345937\tbest: 0.3345509 (105)\ttotal: 4.67s\tremaining: 8.18s\n",
            "109:\tlearn: 0.3053687\ttest: 0.3343918\tbest: 0.3343918 (109)\ttotal: 4.71s\tremaining: 8.13s\n",
            "110:\tlearn: 0.3050216\ttest: 0.3343129\tbest: 0.3343129 (110)\ttotal: 4.76s\tremaining: 8.1s\n",
            "111:\tlearn: 0.3046454\ttest: 0.3343192\tbest: 0.3343129 (110)\ttotal: 4.81s\tremaining: 8.07s\n",
            "112:\tlearn: 0.3040468\ttest: 0.3340952\tbest: 0.3340952 (112)\ttotal: 4.85s\tremaining: 8.03s\n",
            "113:\tlearn: 0.3037954\ttest: 0.3340910\tbest: 0.3340910 (113)\ttotal: 4.89s\tremaining: 7.98s\n",
            "114:\tlearn: 0.3035024\ttest: 0.3339008\tbest: 0.3339008 (114)\ttotal: 4.93s\tremaining: 7.93s\n",
            "115:\tlearn: 0.3030800\ttest: 0.3338550\tbest: 0.3338550 (115)\ttotal: 4.98s\tremaining: 7.91s\n",
            "116:\tlearn: 0.3027204\ttest: 0.3338381\tbest: 0.3338381 (116)\ttotal: 5.02s\tremaining: 7.86s\n",
            "117:\tlearn: 0.3024801\ttest: 0.3338426\tbest: 0.3338381 (116)\ttotal: 5.06s\tremaining: 7.81s\n",
            "118:\tlearn: 0.3021715\ttest: 0.3340103\tbest: 0.3338381 (116)\ttotal: 5.1s\tremaining: 7.76s\n",
            "119:\tlearn: 0.3019129\ttest: 0.3340806\tbest: 0.3338381 (116)\ttotal: 5.14s\tremaining: 7.71s\n",
            "120:\tlearn: 0.3015271\ttest: 0.3338840\tbest: 0.3338381 (116)\ttotal: 5.19s\tremaining: 7.67s\n",
            "121:\tlearn: 0.3011471\ttest: 0.3336924\tbest: 0.3336924 (121)\ttotal: 5.23s\tremaining: 7.63s\n",
            "122:\tlearn: 0.3008941\ttest: 0.3337650\tbest: 0.3336924 (121)\ttotal: 5.27s\tremaining: 7.58s\n",
            "123:\tlearn: 0.3006143\ttest: 0.3338048\tbest: 0.3336924 (121)\ttotal: 5.31s\tremaining: 7.53s\n",
            "124:\tlearn: 0.3002677\ttest: 0.3339759\tbest: 0.3336924 (121)\ttotal: 5.35s\tremaining: 7.49s\n",
            "125:\tlearn: 0.2999673\ttest: 0.3339636\tbest: 0.3336924 (121)\ttotal: 5.4s\tremaining: 7.46s\n",
            "126:\tlearn: 0.2997286\ttest: 0.3339159\tbest: 0.3336924 (121)\ttotal: 5.44s\tremaining: 7.41s\n",
            "127:\tlearn: 0.2995459\ttest: 0.3338679\tbest: 0.3336924 (121)\ttotal: 5.48s\tremaining: 7.37s\n",
            "128:\tlearn: 0.2992999\ttest: 0.3340205\tbest: 0.3336924 (121)\ttotal: 5.52s\tremaining: 7.32s\n",
            "129:\tlearn: 0.2989436\ttest: 0.3340176\tbest: 0.3336924 (121)\ttotal: 5.56s\tremaining: 7.27s\n",
            "130:\tlearn: 0.2987802\ttest: 0.3340923\tbest: 0.3336924 (121)\ttotal: 5.61s\tremaining: 7.23s\n",
            "131:\tlearn: 0.2984566\ttest: 0.3341428\tbest: 0.3336924 (121)\ttotal: 5.64s\tremaining: 7.18s\n",
            "132:\tlearn: 0.2981763\ttest: 0.3341032\tbest: 0.3336924 (121)\ttotal: 5.68s\tremaining: 7.14s\n",
            "133:\tlearn: 0.2978991\ttest: 0.3341717\tbest: 0.3336924 (121)\ttotal: 5.73s\tremaining: 7.09s\n",
            "134:\tlearn: 0.2975232\ttest: 0.3342107\tbest: 0.3336924 (121)\ttotal: 5.77s\tremaining: 7.06s\n",
            "135:\tlearn: 0.2972676\ttest: 0.3343296\tbest: 0.3336924 (121)\ttotal: 5.83s\tremaining: 7.03s\n",
            "136:\tlearn: 0.2969222\ttest: 0.3343350\tbest: 0.3336924 (121)\ttotal: 5.87s\tremaining: 6.98s\n",
            "137:\tlearn: 0.2965610\ttest: 0.3341742\tbest: 0.3336924 (121)\ttotal: 5.91s\tremaining: 6.94s\n",
            "138:\tlearn: 0.2963186\ttest: 0.3343814\tbest: 0.3336924 (121)\ttotal: 5.95s\tremaining: 6.89s\n",
            "139:\tlearn: 0.2957846\ttest: 0.3342009\tbest: 0.3336924 (121)\ttotal: 5.99s\tremaining: 6.85s\n",
            "140:\tlearn: 0.2953867\ttest: 0.3342543\tbest: 0.3336924 (121)\ttotal: 6.04s\tremaining: 6.81s\n",
            "141:\tlearn: 0.2950186\ttest: 0.3342127\tbest: 0.3336924 (121)\ttotal: 6.08s\tremaining: 6.76s\n",
            "142:\tlearn: 0.2947111\ttest: 0.3342900\tbest: 0.3336924 (121)\ttotal: 6.12s\tremaining: 6.72s\n",
            "143:\tlearn: 0.2944475\ttest: 0.3343732\tbest: 0.3336924 (121)\ttotal: 6.16s\tremaining: 6.67s\n",
            "144:\tlearn: 0.2941131\ttest: 0.3341928\tbest: 0.3336924 (121)\ttotal: 6.2s\tremaining: 6.63s\n",
            "145:\tlearn: 0.2937705\ttest: 0.3342870\tbest: 0.3336924 (121)\ttotal: 6.25s\tremaining: 6.59s\n",
            "146:\tlearn: 0.2934325\ttest: 0.3344096\tbest: 0.3336924 (121)\ttotal: 6.29s\tremaining: 6.54s\n",
            "147:\tlearn: 0.2930729\ttest: 0.3342606\tbest: 0.3336924 (121)\ttotal: 6.33s\tremaining: 6.5s\n",
            "148:\tlearn: 0.2928416\ttest: 0.3342442\tbest: 0.3336924 (121)\ttotal: 6.37s\tremaining: 6.45s\n",
            "149:\tlearn: 0.2926025\ttest: 0.3343215\tbest: 0.3336924 (121)\ttotal: 6.41s\tremaining: 6.41s\n",
            "150:\tlearn: 0.2923552\ttest: 0.3342413\tbest: 0.3336924 (121)\ttotal: 6.45s\tremaining: 6.36s\n",
            "151:\tlearn: 0.2921956\ttest: 0.3343694\tbest: 0.3336924 (121)\ttotal: 6.49s\tremaining: 6.32s\n",
            "152:\tlearn: 0.2919389\ttest: 0.3343319\tbest: 0.3336924 (121)\ttotal: 6.53s\tremaining: 6.27s\n",
            "153:\tlearn: 0.2916608\ttest: 0.3343139\tbest: 0.3336924 (121)\ttotal: 6.56s\tremaining: 6.22s\n",
            "154:\tlearn: 0.2915257\ttest: 0.3343435\tbest: 0.3336924 (121)\ttotal: 6.6s\tremaining: 6.17s\n",
            "155:\tlearn: 0.2912390\ttest: 0.3340885\tbest: 0.3336924 (121)\ttotal: 6.64s\tremaining: 6.13s\n",
            "156:\tlearn: 0.2911024\ttest: 0.3341210\tbest: 0.3336924 (121)\ttotal: 6.68s\tremaining: 6.09s\n",
            "157:\tlearn: 0.2907466\ttest: 0.3340424\tbest: 0.3336924 (121)\ttotal: 6.73s\tremaining: 6.04s\n",
            "158:\tlearn: 0.2905441\ttest: 0.3341473\tbest: 0.3336924 (121)\ttotal: 6.77s\tremaining: 6s\n",
            "159:\tlearn: 0.2901615\ttest: 0.3342975\tbest: 0.3336924 (121)\ttotal: 6.82s\tremaining: 5.97s\n",
            "160:\tlearn: 0.2898861\ttest: 0.3342234\tbest: 0.3336924 (121)\ttotal: 6.86s\tremaining: 5.92s\n",
            "161:\tlearn: 0.2896797\ttest: 0.3342208\tbest: 0.3336924 (121)\ttotal: 6.9s\tremaining: 5.88s\n",
            "162:\tlearn: 0.2891923\ttest: 0.3337942\tbest: 0.3336924 (121)\ttotal: 6.94s\tremaining: 5.83s\n",
            "163:\tlearn: 0.2889103\ttest: 0.3338729\tbest: 0.3336924 (121)\ttotal: 6.99s\tremaining: 5.8s\n",
            "164:\tlearn: 0.2886090\ttest: 0.3338124\tbest: 0.3336924 (121)\ttotal: 7.03s\tremaining: 5.75s\n",
            "165:\tlearn: 0.2883264\ttest: 0.3337963\tbest: 0.3336924 (121)\ttotal: 7.07s\tremaining: 5.71s\n",
            "166:\tlearn: 0.2879363\ttest: 0.3337733\tbest: 0.3336924 (121)\ttotal: 7.11s\tremaining: 5.66s\n",
            "167:\tlearn: 0.2878167\ttest: 0.3338123\tbest: 0.3336924 (121)\ttotal: 7.16s\tremaining: 5.62s\n",
            "168:\tlearn: 0.2876791\ttest: 0.3337846\tbest: 0.3336924 (121)\ttotal: 7.19s\tremaining: 5.58s\n",
            "169:\tlearn: 0.2873958\ttest: 0.3336918\tbest: 0.3336918 (169)\ttotal: 7.23s\tremaining: 5.53s\n",
            "170:\tlearn: 0.2870770\ttest: 0.3337309\tbest: 0.3336918 (169)\ttotal: 7.27s\tremaining: 5.49s\n",
            "171:\tlearn: 0.2867853\ttest: 0.3336273\tbest: 0.3336273 (171)\ttotal: 7.31s\tremaining: 5.44s\n",
            "172:\tlearn: 0.2864813\ttest: 0.3337385\tbest: 0.3336273 (171)\ttotal: 7.36s\tremaining: 5.4s\n",
            "173:\tlearn: 0.2861230\ttest: 0.3336355\tbest: 0.3336273 (171)\ttotal: 7.4s\tremaining: 5.36s\n",
            "174:\tlearn: 0.2858749\ttest: 0.3336556\tbest: 0.3336273 (171)\ttotal: 7.44s\tremaining: 5.31s\n",
            "175:\tlearn: 0.2854863\ttest: 0.3337131\tbest: 0.3336273 (171)\ttotal: 7.48s\tremaining: 5.27s\n",
            "176:\tlearn: 0.2851728\ttest: 0.3339488\tbest: 0.3336273 (171)\ttotal: 7.52s\tremaining: 5.23s\n",
            "177:\tlearn: 0.2849840\ttest: 0.3339341\tbest: 0.3336273 (171)\ttotal: 7.56s\tremaining: 5.18s\n",
            "178:\tlearn: 0.2845918\ttest: 0.3337575\tbest: 0.3336273 (171)\ttotal: 7.6s\tremaining: 5.14s\n",
            "179:\tlearn: 0.2843630\ttest: 0.3337587\tbest: 0.3336273 (171)\ttotal: 7.64s\tremaining: 5.1s\n",
            "180:\tlearn: 0.2840123\ttest: 0.3335348\tbest: 0.3335348 (180)\ttotal: 7.69s\tremaining: 5.06s\n",
            "181:\tlearn: 0.2837576\ttest: 0.3336302\tbest: 0.3335348 (180)\ttotal: 7.73s\tremaining: 5.01s\n",
            "182:\tlearn: 0.2833680\ttest: 0.3336032\tbest: 0.3335348 (180)\ttotal: 7.78s\tremaining: 4.97s\n",
            "183:\tlearn: 0.2829677\ttest: 0.3335612\tbest: 0.3335348 (180)\ttotal: 7.84s\tremaining: 4.94s\n",
            "184:\tlearn: 0.2826879\ttest: 0.3337152\tbest: 0.3335348 (180)\ttotal: 7.88s\tremaining: 4.9s\n",
            "185:\tlearn: 0.2824747\ttest: 0.3337046\tbest: 0.3335348 (180)\ttotal: 7.92s\tremaining: 4.86s\n",
            "186:\tlearn: 0.2822759\ttest: 0.3336924\tbest: 0.3335348 (180)\ttotal: 7.97s\tremaining: 4.82s\n",
            "187:\tlearn: 0.2819329\ttest: 0.3337087\tbest: 0.3335348 (180)\ttotal: 8.02s\tremaining: 4.78s\n",
            "188:\tlearn: 0.2817784\ttest: 0.3337463\tbest: 0.3335348 (180)\ttotal: 8.06s\tremaining: 4.73s\n",
            "189:\tlearn: 0.2815550\ttest: 0.3338002\tbest: 0.3335348 (180)\ttotal: 8.1s\tremaining: 4.69s\n",
            "190:\tlearn: 0.2813367\ttest: 0.3337958\tbest: 0.3335348 (180)\ttotal: 8.14s\tremaining: 4.64s\n",
            "191:\tlearn: 0.2810127\ttest: 0.3337575\tbest: 0.3335348 (180)\ttotal: 8.18s\tremaining: 4.6s\n",
            "192:\tlearn: 0.2806685\ttest: 0.3339169\tbest: 0.3335348 (180)\ttotal: 8.23s\tremaining: 4.56s\n",
            "193:\tlearn: 0.2804604\ttest: 0.3339002\tbest: 0.3335348 (180)\ttotal: 8.27s\tremaining: 4.52s\n",
            "194:\tlearn: 0.2801564\ttest: 0.3337150\tbest: 0.3335348 (180)\ttotal: 8.31s\tremaining: 4.47s\n",
            "195:\tlearn: 0.2796996\ttest: 0.3336169\tbest: 0.3335348 (180)\ttotal: 8.35s\tremaining: 4.43s\n",
            "196:\tlearn: 0.2794269\ttest: 0.3336215\tbest: 0.3335348 (180)\ttotal: 8.39s\tremaining: 4.39s\n",
            "197:\tlearn: 0.2790566\ttest: 0.3335818\tbest: 0.3335348 (180)\ttotal: 8.44s\tremaining: 4.35s\n",
            "198:\tlearn: 0.2788812\ttest: 0.3335165\tbest: 0.3335165 (198)\ttotal: 8.48s\tremaining: 4.3s\n",
            "199:\tlearn: 0.2786360\ttest: 0.3335681\tbest: 0.3335165 (198)\ttotal: 8.52s\tremaining: 4.26s\n",
            "200:\tlearn: 0.2784333\ttest: 0.3334178\tbest: 0.3334178 (200)\ttotal: 8.56s\tremaining: 4.22s\n",
            "201:\tlearn: 0.2781187\ttest: 0.3331499\tbest: 0.3331499 (201)\ttotal: 8.61s\tremaining: 4.17s\n",
            "202:\tlearn: 0.2779389\ttest: 0.3333549\tbest: 0.3331499 (201)\ttotal: 8.64s\tremaining: 4.13s\n",
            "203:\tlearn: 0.2776808\ttest: 0.3334674\tbest: 0.3331499 (201)\ttotal: 8.68s\tremaining: 4.09s\n",
            "204:\tlearn: 0.2774080\ttest: 0.3334534\tbest: 0.3331499 (201)\ttotal: 8.72s\tremaining: 4.04s\n",
            "205:\tlearn: 0.2771776\ttest: 0.3334369\tbest: 0.3331499 (201)\ttotal: 8.76s\tremaining: 4s\n",
            "206:\tlearn: 0.2770246\ttest: 0.3333648\tbest: 0.3331499 (201)\ttotal: 8.8s\tremaining: 3.95s\n",
            "207:\tlearn: 0.2767232\ttest: 0.3333191\tbest: 0.3331499 (201)\ttotal: 8.86s\tremaining: 3.92s\n",
            "208:\tlearn: 0.2764270\ttest: 0.3333632\tbest: 0.3331499 (201)\ttotal: 8.9s\tremaining: 3.88s\n",
            "209:\tlearn: 0.2761678\ttest: 0.3333478\tbest: 0.3331499 (201)\ttotal: 8.94s\tremaining: 3.83s\n",
            "210:\tlearn: 0.2757809\ttest: 0.3333416\tbest: 0.3331499 (201)\ttotal: 8.99s\tremaining: 3.79s\n",
            "211:\tlearn: 0.2755243\ttest: 0.3334616\tbest: 0.3331499 (201)\ttotal: 9.03s\tremaining: 3.75s\n",
            "212:\tlearn: 0.2752434\ttest: 0.3333896\tbest: 0.3331499 (201)\ttotal: 9.07s\tremaining: 3.71s\n",
            "213:\tlearn: 0.2749513\ttest: 0.3333399\tbest: 0.3331499 (201)\ttotal: 9.12s\tremaining: 3.66s\n",
            "214:\tlearn: 0.2746821\ttest: 0.3333489\tbest: 0.3331499 (201)\ttotal: 9.15s\tremaining: 3.62s\n",
            "215:\tlearn: 0.2745397\ttest: 0.3333664\tbest: 0.3331499 (201)\ttotal: 9.19s\tremaining: 3.57s\n",
            "216:\tlearn: 0.2743213\ttest: 0.3335181\tbest: 0.3331499 (201)\ttotal: 9.23s\tremaining: 3.53s\n",
            "217:\tlearn: 0.2740237\ttest: 0.3334498\tbest: 0.3331499 (201)\ttotal: 9.27s\tremaining: 3.49s\n",
            "218:\tlearn: 0.2737198\ttest: 0.3333270\tbest: 0.3331499 (201)\ttotal: 9.32s\tremaining: 3.45s\n",
            "219:\tlearn: 0.2735396\ttest: 0.3332923\tbest: 0.3331499 (201)\ttotal: 9.36s\tremaining: 3.4s\n",
            "220:\tlearn: 0.2731883\ttest: 0.3332722\tbest: 0.3331499 (201)\ttotal: 9.4s\tremaining: 3.36s\n",
            "221:\tlearn: 0.2728223\ttest: 0.3333207\tbest: 0.3331499 (201)\ttotal: 9.44s\tremaining: 3.32s\n",
            "222:\tlearn: 0.2724974\ttest: 0.3333426\tbest: 0.3331499 (201)\ttotal: 9.49s\tremaining: 3.27s\n",
            "223:\tlearn: 0.2722457\ttest: 0.3334487\tbest: 0.3331499 (201)\ttotal: 9.53s\tremaining: 3.23s\n",
            "224:\tlearn: 0.2720555\ttest: 0.3335263\tbest: 0.3331499 (201)\ttotal: 9.57s\tremaining: 3.19s\n",
            "225:\tlearn: 0.2717342\ttest: 0.3334217\tbest: 0.3331499 (201)\ttotal: 9.61s\tremaining: 3.15s\n",
            "226:\tlearn: 0.2715174\ttest: 0.3334386\tbest: 0.3331499 (201)\ttotal: 9.65s\tremaining: 3.1s\n",
            "227:\tlearn: 0.2713609\ttest: 0.3334665\tbest: 0.3331499 (201)\ttotal: 9.69s\tremaining: 3.06s\n",
            "228:\tlearn: 0.2710707\ttest: 0.3335772\tbest: 0.3331499 (201)\ttotal: 9.73s\tremaining: 3.02s\n",
            "229:\tlearn: 0.2707298\ttest: 0.3335586\tbest: 0.3331499 (201)\ttotal: 9.77s\tremaining: 2.97s\n",
            "230:\tlearn: 0.2704720\ttest: 0.3336776\tbest: 0.3331499 (201)\ttotal: 9.81s\tremaining: 2.93s\n",
            "231:\tlearn: 0.2702481\ttest: 0.3337552\tbest: 0.3331499 (201)\ttotal: 9.87s\tremaining: 2.89s\n",
            "232:\tlearn: 0.2699512\ttest: 0.3337301\tbest: 0.3331499 (201)\ttotal: 9.92s\tremaining: 2.85s\n",
            "233:\tlearn: 0.2696395\ttest: 0.3338402\tbest: 0.3331499 (201)\ttotal: 9.96s\tremaining: 2.81s\n",
            "234:\tlearn: 0.2693934\ttest: 0.3339207\tbest: 0.3331499 (201)\ttotal: 10s\tremaining: 2.77s\n",
            "235:\tlearn: 0.2691621\ttest: 0.3340338\tbest: 0.3331499 (201)\ttotal: 10s\tremaining: 2.72s\n",
            "236:\tlearn: 0.2688996\ttest: 0.3340811\tbest: 0.3331499 (201)\ttotal: 10.1s\tremaining: 2.68s\n",
            "237:\tlearn: 0.2685794\ttest: 0.3340283\tbest: 0.3331499 (201)\ttotal: 10.1s\tremaining: 2.64s\n",
            "238:\tlearn: 0.2684441\ttest: 0.3339210\tbest: 0.3331499 (201)\ttotal: 10.2s\tremaining: 2.6s\n",
            "239:\tlearn: 0.2684022\ttest: 0.3339000\tbest: 0.3331499 (201)\ttotal: 10.2s\tremaining: 2.55s\n",
            "240:\tlearn: 0.2682139\ttest: 0.3340340\tbest: 0.3331499 (201)\ttotal: 10.3s\tremaining: 2.51s\n",
            "241:\tlearn: 0.2679464\ttest: 0.3340475\tbest: 0.3331499 (201)\ttotal: 10.3s\tremaining: 2.47s\n",
            "242:\tlearn: 0.2678325\ttest: 0.3340018\tbest: 0.3331499 (201)\ttotal: 10.3s\tremaining: 2.42s\n",
            "243:\tlearn: 0.2676512\ttest: 0.3339756\tbest: 0.3331499 (201)\ttotal: 10.4s\tremaining: 2.38s\n",
            "244:\tlearn: 0.2673826\ttest: 0.3340348\tbest: 0.3331499 (201)\ttotal: 10.4s\tremaining: 2.34s\n",
            "245:\tlearn: 0.2672047\ttest: 0.3340671\tbest: 0.3331499 (201)\ttotal: 10.5s\tremaining: 2.29s\n",
            "246:\tlearn: 0.2669327\ttest: 0.3341244\tbest: 0.3331499 (201)\ttotal: 10.5s\tremaining: 2.25s\n",
            "247:\tlearn: 0.2667391\ttest: 0.3341603\tbest: 0.3331499 (201)\ttotal: 10.5s\tremaining: 2.21s\n",
            "248:\tlearn: 0.2665393\ttest: 0.3341811\tbest: 0.3331499 (201)\ttotal: 10.6s\tremaining: 2.17s\n",
            "249:\tlearn: 0.2662718\ttest: 0.3342126\tbest: 0.3331499 (201)\ttotal: 10.6s\tremaining: 2.12s\n",
            "250:\tlearn: 0.2659837\ttest: 0.3342373\tbest: 0.3331499 (201)\ttotal: 10.7s\tremaining: 2.08s\n",
            "251:\tlearn: 0.2656332\ttest: 0.3341555\tbest: 0.3331499 (201)\ttotal: 10.7s\tremaining: 2.04s\n",
            "252:\tlearn: 0.2653847\ttest: 0.3341042\tbest: 0.3331499 (201)\ttotal: 10.7s\tremaining: 1.99s\n",
            "253:\tlearn: 0.2650835\ttest: 0.3340306\tbest: 0.3331499 (201)\ttotal: 10.8s\tremaining: 1.95s\n",
            "254:\tlearn: 0.2648720\ttest: 0.3339382\tbest: 0.3331499 (201)\ttotal: 10.8s\tremaining: 1.91s\n",
            "255:\tlearn: 0.2646246\ttest: 0.3338132\tbest: 0.3331499 (201)\ttotal: 10.9s\tremaining: 1.87s\n",
            "256:\tlearn: 0.2644653\ttest: 0.3338557\tbest: 0.3331499 (201)\ttotal: 10.9s\tremaining: 1.83s\n",
            "257:\tlearn: 0.2643164\ttest: 0.3338043\tbest: 0.3331499 (201)\ttotal: 11s\tremaining: 1.78s\n",
            "258:\tlearn: 0.2640997\ttest: 0.3338103\tbest: 0.3331499 (201)\ttotal: 11s\tremaining: 1.74s\n",
            "259:\tlearn: 0.2637940\ttest: 0.3337467\tbest: 0.3331499 (201)\ttotal: 11.1s\tremaining: 1.7s\n",
            "260:\tlearn: 0.2635049\ttest: 0.3337184\tbest: 0.3331499 (201)\ttotal: 11.1s\tremaining: 1.66s\n",
            "261:\tlearn: 0.2632197\ttest: 0.3337512\tbest: 0.3331499 (201)\ttotal: 11.1s\tremaining: 1.61s\n",
            "262:\tlearn: 0.2630120\ttest: 0.3338658\tbest: 0.3331499 (201)\ttotal: 11.2s\tremaining: 1.57s\n",
            "263:\tlearn: 0.2627374\ttest: 0.3338085\tbest: 0.3331499 (201)\ttotal: 11.2s\tremaining: 1.53s\n",
            "264:\tlearn: 0.2624552\ttest: 0.3337684\tbest: 0.3331499 (201)\ttotal: 11.3s\tremaining: 1.49s\n",
            "265:\tlearn: 0.2621931\ttest: 0.3339174\tbest: 0.3331499 (201)\ttotal: 11.3s\tremaining: 1.44s\n",
            "266:\tlearn: 0.2620538\ttest: 0.3339879\tbest: 0.3331499 (201)\ttotal: 11.3s\tremaining: 1.4s\n",
            "267:\tlearn: 0.2617813\ttest: 0.3339170\tbest: 0.3331499 (201)\ttotal: 11.4s\tremaining: 1.36s\n",
            "268:\tlearn: 0.2616794\ttest: 0.3338778\tbest: 0.3331499 (201)\ttotal: 11.4s\tremaining: 1.31s\n",
            "269:\tlearn: 0.2615231\ttest: 0.3339325\tbest: 0.3331499 (201)\ttotal: 11.5s\tremaining: 1.27s\n",
            "270:\tlearn: 0.2613738\ttest: 0.3338820\tbest: 0.3331499 (201)\ttotal: 11.5s\tremaining: 1.23s\n",
            "271:\tlearn: 0.2610840\ttest: 0.3339367\tbest: 0.3331499 (201)\ttotal: 11.5s\tremaining: 1.19s\n",
            "272:\tlearn: 0.2607623\ttest: 0.3340353\tbest: 0.3331499 (201)\ttotal: 11.6s\tremaining: 1.15s\n",
            "273:\tlearn: 0.2606271\ttest: 0.3341154\tbest: 0.3331499 (201)\ttotal: 11.6s\tremaining: 1.1s\n",
            "274:\tlearn: 0.2604112\ttest: 0.3340817\tbest: 0.3331499 (201)\ttotal: 11.7s\tremaining: 1.06s\n",
            "275:\tlearn: 0.2602821\ttest: 0.3341040\tbest: 0.3331499 (201)\ttotal: 11.7s\tremaining: 1.02s\n",
            "276:\tlearn: 0.2600650\ttest: 0.3342165\tbest: 0.3331499 (201)\ttotal: 11.7s\tremaining: 975ms\n",
            "277:\tlearn: 0.2597708\ttest: 0.3341848\tbest: 0.3331499 (201)\ttotal: 11.8s\tremaining: 932ms\n",
            "278:\tlearn: 0.2594736\ttest: 0.3343562\tbest: 0.3331499 (201)\ttotal: 11.8s\tremaining: 889ms\n",
            "279:\tlearn: 0.2592043\ttest: 0.3343917\tbest: 0.3331499 (201)\ttotal: 11.9s\tremaining: 847ms\n",
            "280:\tlearn: 0.2589551\ttest: 0.3343372\tbest: 0.3331499 (201)\ttotal: 11.9s\tremaining: 805ms\n",
            "281:\tlearn: 0.2587511\ttest: 0.3344328\tbest: 0.3331499 (201)\ttotal: 12s\tremaining: 764ms\n",
            "282:\tlearn: 0.2585476\ttest: 0.3344825\tbest: 0.3331499 (201)\ttotal: 12s\tremaining: 721ms\n",
            "283:\tlearn: 0.2583853\ttest: 0.3344555\tbest: 0.3331499 (201)\ttotal: 12s\tremaining: 679ms\n",
            "284:\tlearn: 0.2582081\ttest: 0.3343945\tbest: 0.3331499 (201)\ttotal: 12.1s\tremaining: 636ms\n",
            "285:\tlearn: 0.2579505\ttest: 0.3344417\tbest: 0.3331499 (201)\ttotal: 12.1s\tremaining: 594ms\n",
            "286:\tlearn: 0.2577132\ttest: 0.3345004\tbest: 0.3331499 (201)\ttotal: 12.2s\tremaining: 551ms\n",
            "287:\tlearn: 0.2576298\ttest: 0.3344482\tbest: 0.3331499 (201)\ttotal: 12.2s\tremaining: 508ms\n",
            "288:\tlearn: 0.2575197\ttest: 0.3343678\tbest: 0.3331499 (201)\ttotal: 12.2s\tremaining: 466ms\n",
            "289:\tlearn: 0.2573925\ttest: 0.3343726\tbest: 0.3331499 (201)\ttotal: 12.3s\tremaining: 423ms\n",
            "290:\tlearn: 0.2572814\ttest: 0.3343455\tbest: 0.3331499 (201)\ttotal: 12.3s\tremaining: 381ms\n",
            "291:\tlearn: 0.2570098\ttest: 0.3344219\tbest: 0.3331499 (201)\ttotal: 12.4s\tremaining: 339ms\n",
            "292:\tlearn: 0.2567962\ttest: 0.3345014\tbest: 0.3331499 (201)\ttotal: 12.4s\tremaining: 296ms\n",
            "293:\tlearn: 0.2566822\ttest: 0.3344590\tbest: 0.3331499 (201)\ttotal: 12.4s\tremaining: 254ms\n",
            "294:\tlearn: 0.2564518\ttest: 0.3345187\tbest: 0.3331499 (201)\ttotal: 12.5s\tremaining: 212ms\n",
            "295:\tlearn: 0.2561142\ttest: 0.3347729\tbest: 0.3331499 (201)\ttotal: 12.5s\tremaining: 169ms\n",
            "296:\tlearn: 0.2558783\ttest: 0.3347747\tbest: 0.3331499 (201)\ttotal: 12.6s\tremaining: 127ms\n",
            "297:\tlearn: 0.2557185\ttest: 0.3349078\tbest: 0.3331499 (201)\ttotal: 12.6s\tremaining: 84.5ms\n",
            "298:\tlearn: 0.2554469\ttest: 0.3350158\tbest: 0.3331499 (201)\ttotal: 12.6s\tremaining: 42.3ms\n",
            "299:\tlearn: 0.2552295\ttest: 0.3349953\tbest: 0.3331499 (201)\ttotal: 12.7s\tremaining: 0us\n",
            "\n",
            "bestTest = 0.3331498739\n",
            "bestIteration = 201\n",
            "\n",
            "Shrink model to first 202 iterations.\n",
            "[1 0 1 ... 1 0 1]\n"
          ]
        },
        {
          "output_type": "execute_result",
          "data": {
            "text/plain": [
              "0.8601670227228588"
            ]
          },
          "metadata": {},
          "execution_count": 172
        }
      ]
    },
    {
      "cell_type": "code",
      "metadata": {
        "colab": {
          "base_uri": "https://localhost:8080/"
        },
        "id": "GzAPco4opaGC",
        "outputId": "a63fee81-1e6f-4fe1-b130-016de2762934"
      },
      "source": [
        "# predicting on test data\n",
        "y_pred5 = np.round(np.abs(model5.predict(X_test))).astype(int)\n",
        "print(y_pred5)"
      ],
      "execution_count": 173,
      "outputs": [
        {
          "output_type": "stream",
          "name": "stdout",
          "text": [
            "[1 0 0 ... 0 1 1]\n"
          ]
        }
      ]
    },
    {
      "cell_type": "code",
      "metadata": {
        "colab": {
          "base_uri": "https://localhost:8080/"
        },
        "id": "ZeOq27brTsCd",
        "outputId": "bd446466-aecd-4f23-93ad-316699e96d8e"
      },
      "source": [
        "y_pred = np.round((y_pred1+y_pred2+y_pred4+y_pred3+y_pred5)/5).astype(int)\n",
        "print(y_pred)"
      ],
      "execution_count": 175,
      "outputs": [
        {
          "output_type": "stream",
          "name": "stdout",
          "text": [
            "[1 0 0 ... 0 1 1]\n"
          ]
        }
      ]
    },
    {
      "cell_type": "code",
      "metadata": {
        "id": "VNIvKIjZpe7I"
      },
      "source": [
        "submission = pd.DataFrame()\n",
        "submission['Id'] = df1['Id']\n",
        "submission['Fault'] = y_pred.reshape((y_pred.shape[0]))\n",
        "submission.to_csv('sub_cat13.csv', index=False)"
      ],
      "execution_count": 138,
      "outputs": []
    }
  ]
}